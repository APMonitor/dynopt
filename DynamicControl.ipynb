{
  "nbformat": 4,
  "nbformat_minor": 0,
  "metadata": {
    "colab": {
      "name": "DynamicControl.ipynb",
      "version": "0.3.2",
      "provenance": [],
      "collapsed_sections": [],
      "toc_visible": true,
      "include_colab_link": true
    },
    "kernelspec": {
      "name": "python3",
      "display_name": "Python 3"
    }
  },
  "cells": [
    {
      "cell_type": "markdown",
      "metadata": {
        "id": "view-in-github",
        "colab_type": "text"
      },
      "source": [
        "<a href=\"https://colab.research.google.com/github/misbahsy/APMonitor-do/blob/master/DynamicControl.ipynb\" target=\"_parent\"><img src=\"https://colab.research.google.com/assets/colab-badge.svg\" alt=\"Open In Colab\"/></a>"
      ]
    },
    {
      "metadata": {
        "id": "Mo20FJemucfM",
        "colab_type": "text"
      },
      "cell_type": "markdown",
      "source": [
        "#Dynamic Control Introduction"
      ]
    },
    {
      "metadata": {
        "id": "UpCOdSJwumQ2",
        "colab_type": "text"
      },
      "cell_type": "markdown",
      "source": [
        "<p class='vspace'>Dynamic control is a method to use model predictions to plan an optimized future trajectory for time-varying systems. It is often referred to as Model Predictive Control (MPC) or Dynamic Optimization.\n",
        "</p>\n",
        "<div class='vspace'></div><ul><li><a class='urllink' href='http://apmonitor.com/do/uploads/Main/Intro_Dynamic_Control.pdf' rel='nofollow'>Introduction to Dynamic Control/Optimization (pdf)</a>\n"
      ]
    },
    {
      "metadata": {
        "id": "Py51bdRBuWBx",
        "colab_type": "code",
        "colab": {
          "base_uri": "https://localhost:8080/",
          "height": 336
        },
        "cellView": "form",
        "outputId": "4df1571d-5459-4ab0-b031-b0c511e5be1d"
      },
      "cell_type": "code",
      "source": [
        "#@title\n",
        "%%html\n",
        "<iframe width=\"560\" height=\"315\" src=\"https://www.youtube.com/embed/DFqOf5wbQtc?rel=0\" frameborder=\"0\" allowfullscreen></iframe>\n"
      ],
      "execution_count": 1,
      "outputs": [
        {
          "output_type": "display_data",
          "data": {
            "text/html": [
              "<iframe width=\"560\" height=\"315\" src=\"https://www.youtube.com/embed/DFqOf5wbQtc?rel=0\" frameborder=\"0\" allowfullscreen></iframe>"
            ],
            "text/plain": [
              "<IPython.core.display.HTML object>"
            ]
          },
          "metadata": {
            "tags": []
          }
        }
      ]
    },
    {
      "metadata": {
        "id": "Ygsa350AuyHl",
        "colab_type": "text"
      },
      "cell_type": "markdown",
      "source": [
        "<p class='vspace'>A method to solve dynamic control problems is by numerically integrating the dynamic model at discrete time intervals, much like measuring a physical system at particular time points. The numerical solution is compared to a desired trajectory and the difference is minimized by adjustable parameters in the model that may change at every time step. The first control action is taken and then the entire process is repeated at the next time instance. The process is repeated because objective targets may change or updated measurements may have adjusted parameter or state estimates.\n",
        "</p>"
      ]
    },
    {
      "metadata": {
        "id": "mfhoXypau-sf",
        "colab_type": "text"
      },
      "cell_type": "markdown",
      "source": [
        "##Exercise\n",
        "<p><strong>Objective:</strong> Implement a model predictive controller that automatically regulates vehicle velocity. Implement the controller in Excel, MATLAB, Python, or Simulink and tune the controller for acceptable performance. Discuss factors that may be important for evaluating controller performance. <em>Estimated time: 1 hour</em>\n",
        "</p>\n",
        "<p class='vspace'>The dynamic relationship between a vehicle gas pedal position (MV) and velocity (CV) is given by the following set of conditions and a single dynamic equation.\n",
        "</p>\n",
        "<div class='vspace'></div><pre> Constants\n",
        "   m = 500 ! Mass (kg)\n",
        " Parameters\n",
        "   b = 50  ! Resistive coefficient (N-s/m)  \n",
        "   K = 0.8 ! Gain (m/s-%pedal)\n",
        "   p = 0 &gt;= 0 &lt;= 100  ! Gas pedal position (%)\n",
        " Variables\n",
        "   v = 0 ! initial condition\n",
        " Equations\n",
        "   m * $v = -v * b + K * b * p\n",
        "</pre><p class='vspace'>Implement a model predictive controller that adjusts gas pedal position to regulate velocity. Start at an initial vehicle velocity of 0 m/s and accelerate to a velocity of 40 m/s.\n",
        "</p>\n",
        "<p class='vspace'>Discuss the controller performance and how it could be tuned to meet multiple objectives including:\n",
        "</p>\n",
        "<div class='vspace'></div><ul><li>minimize travel time\n",
        "</li><li>remain within speed limits\n",
        "</li><li>improve vehicle fuel efficiency\n",
        "</li><li>discourage excessive gas pedal adjustments\n",
        "</li><li>do not accelerate excessively\n",
        "</li></ul><p class='vspace'>There is no need to implement these advanced objectives in simulation for this second part of the exercise, only discuss the possible competing objectives.\n",
        "</p>\n",
        "\n",
        "##Solution\n",
        "<div><img src='http://apmonitor.com/do/uploads/Main/download.png' alt='' title='' /> <a class='urllink' href='http://apmonitor.com/do/uploads/Main/model_predictive_control.zip' rel='nofollow'>MPC in Excel, MATLAB, Python, and Simulink</a></div>\n",
        "<p class='vspace'>Excel, MATLAB, Python, and Simulink are used in this example to both solve the differential equations that describe the velocity of a vehicle as well as minimize the control objective function.\n",
        "</p>"
      ]
    },
    {
      "metadata": {
        "id": "fY3dOryPurP3",
        "colab_type": "code",
        "colab": {
          "base_uri": "https://localhost:8080/",
          "height": 336
        },
        "cellView": "form",
        "outputId": "7b410099-2bd1-49cf-e743-db95e3992e71"
      },
      "cell_type": "code",
      "source": [
        "#@title\n",
        "%%html\n",
        "<iframe width=\"560\" height=\"315\" src=\"https://www.youtube.com/embed/dqm2OqXYLR8?rel=0\" frameborder=\"0\" allowfullscreen></iframe>"
      ],
      "execution_count": 2,
      "outputs": [
        {
          "output_type": "display_data",
          "data": {
            "text/html": [
              "<iframe width=\"560\" height=\"315\" src=\"https://www.youtube.com/embed/dqm2OqXYLR8?rel=0\" frameborder=\"0\" allowfullscreen></iframe>"
            ],
            "text/plain": [
              "<IPython.core.display.HTML object>"
            ]
          },
          "metadata": {
            "tags": []
          }
        }
      ]
    },
    {
      "metadata": {
        "id": "r6eMQM9zvJgo",
        "colab_type": "text"
      },
      "cell_type": "markdown",
      "source": [
        ""
      ]
    },
    {
      "metadata": {
        "id": "0TwkxpFivEoZ",
        "colab_type": "code",
        "colab": {
          "base_uri": "https://localhost:8080/",
          "height": 2282
        },
        "outputId": "36ee6451-f8ab-4c62-c22c-ede1a8b132c3"
      },
      "cell_type": "code",
      "source": [
        "#@markdown Solution in GEKKO\n",
        "\n",
        "try:\n",
        "    from pip import main as pipmain\n",
        "except:\n",
        "    from pip._internal import main as pipmain\n",
        "pipmain(['install','gekko'])\n",
        "\n",
        "#%%Import packages\n",
        "import numpy as np\n",
        "from random import random\n",
        "from gekko import GEKKO\n",
        "import matplotlib.pyplot as plt\n",
        "\n",
        "#%% Build model\n",
        "\n",
        "#initialize GEKKO model\n",
        "m = GEKKO()\n",
        "\n",
        "#time\n",
        "m.time = np.linspace(0,20,41)\n",
        "\n",
        "#constants\n",
        "mass = 500\n",
        "\n",
        "#Parameters\n",
        "b = m.Param(value=50)\n",
        "K = m.Param(value=0.8)\n",
        "#Manipulated variable\n",
        "p = m.MV(value=0, lb=0, ub=100)\n",
        "\n",
        "#Controlled Variable\n",
        "v = m.CV(value=0)\n",
        "\n",
        "#Equations\n",
        "m.Equation(mass*v.dt() == -v*b + K*b*p)\n",
        "\n",
        "#%% Tuning\n",
        "\n",
        "#global\n",
        "m.options.IMODE = 6 #control\n",
        "\n",
        "#MV tuning\n",
        "p.STATUS = 1 #allow optimizer to change\n",
        "p.DCOST = 0.1 #smooth out gas pedal movement\n",
        "p.DMAX = 20 #slow down change of gas pedal\n",
        "\n",
        "#CV tuning\n",
        "#setpoint\n",
        "v.STATUS = 1 #add the SP to the objective\n",
        "m.options.CV_TYPE = 2 #L2 norm\n",
        "v.SP = 40 #set point\n",
        "v.TR_INIT = 1 #setpoint trajectory\n",
        "v.TAU = 5 #time constant of setpoint trajectory\n",
        "\n",
        "#%% Solve\n",
        "\n",
        "m.solve()\n",
        "\n",
        "#%% Plot solution\n",
        "plt.figure()\n",
        "plt.subplot(2,1,1)\n",
        "plt.plot(m.time,p.value,'b-',LineWidth=2)\n",
        "plt.ylabel('gas')\n",
        "plt.subplot(2,1,2)\n",
        "plt.plot(m.time,v.value,'r--',LineWidth=2)\n",
        "plt.ylabel('velocity')\n",
        "plt.xlabel('time')\n",
        "plt.show()"
      ],
      "execution_count": 4,
      "outputs": [
        {
          "output_type": "stream",
          "text": [
            "Collecting gekko\n",
            "  Downloading https://files.pythonhosted.org/packages/2e/01/8612a1122c4d95c188a6dd0e3c5470234ca8959be4112a9acf49551a3312/gekko-0.1rc9-py3-none-any.whl (9.3MB)\n",
            "Collecting flask-cors (from gekko)\n",
            "  Downloading https://files.pythonhosted.org/packages/65/cb/683f71ff8daa3aea0a5cbb276074de39f9ab66d3fbb8ad5efb5bb83e90d2/Flask_Cors-3.0.7-py2.py3-none-any.whl\n",
            "Requirement already satisfied: numpy>=1.8 in /usr/local/lib/python3.6/dist-packages (from gekko) (1.14.6)\n",
            "Requirement already satisfied: flask in /usr/local/lib/python3.6/dist-packages (from gekko) (1.0.2)\n",
            "Requirement already satisfied: Six in /usr/local/lib/python3.6/dist-packages (from flask-cors->gekko) (1.11.0)\n",
            "Requirement already satisfied: Jinja2>=2.10 in /usr/local/lib/python3.6/dist-packages (from flask->gekko) (2.10)\n",
            "Requirement already satisfied: click>=5.1 in /usr/local/lib/python3.6/dist-packages (from flask->gekko) (7.0)\n",
            "Requirement already satisfied: Werkzeug>=0.14 in /usr/local/lib/python3.6/dist-packages (from flask->gekko) (0.14.1)\n",
            "Requirement already satisfied: itsdangerous>=0.24 in /usr/local/lib/python3.6/dist-packages (from flask->gekko) (1.1.0)\n",
            "Requirement already satisfied: MarkupSafe>=0.23 in /usr/local/lib/python3.6/dist-packages (from Jinja2>=2.10->flask->gekko) (1.1.1)\n",
            "Installing collected packages: flask-cors, gekko\n",
            "Successfully installed flask-cors-3.0.7 gekko-0.1rc9\n",
            "apm 35.230.39.168_gk_model0 <br><pre> ----------------------------------------------------------------\n",
            " APMonitor, Version 0.8.7\n",
            " APMonitor Optimization Suite\n",
            " ----------------------------------------------------------------\n",
            " \n",
            " \n",
            " --------- APM Model Size ------------\n",
            " Each time step contains\n",
            "   Objects      :            0\n",
            "   Constants    :            0\n",
            "   Variables    :            4\n",
            "   Intermediates:            0\n",
            "   Connections  :            0\n",
            "   Equations    :            1\n",
            "   Residuals    :            1\n",
            " \n",
            " Number of state variables:            360\n",
            " Number of total equations: -          320\n",
            " Number of slack variables: -            0\n",
            " ---------------------------------------\n",
            " Degrees of freedom       :             40\n",
            " \n",
            " **********************************************\n",
            " Dynamic Control with Interior Point Solver\n",
            " **********************************************\n",
            "  \n",
            "  \n",
            " Info: Exact Hessian\n",
            "\n",
            "******************************************************************************\n",
            "This program contains Ipopt, a library for large-scale nonlinear optimization.\n",
            " Ipopt is released as open source code under the Eclipse Public License (EPL).\n",
            "         For more information visit http://projects.coin-or.org/Ipopt\n",
            "******************************************************************************\n",
            "\n",
            "This is Ipopt version 3.12.10, running with linear solver ma57.\n",
            "\n",
            "Number of nonzeros in equality constraint Jacobian...:      837\n",
            "Number of nonzeros in inequality constraint Jacobian.:        0\n",
            "Number of nonzeros in Lagrangian Hessian.............:      160\n",
            "\n",
            "Total number of variables............................:      360\n",
            "                     variables with only lower bounds:        0\n",
            "                variables with lower and upper bounds:       80\n",
            "                     variables with only upper bounds:        0\n",
            "Total number of equality constraints.................:      320\n",
            "Total number of inequality constraints...............:        0\n",
            "        inequality constraints with only lower bounds:        0\n",
            "   inequality constraints with lower and upper bounds:        0\n",
            "        inequality constraints with only upper bounds:        0\n",
            "\n",
            "iter    objective    inf_pr   inf_du lg(mu)  ||d||  lg(rg) alpha_du alpha_pr  ls\n",
            "   0  8.0000000e+02 3.90e+01 0.00e+00   0.0 0.00e+00    -  0.00e+00 0.00e+00   0\n",
            "   1  7.9325279e+01 5.99e+02 5.36e+02   1.2 4.17e+01    -  1.75e-03 9.50e-01f  1\n",
            "   2 -1.0949688e+05 4.63e+02 3.59e+02   0.8 5.81e+02    -  2.73e-01 3.31e-01f  1\n",
            "   3 -1.1752281e+05 3.76e+02 2.81e+02   1.4 1.15e+02    -  7.11e-01 2.17e-01f  1\n",
            "   4 -1.0632897e+05 2.58e+02 1.75e+02   1.3 7.71e+01    -  9.47e-01 3.77e-01h  1\n",
            "   5 -5.7108608e+04 1.16e+02 5.92e+01   0.8 1.27e+02    -  8.84e-01 6.62e-01h  1\n",
            "   6 -1.8864319e+04 4.04e+01 1.89e+01   0.9 1.00e+02    -  1.00e+00 6.81e-01h  1\n",
            "   7  1.2894666e+03 2.95e+00 1.07e+00   0.2 3.89e+01    -  1.00e+00 9.44e-01h  1\n",
            "   8  2.8610848e+03 7.78e-03 8.48e-03  -1.4 2.94e+00    -  9.96e-01 1.00e+00h  1\n",
            "   9  2.8620126e+03 2.00e-04 5.67e-04  -3.2 5.22e-01    -  9.98e-01 1.00e+00h  1\n",
            "iter    objective    inf_pr   inf_du lg(mu)  ||d||  lg(rg) alpha_du alpha_pr  ls\n",
            "  10  2.8620131e+03 1.46e-06 1.51e-13  -4.6 5.49e-02    -  1.00e+00 1.00e+00h  1\n",
            "  11  2.8620130e+03 1.19e-09 2.67e-09 -10.5 6.10e-04    -  9.99e-01 9.99e-01h  1\n",
            "\n",
            "Number of Iterations....: 11\n",
            "\n",
            "                                   (scaled)                 (unscaled)\n",
            "Objective...............:   2.8620130112242487e+03    2.8620130112242487e+03\n",
            "Dual infeasibility......:   2.6662405616661999e-09    2.6662405616661999e-09\n",
            "Constraint violation....:   1.1872296479253919e-09    1.1872296479253919e-09\n",
            "Complementarity.........:   5.4811059892489063e-07    5.4811059892489063e-07\n",
            "Overall NLP error.......:   5.4811059892489063e-07    5.4811059892489063e-07\n",
            "\n",
            "\n",
            "Number of objective function evaluations             = 12\n",
            "Number of objective gradient evaluations             = 12\n",
            "Number of equality constraint evaluations            = 12\n",
            "Number of inequality constraint evaluations          = 0\n",
            "Number of equality constraint Jacobian evaluations   = 12\n",
            "Number of inequality constraint Jacobian evaluations = 0\n",
            "Number of Lagrangian Hessian evaluations             = 11\n",
            "Total CPU secs in IPOPT (w/o function evaluations)   =      0.017\n",
            "Total CPU secs in NLP function evaluations           =      0.032\n",
            "\n",
            "EXIT: Optimal Solution Found.\n",
            " \n",
            " The solution was found.\n",
            " \n",
            " The final value of the objective function is    2862.01301122425     \n",
            " \n",
            " ---------------------------------------------------\n",
            " Solver         :  IPOPT (v3.12)\n",
            " Solution time  :   5.680000000575092E-002 sec\n",
            " Objective      :    2862.01300644627     \n",
            " Successful solution\n",
            " ---------------------------------------------------\n",
            " \n"
          ],
          "name": "stdout"
        },
        {
          "output_type": "display_data",
          "data": {
            "image/png": "[encoded data removed]",
            "text/plain": [
              "<Figure size 576x396 with 2 Axes>"
            ]
          },
          "metadata": {
            "tags": []
          }
        }
      ]
    },
    {
      "metadata": {
        "id": "vTQtdVg-vT8D",
        "colab_type": "code",
        "colab": {}
      },
      "cell_type": "code",
      "source": [
        ""
      ],
      "execution_count": 0,
      "outputs": []
    }
  ]
}