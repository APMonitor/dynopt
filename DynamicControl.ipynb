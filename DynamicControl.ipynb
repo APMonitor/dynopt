{
  "nbformat": 4,
  "nbformat_minor": 0,
  "metadata": {
    "colab": {
      "name": "DynamicControl.ipynb",
      "version": "0.3.2",
      "provenance": [],
      "collapsed_sections": [],
      "toc_visible": true,
      "include_colab_link": true
    },
    "kernelspec": {
      "name": "python3",
      "display_name": "Python 3"
    }
  },
  "cells": [
    {
      "cell_type": "markdown",
      "metadata": {
        "id": "view-in-github",
        "colab_type": "text"
      },
      "source": [
        "<a href=\"https://colab.research.google.com/github/misbahsy/APMonitor-do/blob/master/DynamicControl.ipynb\" target=\"_parent\"><img src=\"https://colab.research.google.com/assets/colab-badge.svg\" alt=\"Open In Colab\"/></a>"
      ]
    },
    {
      "metadata": {
        "id": "Mo20FJemucfM",
        "colab_type": "text"
      },
      "cell_type": "markdown",
      "source": [
        "#Dynamic Control Introduction"
      ]
    },
    {
      "metadata": {
        "id": "UpCOdSJwumQ2",
        "colab_type": "text"
      },
      "cell_type": "markdown",
      "source": [
        "<p class='vspace'>Dynamic control is a method to use model predictions to plan an optimized future trajectory for time-varying systems. It is often referred to as Model Predictive Control (MPC) or Dynamic Optimization.\n",
        "</p>\n",
        "<div class='vspace'></div><ul><li><a class='urllink' href='http://apmonitor.com/do/uploads/Main/Intro_Dynamic_Control.pdf' rel='nofollow'>Introduction to Dynamic Control/Optimization (pdf)</a>\n"
      ]
    },
    {
      "metadata": {
        "id": "Py51bdRBuWBx",
        "colab_type": "code",
        "cellView": "form",
        "outputId": "4df1571d-5459-4ab0-b031-b0c511e5be1d",
        "colab": {
          "base_uri": "https://localhost:8080/",
          "height": 336
        }
      },
      "cell_type": "code",
      "source": [
        "#@title\n",
        "%%html\n",
        "<iframe width=\"560\" height=\"315\" src=\"https://www.youtube.com/embed/DFqOf5wbQtc?rel=0\" frameborder=\"0\" allowfullscreen></iframe>\n"
      ],
      "execution_count": 0,
      "outputs": [
        {
          "output_type": "display_data",
          "data": {
            "text/html": [
              "<iframe width=\"560\" height=\"315\" src=\"https://www.youtube.com/embed/DFqOf5wbQtc?rel=0\" frameborder=\"0\" allowfullscreen></iframe>"
            ],
            "text/plain": [
              "<IPython.core.display.HTML object>"
            ]
          },
          "metadata": {
            "tags": []
          }
        }
      ]
    },
    {
      "metadata": {
        "id": "Ygsa350AuyHl",
        "colab_type": "text"
      },
      "cell_type": "markdown",
      "source": [
        "<p class='vspace'>A method to solve dynamic control problems is by numerically integrating the dynamic model at discrete time intervals, much like measuring a physical system at particular time points. The numerical solution is compared to a desired trajectory and the difference is minimized by adjustable parameters in the model that may change at every time step. The first control action is taken and then the entire process is repeated at the next time instance. The process is repeated because objective targets may change or updated measurements may have adjusted parameter or state estimates.\n",
        "</p>"
      ]
    },
    {
      "metadata": {
        "id": "mfhoXypau-sf",
        "colab_type": "text"
      },
      "cell_type": "markdown",
      "source": [
        "##Exercise\n",
        "<p><strong>Objective:</strong> Implement a model predictive controller that automatically regulates vehicle velocity. Implement the controller in Excel, MATLAB, Python, or Simulink and tune the controller for acceptable performance. Discuss factors that may be important for evaluating controller performance. <em>Estimated time: 1 hour</em>\n",
        "</p>\n",
        "<p class='vspace'>The dynamic relationship between a vehicle gas pedal position (MV) and velocity (CV) is given by the following set of conditions and a single dynamic equation.\n",
        "</p>\n",
        "<div class='vspace'></div><pre> Constants\n",
        "   m = 500 ! Mass (kg)\n",
        " Parameters\n",
        "   b = 50  ! Resistive coefficient (N-s/m)  \n",
        "   K = 0.8 ! Gain (m/s-%pedal)\n",
        "   p = 0 &gt;= 0 &lt;= 100  ! Gas pedal position (%)\n",
        " Variables\n",
        "   v = 0 ! initial condition\n",
        " Equations\n",
        "   m * $v = -v * b + K * b * p\n",
        "</pre><p class='vspace'>Implement a model predictive controller that adjusts gas pedal position to regulate velocity. Start at an initial vehicle velocity of 0 m/s and accelerate to a velocity of 40 m/s.\n",
        "</p>\n",
        "<p class='vspace'>Discuss the controller performance and how it could be tuned to meet multiple objectives including:\n",
        "</p>\n",
        "<div class='vspace'></div><ul><li>minimize travel time\n",
        "</li><li>remain within speed limits\n",
        "</li><li>improve vehicle fuel efficiency\n",
        "</li><li>discourage excessive gas pedal adjustments\n",
        "</li><li>do not accelerate excessively\n",
        "</li></ul><p class='vspace'>There is no need to implement these advanced objectives in simulation for this second part of the exercise, only discuss the possible competing objectives.\n",
        "</p>\n"
      ]
    },
    {
      "metadata": {
        "id": "cNeuM3XvsZgA",
        "colab_type": "text"
      },
      "cell_type": "markdown",
      "source": [
        "\n",
        "##Solution\n",
        "<div><img src='http://apmonitor.com/do/uploads/Main/download.png' alt='' title='' /> <a class='urllink' href='http://apmonitor.com/do/uploads/Main/model_predictive_control.zip' rel='nofollow'>MPC in Excel, MATLAB, Python, and Simulink</a></div>\n",
        "<p class='vspace'>Excel, MATLAB, Python, and Simulink are used in this example to both solve the differential equations that describe the velocity of a vehicle as well as minimize the control objective function.\n",
        "</p>"
      ]
    },
    {
      "metadata": {
        "id": "fY3dOryPurP3",
        "colab_type": "code",
        "cellView": "form",
        "outputId": "7b410099-2bd1-49cf-e743-db95e3992e71",
        "colab": {
          "base_uri": "https://localhost:8080/",
          "height": 336
        }
      },
      "cell_type": "code",
      "source": [
        "#@title\n",
        "%%html\n",
        "<iframe width=\"560\" height=\"315\" src=\"https://www.youtube.com/embed/dqm2OqXYLR8?rel=0\" frameborder=\"0\" allowfullscreen></iframe>"
      ],
      "execution_count": 0,
      "outputs": [
        {
          "output_type": "display_data",
          "data": {
            "text/html": [
              "<iframe width=\"560\" height=\"315\" src=\"https://www.youtube.com/embed/dqm2OqXYLR8?rel=0\" frameborder=\"0\" allowfullscreen></iframe>"
            ],
            "text/plain": [
              "<IPython.core.display.HTML object>"
            ]
          },
          "metadata": {
            "tags": []
          }
        }
      ]
    },
    {
      "metadata": {
        "id": "0TwkxpFivEoZ",
        "colab_type": "code",
        "cellView": "form",
        "colab": {}
      },
      "cell_type": "code",
      "source": [
        "#@markdown Solution in GEKKO\n",
        "\n",
        "try:\n",
        "    from pip import main as pipmain\n",
        "except:\n",
        "    from pip._internal import main as pipmain\n",
        "pipmain(['install','gekko'])\n",
        "\n",
        "#%%Import packages\n",
        "import numpy as np\n",
        "from random import random\n",
        "from gekko import GEKKO\n",
        "import matplotlib.pyplot as plt\n",
        "\n",
        "#%% Build model\n",
        "\n",
        "#initialize GEKKO model\n",
        "m = GEKKO()\n",
        "\n",
        "#time\n",
        "m.time = np.linspace(0,20,41)\n",
        "\n",
        "#constants\n",
        "mass = 500\n",
        "\n",
        "#Parameters\n",
        "b = m.Param(value=50)\n",
        "K = m.Param(value=0.8)\n",
        "#Manipulated variable\n",
        "p = m.MV(value=0, lb=0, ub=100)\n",
        "\n",
        "#Controlled Variable\n",
        "v = m.CV(value=0)\n",
        "\n",
        "#Equations\n",
        "m.Equation(mass*v.dt() == -v*b + K*b*p)\n",
        "\n",
        "#%% Tuning\n",
        "\n",
        "#global\n",
        "m.options.IMODE = 6 #control\n",
        "\n",
        "#MV tuning\n",
        "p.STATUS = 1 #allow optimizer to change\n",
        "p.DCOST = 0.1 #smooth out gas pedal movement\n",
        "p.DMAX = 20 #slow down change of gas pedal\n",
        "\n",
        "#CV tuning\n",
        "#setpoint\n",
        "v.STATUS = 1 #add the SP to the objective\n",
        "m.options.CV_TYPE = 2 #L2 norm\n",
        "v.SP = 40 #set point\n",
        "v.TR_INIT = 1 #setpoint trajectory\n",
        "v.TAU = 5 #time constant of setpoint trajectory\n",
        "\n",
        "#%% Solve\n",
        "\n",
        "m.solve()\n",
        "\n",
        "#%% Plot solution\n",
        "plt.figure()\n",
        "plt.subplot(2,1,1)\n",
        "plt.plot(m.time,p.value,'b-',LineWidth=2)\n",
        "plt.ylabel('gas')\n",
        "plt.subplot(2,1,2)\n",
        "plt.plot(m.time,v.value,'r--',LineWidth=2)\n",
        "plt.ylabel('velocity')\n",
        "plt.xlabel('time')\n",
        "plt.show()"
      ],
      "execution_count": 0,
      "outputs": []
    }
  ]
}