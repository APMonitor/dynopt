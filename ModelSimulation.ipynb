{
  "nbformat": 4,
  "nbformat_minor": 0,
  "metadata": {
    "colab": {
      "name": "ModelSimulation.ipynb",
      "version": "0.3.2",
      "provenance": [],
      "collapsed_sections": [],
      "toc_visible": true,
      "include_colab_link": true
    },
    "kernelspec": {
      "name": "python3",
      "display_name": "Python 3"
    }
  },
  "cells": [
    {
      "cell_type": "markdown",
      "metadata": {
        "id": "view-in-github",
        "colab_type": "text"
      },
      "source": [
        "<a href=\"https://colab.research.google.com/github/misbahsy/APMonitor-do/blob/master/ModelSimulation.ipynb\" target=\"_parent\"><img src=\"https://colab.research.google.com/assets/colab-badge.svg\" alt=\"Open In Colab\"/></a>"
      ]
    },
    {
      "metadata": {
        "id": "6i2KgwUx0yXv",
        "colab_type": "text"
      },
      "cell_type": "markdown",
      "source": [
        "#Simulation of Dynamic Systems\n",
        "Simulation of dynamic systems is the process of finding a numerical solution to a set of differential and algebraic equations (DAEs) with given initial conditions (x0). A mathematical expression of an Initial Value Problem (IVP) is shown below.\n",
        "\n",
        "$0 = f(dx/dt,x,p)$\n",
        "\n",
        "$0 < g(dx/dt,x,p)$\n",
        "\n",
        "$Given  \\; x_0 \\;  and \\;  p$\n",
        "\n",
        "The DAE can be solved with a variety of analytic or numeric methods. Analytic approaches are possible for simple systems such as systems with one or two equations. Numeric methods are used with more complicated systems but these methods have approximation errors that may deviate from the exact solution. A first step in model development is to draw a schematic, list the assumptions, and write the differential and algebraic equations that describe the system."
      ]
    },
    {
      "metadata": {
        "id": "4AZiRqw32Kvb",
        "colab_type": "code",
        "colab": {
          "base_uri": "https://localhost:8080/",
          "height": 439
        },
        "cellView": "form",
        "outputId": "ca815209-ce74-4525-f915-bf6cbe326404"
      },
      "cell_type": "code",
      "source": [
        "#@title\n",
        "%%html\n",
        "<iframe width=\"560\" height=\"315\" src=\"https://www.youtube.com/embed/hje-dcn2cRw\" frameborder=\"0\" allowfullscreen></iframe>\n",
        "\n",
        "<div class='vspace'></div><ul><li><a class='urllink' href='https://youtu.be/FE4GywqJmv0' rel='nofollow'>Mass Balance Solution</a>\n",
        "</li><li><a class='urllink' href='https://youtu.be/0ah42LlU_3Y' rel='nofollow'>Species Balance Solution</a>\n",
        "</li><li><a class='urllink' href='https://youtu.be/AcNTTCjPCDg' rel='nofollow'>Energy Balance Solution</a>\n",
        "</li><li><a class='urllink' href='https://youtu.be/diasyg2K_oU' rel='nofollow'>Funnel (Mass Balance) Solution</a>\n",
        "</li></ul><p class='vspace'>Two numerical methods reviewed are sequential and simultaneous simulation techniques.\n",
        "</p>"
      ],
      "execution_count": 1,
      "outputs": [
        {
          "output_type": "display_data",
          "data": {
            "text/html": [
              "<iframe width=\"560\" height=\"315\" src=\"https://www.youtube.com/embed/hje-dcn2cRw\" frameborder=\"0\" allowfullscreen></iframe>\n",
              "\n",
              "<div class='vspace'></div><ul><li><a class='urllink' href='https://youtu.be/FE4GywqJmv0' rel='nofollow'>Mass Balance Solution</a>\n",
              "</li><li><a class='urllink' href='https://youtu.be/0ah42LlU_3Y' rel='nofollow'>Species Balance Solution</a>\n",
              "</li><li><a class='urllink' href='https://youtu.be/AcNTTCjPCDg' rel='nofollow'>Energy Balance Solution</a>\n",
              "</li><li><a class='urllink' href='https://youtu.be/diasyg2K_oU' rel='nofollow'>Funnel (Mass Balance) Solution</a>\n",
              "</li></ul><p class='vspace'>Two numerical methods reviewed are sequential and simultaneous simulation techniques.\n",
              "</p>"
            ],
            "text/plain": [
              "<IPython.core.display.HTML object>"
            ]
          },
          "metadata": {
            "tags": []
          }
        }
      ]
    },
    {
      "metadata": {
        "id": "LOb0QDuD2NXN",
        "colab_type": "code",
        "colab": {
          "base_uri": "https://localhost:8080/",
          "height": 701
        },
        "cellView": "form",
        "outputId": "38a7504c-4fdb-454d-f0b1-2672ea2751e9"
      },
      "cell_type": "code",
      "source": [
        "#@title Sequential Simulation\n",
        "%%html\n",
        "<p>Sequential simulation methods take successive time steps in the simulation horizon and often refine the size of each step to meet a specified error tolerance. Euler's method is the most basic method for sequential simulation while other methods generally offer improved accuracy and therefore allow larger step sizes.\n",
        "</p>\n",
        "<div class='vspace'></div>\n",
        "<iframe width=\"560\" height=\"315\" src=\"https://www.youtube.com/embed/Oae-S5AzZCk\" frameborder=\"0\" allowfullscreen></iframe>\n",
        "\n",
        "<div class='vspace'></div>\n",
        "<iframe width=\"560\" height=\"315\" src=\"https://www.youtube.com/embed/ynm7B0N0_Yw\" frameborder=\"0\" allowfullscreen></iframe>"
      ],
      "execution_count": 2,
      "outputs": [
        {
          "output_type": "display_data",
          "data": {
            "text/html": [
              "<p>Sequential simulation methods take successive time steps in the simulation horizon and often refine the size of each step to meet a specified error tolerance. Euler's method is the most basic method for sequential simulation while other methods generally offer improved accuracy and therefore allow larger step sizes.\n",
              "</p>\n",
              "<div class='vspace'></div>\n",
              "<iframe width=\"560\" height=\"315\" src=\"https://www.youtube.com/embed/Oae-S5AzZCk\" frameborder=\"0\" allowfullscreen></iframe>\n",
              "\n",
              "<div class='vspace'></div>\n",
              "<iframe width=\"560\" height=\"315\" src=\"https://www.youtube.com/embed/ynm7B0N0_Yw\" frameborder=\"0\" allowfullscreen></iframe>"
            ],
            "text/plain": [
              "<IPython.core.display.HTML object>"
            ]
          },
          "metadata": {
            "tags": []
          }
        }
      ]
    },
    {
      "metadata": {
        "id": "iX9IKX2J2hT1",
        "colab_type": "code",
        "colab": {
          "base_uri": "https://localhost:8080/",
          "height": 823
        },
        "cellView": "form",
        "outputId": "294c7308-a954-44a3-833a-c9df5efefd81"
      },
      "cell_type": "code",
      "source": [
        "#@title Simultaneous Simulation\n",
        "%%html\n",
        "<p>Simultaneous simulation methods are used to converge all of the state variable predictions together instead of one step at a time. Orthogonal collocation on finite elements is a popular method to convert the DAE into a Nonlinear Programming (NLP) problem for solution by efficient solvers.\n",
        "</p>\n",
        "<div class='vspace'></div><pre> <em>0 = f(x,p)</em>\n",
        " <em>0 &lt; g(x,p)</em>\n",
        " Given <em>x<sub>0</sub></em> and <em>p</em>\n",
        "</pre><p class='vspace'>Further details on orthogonal collocation are provided at the following references.\n",
        "</p>\n",
        "<div class='vspace'></div><ul><li>Nonlinear Modeling, Estimation and Predictive Control in APMonitor, Hedengren, J. D. and Asgharzadeh Shishavan, R., Powell, K.M., and Edgar, T.F., Computers and Chemical Engineering, Volume 70, pg. 133–148, 2014. Available at: <a class='urllink' href='https://dx.doi.org/10.1016/j.compchemeng.2014.04.013' rel='nofollow'>https://dx.doi.org/10.1016/j.compchemeng.2014.04.013</a>\n",
        "</li></ul><div class='vspace'></div>\n",
        "<iframe width=\"560\" height=\"315\" src=\"https://www.youtube.com/embed/pOXcOWMo5Hs\" frameborder=\"0\" allowfullscreen></iframe>\n",
        "\n",
        "<div class='vspace'></div>\n",
        "<iframe width=\"560\" height=\"315\" src=\"https://www.youtube.com/embed/YvjG2LRNtKU\" frameborder=\"0\" allowfullscreen></iframe>\n"
      ],
      "execution_count": 3,
      "outputs": [
        {
          "output_type": "display_data",
          "data": {
            "text/html": [
              "<p>Simultaneous simulation methods are used to converge all of the state variable predictions together instead of one step at a time. Orthogonal collocation on finite elements is a popular method to convert the DAE into a Nonlinear Programming (NLP) problem for solution by efficient solvers.\n",
              "</p>\n",
              "<div class='vspace'></div><pre> <em>0 = f(x,p)</em>\n",
              " <em>0 &lt; g(x,p)</em>\n",
              " Given <em>x<sub>0</sub></em> and <em>p</em>\n",
              "</pre><p class='vspace'>Further details on orthogonal collocation are provided at the following references.\n",
              "</p>\n",
              "<div class='vspace'></div><ul><li>Nonlinear Modeling, Estimation and Predictive Control in APMonitor, Hedengren, J. D. and Asgharzadeh Shishavan, R., Powell, K.M., and Edgar, T.F., Computers and Chemical Engineering, Volume 70, pg. 133–148, 2014. Available at: <a class='urllink' href='https://dx.doi.org/10.1016/j.compchemeng.2014.04.013' rel='nofollow'>https://dx.doi.org/10.1016/j.compchemeng.2014.04.013</a>\n",
              "</li></ul><div class='vspace'></div>\n",
              "<iframe width=\"560\" height=\"315\" src=\"https://www.youtube.com/embed/pOXcOWMo5Hs\" frameborder=\"0\" allowfullscreen></iframe>\n",
              "\n",
              "<div class='vspace'></div>\n",
              "<iframe width=\"560\" height=\"315\" src=\"https://www.youtube.com/embed/YvjG2LRNtKU\" frameborder=\"0\" allowfullscreen></iframe>"
            ],
            "text/plain": [
              "<IPython.core.display.HTML object>"
            ]
          },
          "metadata": {
            "tags": []
          }
        }
      ]
    },
    {
      "metadata": {
        "id": "vLA-eonf24hn",
        "colab_type": "code",
        "colab": {
          "base_uri": "https://localhost:8080/",
          "height": 873
        },
        "cellView": "form",
        "outputId": "caa3479f-5160-49a4-9bf1-ef15f8d97c37"
      },
      "cell_type": "code",
      "source": [
        "#@title Exercise\n",
        "%%html\n",
        "<div><img src='http://apmonitor.com/do/uploads/Main/flight_controls_747.png' alt='' title='' /></div>\n",
        "<p class='vspace'>This exercise involves the simulation of a Boeing 747 airplane at a cruising altitude of 40,000 ft. In this application<sup>1</sup>, a model of the process is desired to relate the elevator (<em>e</em>) and thrust (<em>t</em>) to the airspeed and climb rate. The model equations are shown below in state space form that relates elevator angle in centi-radians and thrust to four states including airspeed in the horizontal direction (<em>u</em> - <em>u</em> <sub>w</sub>), airspeed in the vertical direction (<em>w</em> - <em>w</em> <sub>w</sub>), rotation of the aircraft (<em>q</em>), and angle of the aircraft (<em>theta</em>).\n",
        "</p>\n",
        "<div class='vspace'></div><div><img src='http://apmonitor.com/do/uploads/Main/flight_equations_747.png' alt='' title='' /></div>\n",
        "<div class='vspace'></div><div><img src='http://apmonitor.com/do/uploads/Main/flight_equations2_747.png' alt='' title='' /></div>\n",
        "<p class='vspace'>The wind speeds are given in the horizontal (<em>u</em> <sub>w</sub>) and vertical (<em>w</em> <sub>w</sub>) directions with a nominal velocity of the aircraft of <em>u</em><sub>0</sub>=774 ft/sec (0.8 Mach speed). The output <em>y</em><sub>1</sub> is the air speed and <em>y</em><sub>2</sub> is the climb rate.\n",
        "</p>\n",
        "<p class='vspace'>Simulate step responses of the aircraft with respect to the elevator angle and thrust. Design a model predictive controller to respond to set point changes in the air speed and climb rate of the aircraft. Explain the coordinated movement of the manipulated variables to achieve the desired set points of the controlled variables.\n",
        "</p>\n",
        "<div class='vspace'></div><h4>Solution</h4>\n",
        "<div><img src='http://apmonitor.com/do/uploads/Main/download.png' alt='' title='' /> <a class='urllink' href='http://apmonitor.com/do/uploads/Main/flight_controls.zip' rel='nofollow'>Flight Controls in MATLAB and Python</a></div>\n",
        "<div class='vspace'></div>\n",
        "<iframe width=\"560\" height=\"315\" src=\"https://www.youtube.com/embed/o_VlhBP4EfY?rel=0\" frameborder=\"0\" allowfullscreen></iframe>"
      ],
      "execution_count": 4,
      "outputs": [
        {
          "output_type": "display_data",
          "data": {
            "text/html": [
              "<div><img src='http://apmonitor.com/do/uploads/Main/flight_controls_747.png' alt='' title='' /></div>\n",
              "<p class='vspace'>This exercise involves the simulation of a Boeing 747 airplane at a cruising altitude of 40,000 ft. In this application<sup>1</sup>, a model of the process is desired to relate the elevator (<em>e</em>) and thrust (<em>t</em>) to the airspeed and climb rate. The model equations are shown below in state space form that relates elevator angle in centi-radians and thrust to four states including airspeed in the horizontal direction (<em>u</em> - <em>u</em> <sub>w</sub>), airspeed in the vertical direction (<em>w</em> - <em>w</em> <sub>w</sub>), rotation of the aircraft (<em>q</em>), and angle of the aircraft (<em>theta</em>).\n",
              "</p>\n",
              "<div class='vspace'></div><div><img src='http://apmonitor.com/do/uploads/Main/flight_equations_747.png' alt='' title='' /></div>\n",
              "<div class='vspace'></div><div><img src='http://apmonitor.com/do/uploads/Main/flight_equations2_747.png' alt='' title='' /></div>\n",
              "<p class='vspace'>The wind speeds are given in the horizontal (<em>u</em> <sub>w</sub>) and vertical (<em>w</em> <sub>w</sub>) directions with a nominal velocity of the aircraft of <em>u</em><sub>0</sub>=774 ft/sec (0.8 Mach speed). The output <em>y</em><sub>1</sub> is the air speed and <em>y</em><sub>2</sub> is the climb rate.\n",
              "</p>\n",
              "<p class='vspace'>Simulate step responses of the aircraft with respect to the elevator angle and thrust. Design a model predictive controller to respond to set point changes in the air speed and climb rate of the aircraft. Explain the coordinated movement of the manipulated variables to achieve the desired set points of the controlled variables.\n",
              "</p>\n",
              "<div class='vspace'></div><h4>Solution</h4>\n",
              "<div><img src='http://apmonitor.com/do/uploads/Main/download.png' alt='' title='' /> <a class='urllink' href='http://apmonitor.com/do/uploads/Main/flight_controls.zip' rel='nofollow'>Flight Controls in MATLAB and Python</a></div>\n",
              "<div class='vspace'></div>\n",
              "<iframe width=\"560\" height=\"315\" src=\"https://www.youtube.com/embed/o_VlhBP4EfY?rel=0\" frameborder=\"0\" allowfullscreen></iframe>"
            ],
            "text/plain": [
              "<IPython.core.display.HTML object>"
            ]
          },
          "metadata": {
            "tags": []
          }
        }
      ]
    },
    {
      "metadata": {
        "id": "13_tEgwJ3Skp",
        "colab_type": "code",
        "colab": {
          "base_uri": "https://localhost:8080/",
          "height": 2659
        },
        "cellView": "form",
        "outputId": "3e532c65-dfc7-4724-97af-72dabbcbc9c0"
      },
      "cell_type": "code",
      "source": [
        "#@title Solution in GEKKO\n",
        "\n",
        "try:\n",
        "    from pip import main as pipmain\n",
        "except:\n",
        "    from pip._internal import main as pipmain\n",
        "pipmain(['install','gekko'])\n",
        "\n",
        "from __future__ import division\n",
        "\n",
        "from gekko import GEKKO\n",
        "import numpy as np\n",
        "\n",
        "## Linear model of a Boeing 747\n",
        "#  Level flight at 40,000 ft elevation\n",
        "#  Velocity at 774 ft/sec (0.80 Mach)\n",
        "\n",
        "# States\n",
        "#  u - uw (ft/sec) - horizontal velocity - horizontal wind\n",
        "#  w - ww (ft/sec) - vertical velocity - vertical wind\n",
        "#  q (crad/sec) - angular velocity\n",
        "#  theta (crad) - angle from horizontal\n",
        "# note: crad = 0.01 rad\n",
        "\n",
        "# Inputs\n",
        "#  e - elevator\n",
        "#  t - throttle\n",
        "\n",
        "# Outputs\n",
        "#  u - uw (ft/sec) - horizontal airspeed\n",
        "#  hdot = -w + u0 * theta with u0 = 774 ft/sec\n",
        "\n",
        "\n",
        "A = np.array([[-.003, 0.039, 0, -0.322],\n",
        "              [-0.065, -0.319, 7.74, 0],\n",
        "              [0.020, -0.101, -0.429, 0],\n",
        "              [0, 0, 1, 0]])\n",
        "\n",
        "B = np.array([[0.01, 1],\n",
        "              [-0.18, -0.04],\n",
        "              [-1.16, 0.598],\n",
        "              [0, 0]])\n",
        "\n",
        "C = np.array([[1, 0, 0, 0],\n",
        "              [0, -1, 0, 7.74]])\n",
        "\n",
        "#%% Build GEKKO State Space model\n",
        "m = GEKKO()\n",
        "x,y,u = m.state_space(A,B,C,D=None)\n",
        "\n",
        "m.time = [0, 0.1, 0.2, 0.4, 1, 1.5, 2, 3, 4, 5, 6, 7, 8, 10, 12, 15]\n",
        "m.options.imode = 6\n",
        "m.options.nodes = 3\n",
        "\n",
        "## MV tuning\n",
        "# lower and upper bounds for elevator pitch\n",
        "# lower and upper bounds for thrust\n",
        "# delta MV movement cost\n",
        "for i in range(len(u)):\n",
        "    u[i].lower = -5\n",
        "    u[i].upper = 5\n",
        "    u[i].dcost = 1\n",
        "    u[i].status = 1\n",
        "\n",
        "## CV tuning\n",
        "# tau = first order time constant for trajectories\n",
        "y[0].tau = 5\n",
        "y[1].tau = 8\n",
        "# tr_init = 0 (dead-band)\n",
        "#         = 1 (first order trajectory)\n",
        "#         = 2 (first order traj, re-center with each cycle)\n",
        "y[0].tr_init = 2\n",
        "y[1].tr_init = 2\n",
        "# targets (dead-band needs upper and lower values)\n",
        "# SPHI = upper set point\n",
        "# SPLO = lower set point\n",
        "y[0].sphi= -8.5\n",
        "y[0].splo= -9.5\n",
        "y[1].sphi= 5.4\n",
        "y[1].splo= 4.6\n",
        "\n",
        "y[0].status = 1\n",
        "y[1].status = 1\n",
        "\n",
        "\n",
        "m.solve()\n",
        "\n",
        "# get additional solution information (trajectories)\n",
        "import json\n",
        "with open(m.path+'//results.json') as f:\n",
        "    results = json.load(f)\n",
        "# get internal GEKKO variable names\n",
        "air_speed = y[0].name\n",
        "climb_rate = y[1].name\n",
        "\n",
        "#%% plot results\n",
        "import matplotlib.pyplot as plt\n",
        "plt.figure(1)\n",
        "plt.subplot(311)\n",
        "plt.plot(m.time,u[0],'b-',linewidth=2.0)\n",
        "plt.plot(m.time,u[1],'g:',linewidth=2.0)\n",
        "plt.legend(['Elevator','Thrust'])\n",
        "plt.ylabel('MV Action')\n",
        "\n",
        "plt.subplot(312)\n",
        "plt.plot(m.time,y[0],'r-',linewidth=2.0)\n",
        "plt.plot(m.time,results[air_speed+'.tr_hi'],'k:')\n",
        "plt.plot(m.time,results[air_speed+'.tr_lo'],'k:')\n",
        "plt.legend(['Air Speed','Upper Trajectory','Lower Trajectory'])\n",
        "plt.ylabel('Air Speed')\n",
        "\n",
        "plt.subplot(313)\n",
        "plt.plot(m.time,y[1],'r-',linewidth=2.0)\n",
        "plt.plot(m.time,results[climb_rate+'.tr_hi'],'k:')\n",
        "plt.plot(m.time,results[climb_rate+'.tr_lo'],'k:')\n",
        "plt.legend(['Climb Rate','Upper Trajectory','Lower Trajectory'])\n",
        "plt.ylabel('Climb Rate')\n",
        "\n",
        "plt.show()\n"
      ],
      "execution_count": 5,
      "outputs": [
        {
          "output_type": "stream",
          "text": [
            "Collecting gekko\n",
            "  Downloading https://files.pythonhosted.org/packages/2e/01/8612a1122c4d95c188a6dd0e3c5470234ca8959be4112a9acf49551a3312/gekko-0.1rc9-py3-none-any.whl (9.3MB)\n",
            "Collecting flask-cors (from gekko)\n",
            "  Downloading https://files.pythonhosted.org/packages/65/cb/683f71ff8daa3aea0a5cbb276074de39f9ab66d3fbb8ad5efb5bb83e90d2/Flask_Cors-3.0.7-py2.py3-none-any.whl\n",
            "Requirement already satisfied: numpy>=1.8 in /usr/local/lib/python3.6/dist-packages (from gekko) (1.14.6)\n",
            "Requirement already satisfied: flask in /usr/local/lib/python3.6/dist-packages (from gekko) (1.0.2)\n",
            "Requirement already satisfied: Six in /usr/local/lib/python3.6/dist-packages (from flask-cors->gekko) (1.11.0)\n",
            "Requirement already satisfied: Jinja2>=2.10 in /usr/local/lib/python3.6/dist-packages (from flask->gekko) (2.10)\n",
            "Requirement already satisfied: itsdangerous>=0.24 in /usr/local/lib/python3.6/dist-packages (from flask->gekko) (1.1.0)\n",
            "Requirement already satisfied: click>=5.1 in /usr/local/lib/python3.6/dist-packages (from flask->gekko) (7.0)\n",
            "Requirement already satisfied: Werkzeug>=0.14 in /usr/local/lib/python3.6/dist-packages (from flask->gekko) (0.14.1)\n",
            "Requirement already satisfied: MarkupSafe>=0.23 in /usr/local/lib/python3.6/dist-packages (from Jinja2>=2.10->flask->gekko) (1.1.1)\n",
            "Installing collected packages: flask-cors, gekko\n",
            "Successfully installed flask-cors-3.0.7 gekko-0.1rc9\n",
            "apm 34.73.12.88_gk_model0 <br><pre> ----------------------------------------------------------------\n",
            " APMonitor, Version 0.8.7\n",
            " APMonitor Optimization Suite\n",
            " ----------------------------------------------------------------\n",
            " \n",
            " \n",
            " --------- APM Model Size ------------\n",
            " Each time step contains\n",
            "   Objects      :            1\n",
            "   Constants    :            0\n",
            "   Variables    :            8\n",
            "   Intermediates:            0\n",
            "   Connections  :            8\n",
            "   Equations    :            0\n",
            "   Residuals    :            0\n",
            " \n",
            " \n",
            " LTI Model Statistics\n",
            " -------------------------------------\n",
            " Sparse Matrices\n",
            " Continuous Form\n",
            " Matrix    Dimension    Non-zeros\n",
            "   A                 4 x           4                10\n",
            "   B                 4 x           2                 6\n",
            "   C                 2 x           4                 3\n",
            "   D                 2 x           2                 0\n",
            "   E                 4 x           4                 4\n",
            " -------------------------------------\n",
            " \n",
            " Number of state variables:           1140\n",
            " Number of total equations: -         1110\n",
            " Number of slack variables: -            0\n",
            " ---------------------------------------\n",
            " Degrees of freedom       :             30\n",
            " \n",
            " **********************************************\n",
            " Dynamic Control with Interior Point Solver\n",
            " **********************************************\n",
            "  \n",
            "  \n",
            " Info: Exact Hessian\n",
            "\n",
            "******************************************************************************\n",
            "This program contains Ipopt, a library for large-scale nonlinear optimization.\n",
            " Ipopt is released as open source code under the Eclipse Public License (EPL).\n",
            "         For more information visit http://projects.coin-or.org/Ipopt\n",
            "******************************************************************************\n",
            "\n",
            "This is Ipopt version 3.12.10, running with linear solver ma57.\n",
            "\n",
            "Number of nonzeros in equality constraint Jacobian...:     2792\n",
            "Number of nonzeros in inequality constraint Jacobian.:      480\n",
            "Number of nonzeros in Lagrangian Hessian.............:        0\n",
            "\n",
            "Total number of variables............................:     1140\n",
            "                     variables with only lower bounds:      180\n",
            "                variables with lower and upper bounds:       60\n",
            "                     variables with only upper bounds:        0\n",
            "Total number of equality constraints.................:      930\n",
            "Total number of inequality constraints...............:      180\n",
            "        inequality constraints with only lower bounds:      180\n",
            "   inequality constraints with lower and upper bounds:        0\n",
            "        inequality constraints with only upper bounds:        0\n",
            "\n",
            "iter    objective    inf_pr   inf_du lg(mu)  ||d||  lg(rg) alpha_du alpha_pr  ls\n",
            "   0  2.5019975e+01 1.05e+01 9.00e+00   0.0 0.00e+00    -  0.00e+00 0.00e+00   0\n",
            "   1  7.4003393e+02 1.78e-15 5.77e+01  -0.2 1.00e+01    -  2.30e-02 1.00e+00f  1\n",
            "   2  3.1636416e+04 1.78e-15 3.72e+01   2.2 5.09e+02    -  1.19e-02 1.14e-01f  1\n",
            "   3  3.1755396e+03 1.78e-15 3.00e+01   1.1 1.46e+02    -  4.98e-01 1.34e-01f  1\n",
            "   4  1.6678855e+03 1.78e-15 1.14e+01   0.4 1.71e+01    -  9.40e-01 3.91e-01f  1\n",
            "   5  5.8184122e+02 1.78e-15 4.10e+00  -0.3 4.40e+01    -  8.83e-01 6.19e-01f  1\n",
            "   6  1.2961273e+02 1.78e-15 3.60e-01  -0.4 2.29e+01    -  1.00e+00 9.40e-01f  1\n",
            "   7  4.3184146e+01 1.78e-15 6.63e-01  -1.4 8.80e+00    -  8.55e-01 7.38e-01f  1\n",
            "   8  2.4083702e+01 1.78e-15 7.01e-01  -3.0 1.17e+01    -  6.08e-01 5.35e-01f  1\n",
            "   9  1.4585849e+01 1.78e-15 1.18e-01  -1.7 3.72e+00    -  9.11e-01 8.82e-01f  1\n",
            "iter    objective    inf_pr   inf_du lg(mu)  ||d||  lg(rg) alpha_du alpha_pr  ls\n",
            "  10  1.2289219e+01 1.78e-15 4.51e-01  -2.1 1.61e+00    -  1.00e+00 5.91e-01f  1\n",
            "  11  1.0407922e+01 1.78e-15 1.85e-01  -2.3 4.04e+00    -  9.90e-01 8.79e-01f  1\n",
            "  12  9.4663006e+00 1.78e-15 1.44e-02  -2.7 7.95e-01    -  9.81e-01 1.00e+00f  1\n",
            "  13  9.1647981e+00 1.78e-15 1.52e-02  -3.1 3.60e-01    -  1.00e+00 8.78e-01f  1\n",
            "  14  9.0555795e+00 1.78e-15 9.21e-02  -3.7 1.46e-01    -  9.84e-01 5.85e-01f  1\n",
            "  15  8.9885230e+00 1.78e-15 1.50e-04  -3.6 5.48e-02    -  9.96e-01 1.00e+00f  1\n",
            "  16  8.9448129e+00 1.78e-15 1.35e-03  -5.7 7.11e-02    -  7.64e-01 7.92e-01f  1\n",
            "  17  8.9352826e+00 1.78e-15 1.08e-03  -5.4 5.74e-02    -  9.98e-01 8.50e-01f  1\n",
            "  18  8.9332879e+00 1.78e-15 1.24e-02  -5.9 8.83e-03    -  9.92e-01 8.74e-01f  1\n",
            "  19  8.9327066e+00 1.78e-15 7.31e-05  -7.6 1.01e-03    -  1.00e+00 9.94e-01f  1\n",
            "iter    objective    inf_pr   inf_du lg(mu)  ||d||  lg(rg) alpha_du alpha_pr  ls\n",
            "  20  8.9326975e+00 1.78e-15 2.84e-14  -9.6 1.17e-05    -  1.00e+00 1.00e+00f  1\n",
            "\n",
            "Number of Iterations....: 20\n",
            "\n",
            "                                   (scaled)                 (unscaled)\n",
            "Objective...............:   8.9326975319765243e+00    8.9326975319765243e+00\n",
            "Dual infeasibility......:   2.8421709430404007e-14    2.8421709430404007e-14\n",
            "Constraint violation....:   1.7763568394002505e-15    1.7763568394002505e-15\n",
            "Complementarity.........:   3.1909514272153338e-10    3.1909514272153338e-10\n",
            "Overall NLP error.......:   3.1909514272153338e-10    3.1909514272153338e-10\n",
            "\n",
            "\n",
            "Number of objective function evaluations             = 21\n",
            "Number of objective gradient evaluations             = 21\n",
            "Number of equality constraint evaluations            = 21\n",
            "Number of inequality constraint evaluations          = 21\n",
            "Number of equality constraint Jacobian evaluations   = 21\n",
            "Number of inequality constraint Jacobian evaluations = 21\n",
            "Number of Lagrangian Hessian evaluations             = 20\n",
            "Total CPU secs in IPOPT (w/o function evaluations)   =      0.070\n",
            "Total CPU secs in NLP function evaluations           =      0.051\n",
            "\n",
            "EXIT: Optimal Solution Found.\n",
            " \n",
            " The solution was found.\n",
            " \n",
            " The final value of the objective function is    8.93269753197652     \n",
            " \n",
            " ---------------------------------------------------\n",
            " Solver         :  IPOPT (v3.12)\n",
            " Solution time  :   0.132599999997183      sec\n",
            " Objective      :    8.93272199941831     \n",
            " Successful solution\n",
            " ---------------------------------------------------\n",
            " \n"
          ],
          "name": "stdout"
        },
        {
          "output_type": "display_data",
          "data": {
            "image/png": "[encoded data removed]",
            "text/plain": [
              "<Figure size 576x396 with 3 Axes>"
            ]
          },
          "metadata": {
            "tags": []
          }
        }
      ]
    },
    {
      "metadata": {
        "id": "x-wooAbN3ySZ",
        "colab_type": "code",
        "colab": {}
      },
      "cell_type": "code",
      "source": [
        ""
      ],
      "execution_count": 0,
      "outputs": []
    }
  ]
}