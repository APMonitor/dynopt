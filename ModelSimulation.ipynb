{
  "nbformat": 4,
  "nbformat_minor": 0,
  "metadata": {
    "colab": {
      "name": "ModelSimulation.ipynb",
      "version": "0.3.2",
      "provenance": [],
      "collapsed_sections": [],
      "toc_visible": true,
      "include_colab_link": true
    },
    "kernelspec": {
      "name": "python3",
      "display_name": "Python 3"
    }
  },
  "cells": [
    {
      "cell_type": "markdown",
      "metadata": {
        "id": "view-in-github",
        "colab_type": "text"
      },
      "source": [
        "<a href=\"https://colab.research.google.com/github/misbahsy/APMonitor-do/blob/master/ModelSimulation.ipynb\" target=\"_parent\"><img src=\"https://colab.research.google.com/assets/colab-badge.svg\" alt=\"Open In Colab\"/></a>"
      ]
    },
    {
      "metadata": {
        "id": "6i2KgwUx0yXv",
        "colab_type": "text"
      },
      "cell_type": "markdown",
      "source": [
        "#Simulation of Dynamic Systems\n",
        "Simulation of dynamic systems is the process of finding a numerical solution to a set of differential and algebraic equations (DAEs) with given initial conditions (x0). A mathematical expression of an Initial Value Problem (IVP) is shown below.\n",
        "\n",
        "$0 = f(dx/dt,x,p)$\n",
        "\n",
        "$0 < g(dx/dt,x,p)$\n",
        "\n",
        "$Given  \\; x_0 \\;  and \\;  p$\n",
        "\n",
        "The DAE can be solved with a variety of analytic or numeric methods. Analytic approaches are possible for simple systems such as systems with one or two equations. Numeric methods are used with more complicated systems but these methods have approximation errors that may deviate from the exact solution. A first step in model development is to draw a schematic, list the assumptions, and write the differential and algebraic equations that describe the system."
      ]
    },
    {
      "metadata": {
        "id": "4AZiRqw32Kvb",
        "colab_type": "code",
        "cellView": "form",
        "outputId": "4cb14006-c659-44c6-f9e5-cc341b701932",
        "colab": {
          "base_uri": "https://localhost:8080/",
          "height": 336
        }
      },
      "cell_type": "code",
      "source": [
        "#@title\n",
        "%%html\n",
        "<iframe width=\"560\" height=\"315\" src=\"https://www.youtube.com/embed/hje-dcn2cRw\" frameborder=\"0\" allowfullscreen></iframe>"
      ],
      "execution_count": 0,
      "outputs": [
        {
          "output_type": "display_data",
          "data": {
            "text/html": [
              "<iframe width=\"560\" height=\"315\" src=\"https://www.youtube.com/embed/hje-dcn2cRw\" frameborder=\"0\" allowfullscreen></iframe>"
            ],
            "text/plain": [
              "<IPython.core.display.HTML object>"
            ]
          },
          "metadata": {
            "tags": []
          }
        }
      ]
    },
    {
      "metadata": {
        "id": "L6kCpkA7JT0x",
        "colab_type": "text"
      },
      "cell_type": "markdown",
      "source": [
        "<ul><li><a class='urllink' href='https://youtu.be/FE4GywqJmv0' rel='nofollow'>Mass Balance Solution</a>\n",
        "</li><li><a class='urllink' href='https://youtu.be/0ah42LlU_3Y' rel='nofollow'>Species Balance Solution</a>\n",
        "</li><li><a class='urllink' href='https://youtu.be/AcNTTCjPCDg' rel='nofollow'>Energy Balance Solution</a>\n",
        "</li><li><a class='urllink' href='https://youtu.be/diasyg2K_oU' rel='nofollow'>Funnel (Mass Balance) Solution</a>\n",
        "</li></ul><p class='vspace'>Two numerical methods reviewed are sequential and simultaneous simulation techniques.\n",
        "</p>\n"
      ]
    },
    {
      "metadata": {
        "id": "gLm7VV1Wxgx5",
        "colab_type": "text"
      },
      "cell_type": "markdown",
      "source": [
        "\n",
        "##Sequential Simulation\n",
        "<p>Sequential simulation methods take successive time steps in the simulation horizon and often refine the size of each step to meet a specified error tolerance. Euler's method is the most basic method for sequential simulation while other methods generally offer improved accuracy and therefore allow larger step sizes.\n",
        "</p>"
      ]
    },
    {
      "metadata": {
        "id": "LOb0QDuD2NXN",
        "colab_type": "code",
        "cellView": "form",
        "outputId": "95defe1a-19c9-4623-86ef-9b68830f0b47",
        "colab": {
          "base_uri": "https://localhost:8080/",
          "height": 655
        }
      },
      "cell_type": "code",
      "source": [
        "#@title\n",
        "%%html\n",
        "<iframe width=\"560\" height=\"315\" src=\"https://www.youtube.com/embed/Oae-S5AzZCk\" frameborder=\"0\" allowfullscreen></iframe>\n",
        "<div class='vspace'></div>\n",
        "<iframe width=\"560\" height=\"315\" src=\"https://www.youtube.com/embed/ynm7B0N0_Yw\" frameborder=\"0\" allowfullscreen></iframe>"
      ],
      "execution_count": 0,
      "outputs": [
        {
          "output_type": "display_data",
          "data": {
            "text/html": [
              "<iframe width=\"560\" height=\"315\" src=\"https://www.youtube.com/embed/Oae-S5AzZCk\" frameborder=\"0\" allowfullscreen></iframe>\n",
              "<div class='vspace'></div>\n",
              "<iframe width=\"560\" height=\"315\" src=\"https://www.youtube.com/embed/ynm7B0N0_Yw\" frameborder=\"0\" allowfullscreen></iframe>"
            ],
            "text/plain": [
              "<IPython.core.display.HTML object>"
            ]
          },
          "metadata": {
            "tags": []
          }
        }
      ]
    },
    {
      "metadata": {
        "id": "BW_XyjYsJlgw",
        "colab_type": "text"
      },
      "cell_type": "markdown",
      "source": [
        "##Simultaneous Simulation\n",
        "<p>Simultaneous simulation methods are used to converge all of the state variable predictions together instead of one step at a time. Orthogonal collocation on finite elements is a popular method to convert the DAE into a Nonlinear Programming (NLP) problem for solution by efficient solvers.\n",
        "</p>\n",
        "<div class='vspace'></div><pre> <em>0 = f(x,p)</em>\n",
        " <em>0 &lt; g(x,p)</em>\n",
        " Given <em>x<sub>0</sub></em> and <em>p</em>\n",
        "</pre><p class='vspace'>Further details on orthogonal collocation are provided at the following references.\n",
        "</p>\n",
        "<div class='vspace'></div><ul><li>Nonlinear Modeling, Estimation and Predictive Control in APMonitor, Hedengren, J. D. and Asgharzadeh Shishavan, R., Powell, K.M., and Edgar, T.F., Computers and Chemical Engineering, Volume 70, pg. 133–148, 2014. Available at: <a class='urllink' href='https://dx.doi.org/10.1016/j.compchemeng.2014.04.013' rel='nofollow'>https://dx.doi.org/10.1016/j.compchemeng.2014.04.013</a>\n",
        "</li></ul><div class='vspace'></div>"
      ]
    },
    {
      "metadata": {
        "id": "iX9IKX2J2hT1",
        "colab_type": "code",
        "cellView": "form",
        "outputId": "ee888675-6bd4-4fa3-88d5-83d69bb820a8",
        "colab": {
          "base_uri": "https://localhost:8080/",
          "height": 655
        }
      },
      "cell_type": "code",
      "source": [
        "#@title\n",
        "%%html\n",
        "\n",
        "<iframe width=\"560\" height=\"315\" src=\"https://www.youtube.com/embed/pOXcOWMo5Hs\" frameborder=\"0\" allowfullscreen></iframe>\n",
        "<div class='vspace'></div>\n",
        "\n",
        "<iframe width=\"560\" height=\"315\" src=\"https://www.youtube.com/embed/YvjG2LRNtKU\" frameborder=\"0\" allowfullscreen></iframe>\n"
      ],
      "execution_count": 0,
      "outputs": [
        {
          "output_type": "display_data",
          "data": {
            "text/html": [
              "\n",
              "<iframe width=\"560\" height=\"315\" src=\"https://www.youtube.com/embed/pOXcOWMo5Hs\" frameborder=\"0\" allowfullscreen></iframe>\n",
              "<div class='vspace'></div>\n",
              "\n",
              "<iframe width=\"560\" height=\"315\" src=\"https://www.youtube.com/embed/YvjG2LRNtKU\" frameborder=\"0\" allowfullscreen></iframe>"
            ],
            "text/plain": [
              "<IPython.core.display.HTML object>"
            ]
          },
          "metadata": {
            "tags": []
          }
        }
      ]
    },
    {
      "metadata": {
        "id": "u_KAV9YfKBDK",
        "colab_type": "text"
      },
      "cell_type": "markdown",
      "source": [
        "##Exercise\n",
        "\n",
        "<div><img src='http://apmonitor.com/do/uploads/Main/flight_controls_747.png' alt='' title='' /></div>\n",
        "<p class='vspace'>This exercise involves the simulation of a Boeing 747 airplane at a cruising altitude of 40,000 ft. In this application<sup>1</sup>, a model of the process is desired to relate the elevator (<em>e</em>) and thrust (<em>t</em>) to the airspeed and climb rate. The model equations are shown below in state space form that relates elevator angle in centi-radians and thrust to four states including airspeed in the horizontal direction (<em>u</em> - <em>u</em> <sub>w</sub>), airspeed in the vertical direction (<em>w</em> - <em>w</em> <sub>w</sub>), rotation of the aircraft (<em>q</em>), and angle of the aircraft (<em>theta</em>).\n",
        "</p>\n",
        "<div class='vspace'></div><div><img src='http://apmonitor.com/do/uploads/Main/flight_equations_747.png' alt='' title='' /></div>\n",
        "<div class='vspace'></div><div><img src='http://apmonitor.com/do/uploads/Main/flight_equations2_747.png' alt='' title='' /></div>\n",
        "<p class='vspace'>The wind speeds are given in the horizontal (<em>u</em> <sub>w</sub>) and vertical (<em>w</em> <sub>w</sub>) directions with a nominal velocity of the aircraft of <em>u</em><sub>0</sub>=774 ft/sec (0.8 Mach speed). The output <em>y</em><sub>1</sub> is the air speed and <em>y</em><sub>2</sub> is the climb rate.\n",
        "</p>\n",
        "<p class='vspace'>Simulate step responses of the aircraft with respect to the elevator angle and thrust. Design a model predictive controller to respond to set point changes in the air speed and climb rate of the aircraft. Explain the coordinated movement of the manipulated variables to achieve the desired set points of the controlled variables.\n",
        "</p>\n",
        "<div class='vspace'></div>\n"
      ]
    },
    {
      "metadata": {
        "id": "cCSHR43DxrUC",
        "colab_type": "text"
      },
      "cell_type": "markdown",
      "source": [
        "\n",
        "##Solution\n",
        "<div><img src='http://apmonitor.com/do/uploads/Main/download.png' alt='' title='' /> <a class='urllink' href='http://apmonitor.com/do/uploads/Main/flight_controls.zip' rel='nofollow'>Flight Controls in MATLAB and Python</a></div>\n",
        "<div class='vspace'></div>"
      ]
    },
    {
      "metadata": {
        "id": "vLA-eonf24hn",
        "colab_type": "code",
        "cellView": "form",
        "outputId": "e9175052-1f5a-4d45-db68-6ba1d077c2c1",
        "colab": {
          "base_uri": "https://localhost:8080/",
          "height": 336
        }
      },
      "cell_type": "code",
      "source": [
        "#@title\n",
        "%%html\n",
        "\n",
        "<iframe width=\"560\" height=\"315\" src=\"https://www.youtube.com/embed/o_VlhBP4EfY?rel=0\" frameborder=\"0\" allowfullscreen></iframe>"
      ],
      "execution_count": 0,
      "outputs": [
        {
          "output_type": "display_data",
          "data": {
            "text/html": [
              "\n",
              "<iframe width=\"560\" height=\"315\" src=\"https://www.youtube.com/embed/o_VlhBP4EfY?rel=0\" frameborder=\"0\" allowfullscreen></iframe>"
            ],
            "text/plain": [
              "<IPython.core.display.HTML object>"
            ]
          },
          "metadata": {
            "tags": []
          }
        }
      ]
    },
    {
      "metadata": {
        "id": "13_tEgwJ3Skp",
        "colab_type": "code",
        "cellView": "form",
        "colab": {}
      },
      "cell_type": "code",
      "source": [
        "#@title Solution in GEKKO\n",
        "\n",
        "try:\n",
        "    from pip import main as pipmain\n",
        "except:\n",
        "    from pip._internal import main as pipmain\n",
        "pipmain(['install','gekko'])\n",
        "\n",
        "from __future__ import division\n",
        "\n",
        "from gekko import GEKKO\n",
        "import numpy as np\n",
        "\n",
        "## Linear model of a Boeing 747\n",
        "#  Level flight at 40,000 ft elevation\n",
        "#  Velocity at 774 ft/sec (0.80 Mach)\n",
        "\n",
        "# States\n",
        "#  u - uw (ft/sec) - horizontal velocity - horizontal wind\n",
        "#  w - ww (ft/sec) - vertical velocity - vertical wind\n",
        "#  q (crad/sec) - angular velocity\n",
        "#  theta (crad) - angle from horizontal\n",
        "# note: crad = 0.01 rad\n",
        "\n",
        "# Inputs\n",
        "#  e - elevator\n",
        "#  t - throttle\n",
        "\n",
        "# Outputs\n",
        "#  u - uw (ft/sec) - horizontal airspeed\n",
        "#  hdot = -w + u0 * theta with u0 = 774 ft/sec\n",
        "\n",
        "\n",
        "A = np.array([[-.003, 0.039, 0, -0.322],\n",
        "              [-0.065, -0.319, 7.74, 0],\n",
        "              [0.020, -0.101, -0.429, 0],\n",
        "              [0, 0, 1, 0]])\n",
        "\n",
        "B = np.array([[0.01, 1],\n",
        "              [-0.18, -0.04],\n",
        "              [-1.16, 0.598],\n",
        "              [0, 0]])\n",
        "\n",
        "C = np.array([[1, 0, 0, 0],\n",
        "              [0, -1, 0, 7.74]])\n",
        "\n",
        "#%% Build GEKKO State Space model\n",
        "m = GEKKO()\n",
        "x,y,u = m.state_space(A,B,C,D=None)\n",
        "\n",
        "m.time = [0, 0.1, 0.2, 0.4, 1, 1.5, 2, 3, 4, 5, 6, 7, 8, 10, 12, 15]\n",
        "m.options.imode = 6\n",
        "m.options.nodes = 3\n",
        "\n",
        "## MV tuning\n",
        "# lower and upper bounds for elevator pitch\n",
        "# lower and upper bounds for thrust\n",
        "# delta MV movement cost\n",
        "for i in range(len(u)):\n",
        "    u[i].lower = -5\n",
        "    u[i].upper = 5\n",
        "    u[i].dcost = 1\n",
        "    u[i].status = 1\n",
        "\n",
        "## CV tuning\n",
        "# tau = first order time constant for trajectories\n",
        "y[0].tau = 5\n",
        "y[1].tau = 8\n",
        "# tr_init = 0 (dead-band)\n",
        "#         = 1 (first order trajectory)\n",
        "#         = 2 (first order traj, re-center with each cycle)\n",
        "y[0].tr_init = 2\n",
        "y[1].tr_init = 2\n",
        "# targets (dead-band needs upper and lower values)\n",
        "# SPHI = upper set point\n",
        "# SPLO = lower set point\n",
        "y[0].sphi= -8.5\n",
        "y[0].splo= -9.5\n",
        "y[1].sphi= 5.4\n",
        "y[1].splo= 4.6\n",
        "\n",
        "y[0].status = 1\n",
        "y[1].status = 1\n",
        "\n",
        "\n",
        "m.solve()\n",
        "\n",
        "# get additional solution information (trajectories)\n",
        "import json\n",
        "with open(m.path+'//results.json') as f:\n",
        "    results = json.load(f)\n",
        "# get internal GEKKO variable names\n",
        "air_speed = y[0].name\n",
        "climb_rate = y[1].name\n",
        "\n",
        "#%% plot results\n",
        "import matplotlib.pyplot as plt\n",
        "plt.figure(1)\n",
        "plt.subplot(311)\n",
        "plt.plot(m.time,u[0],'b-',linewidth=2.0)\n",
        "plt.plot(m.time,u[1],'g:',linewidth=2.0)\n",
        "plt.legend(['Elevator','Thrust'])\n",
        "plt.ylabel('MV Action')\n",
        "\n",
        "plt.subplot(312)\n",
        "plt.plot(m.time,y[0],'r-',linewidth=2.0)\n",
        "plt.plot(m.time,results[air_speed+'.tr_hi'],'k:')\n",
        "plt.plot(m.time,results[air_speed+'.tr_lo'],'k:')\n",
        "plt.legend(['Air Speed','Upper Trajectory','Lower Trajectory'])\n",
        "plt.ylabel('Air Speed')\n",
        "\n",
        "plt.subplot(313)\n",
        "plt.plot(m.time,y[1],'r-',linewidth=2.0)\n",
        "plt.plot(m.time,results[climb_rate+'.tr_hi'],'k:')\n",
        "plt.plot(m.time,results[climb_rate+'.tr_lo'],'k:')\n",
        "plt.legend(['Climb Rate','Upper Trajectory','Lower Trajectory'])\n",
        "plt.ylabel('Climb Rate')\n",
        "\n",
        "plt.show()\n"
      ],
      "execution_count": 0,
      "outputs": []
    }
  ]
}