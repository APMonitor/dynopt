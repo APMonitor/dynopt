{
  "nbformat": 4,
  "nbformat_minor": 0,
  "metadata": {
    "colab": {
      "name": "DiscreteVariables.ipynb",
      "version": "0.3.2",
      "provenance": [],
      "collapsed_sections": [],
      "toc_visible": true,
      "include_colab_link": true
    },
    "kernelspec": {
      "name": "python3",
      "display_name": "Python 3"
    },
    "accelerator": "TPU"
  },
  "cells": [
    {
      "cell_type": "markdown",
      "metadata": {
        "id": "view-in-github",
        "colab_type": "text"
      },
      "source": [
        "<a href=\"https://colab.research.google.com/github/misbahsy/APMonitor-do/blob/master/DiscreteVariables.ipynb\" target=\"_parent\"><img src=\"https://colab.research.google.com/assets/colab-badge.svg\" alt=\"Open In Colab\"/></a>"
      ]
    },
    {
      "metadata": {
        "id": "55onVQOs9rG8",
        "colab_type": "text"
      },
      "cell_type": "markdown",
      "source": [
        "#Dynamic Control with Discrete Variables\n",
        "One often encounters problems in which manipulated variables or adjustable parameters must be selected from among a set of discrete values. Examples of discrete variables include ON/OFF state, selection of different feed lines, and other variables that are naturally integers. Many dynamic optimization problems are discrete in nature."
      ]
    },
    {
      "metadata": {
        "id": "fxNsqUV59qPg",
        "colab_type": "code",
        "cellView": "form",
        "outputId": "eda9d75a-5a68-4458-fedd-9ecd7391159b",
        "colab": {
          "base_uri": "https://localhost:8080/",
          "height": 336
        }
      },
      "cell_type": "code",
      "source": [
        "#@title\n",
        "%%html\n",
        "<iframe width=\"560\" height=\"315\" src=\"https://www.youtube.com/embed/RPKPjqdiX1c\" frameborder=\"0\" allowfullscreen></iframe>\n"
      ],
      "execution_count": 0,
      "outputs": [
        {
          "output_type": "display_data",
          "data": {
            "text/html": [
              "<iframe width=\"560\" height=\"315\" src=\"https://www.youtube.com/embed/RPKPjqdiX1c\" frameborder=\"0\" allowfullscreen></iframe>"
            ],
            "text/plain": [
              "<IPython.core.display.HTML object>"
            ]
          },
          "metadata": {
            "tags": []
          }
        }
      ]
    },
    {
      "metadata": {
        "id": "BKOWwsnO99Kd",
        "colab_type": "text"
      },
      "cell_type": "markdown",
      "source": [
        "<p class='vspace'>At first glance it might seem solving a discrete variable problem would be easier than a continuous problem. After all, for a variable within a given range, a set of discrete values within the range is finite whereas the number of continuous values is infinite. When searching for an optimum, it seems it would be easier to search from a finite set rather than from an infinite set.\n",
        "</p>\n",
        "<p class='vspace'>This is not the case, however. Solving discrete problems is harder than continuous problems. This is because of the combinatorial explosion that occurs in all but the smallest problems. For example if we have two variables which can each take 10 values, we have 10*10 = 100 possibilities. If we have 10 variables that can each take 10 values, we have 10^10 possibilities. Even with the fastest computer, it would take a long time to evaluate all of these.\n",
        "</p>\n",
        "<p class='vspace'>Discrete decision variables are those that have only certain levels or quantities that are acceptable at an optimal solution. Examples of discrete variables are binary (e.g. off/on or 0/1), integer (e.g. 4,5,6,7), or general discrete values that are not integer (e.g. 1/4 cm, 1/2 cm, 1 cm).\n",
        "</p>\n",
        "<div class='vspace'></div>\n"
      ]
    },
    {
      "metadata": {
        "id": "ajrqGjfLgSRR",
        "colab_type": "text"
      },
      "cell_type": "markdown",
      "source": [
        "\n",
        "##Integer Variables\n",
        "<p>Integer or binary variables are defined in the APMonitor Modeling Language by appending a variable name with <strong>int</strong>. An binary decision variable is an integer variable with bounds between 0 and 1.\n",
        "</p>\n",
        "<div class='vspace'></div><pre> ! Binary decision variable (0 or 1)\n",
        " Variables\n",
        "   int_b &gt;=0 &lt;=1\n",
        "</pre><p class='vspace'>The range of upper and lower bounds can be increased or decreased to any range to create a more general integer variable.\n",
        "</p>\n",
        "<div class='vspace'></div><pre> ! Integer decision variable (-5 to 10)\n",
        " Variables\n",
        "   int_v &gt;=-5 &lt;=10\n",
        "</pre><p class='vspace'>Nonlinear programming solvers (such as IPOPT) may not return an integer solution because they are designed for continuous variables. Mixed Integer Nonlinear Programming solvers (such as APOPT) are equipped to solve for binary or integer variables. Select the appropriate <a class='urllink' href='https://apmonitor.com/wiki/index.php/Main/OptionApmSolver' rel='nofollow'>solver option</a> to either find an initial solution without integer variables or an integer solution. It is sometimes desirable to find a non-integer solution first because of the often significant reduction in computation time without the integer variables.\n",
        "</p>\n"
      ]
    },
    {
      "metadata": {
        "id": "RdGmnOxhgg_F",
        "colab_type": "text"
      },
      "cell_type": "markdown",
      "source": [
        "\n",
        "\n",
        "##Exercise 1\n",
        "\n",
        "<p><strong>Objective:</strong> Solve a discrete optimization problem with the branch and bound technique. <em>Estimated time: 1 hour.</em>\n",
        "</p>\n",
        "<div class='vspace'></div><ul><li><a class='urllink' href='http://apmonitor.com/do/uploads/Main/minlp_worksheet.pdf' rel='nofollow'>Branch and Bound Exercise (pdf)</a>\n",
        "</li></ul><div class='vspace'></div><div><img src='http://apmonitor.com/do/uploads/Main/bnb_contour.png' alt='' title='' /></div>\n",
        "<div class='vspace'></div>\n",
        "\n",
        "\n",
        "##Solution\n",
        "\n",
        "<p class='vspace'>The integer problem is solved with <a class='urllink' href='https://gekko.readthedocs.io/en/latest/' rel='nofollow'>Python GEKKO</a>. The option <strong>integer</strong>=True is used to switch the variable from continuous to integer form. The APOPT solver is required to solve problem with integer variables but other solvers such as IPOPT can provide a relaxed solution where the integer conditions are not enforced.\n",
        "</p>\n",
        "<div><img src='http://apmonitor.com/do/uploads/Main/download.png' alt='' title='' /> <a class='urllink' href='http://apmonitor.com/do/uploads/Main/discrete_optimization_source.zip' rel='nofollow'>Discrete Optimization Source Files</a></div>\n",
        "<div class='vspace'></div>"
      ]
    },
    {
      "metadata": {
        "id": "ZXngC8Jwb9du",
        "colab_type": "code",
        "colab": {},
        "cellView": "form"
      },
      "cell_type": "code",
      "source": [
        "#@title Solution with GEKKO\n",
        "try:\n",
        "    from pip import main as pipmain\n",
        "except:\n",
        "    from pip._internal import main as pipmain\n",
        "pipmain(['install','gekko'])\n",
        "\n",
        "from gekko import GEKKO\n",
        "m = GEKKO() # create GEKKO model\n",
        "# create integer variables\n",
        "x1 = m.Var(integer=True,lb=-1,ub=1) \n",
        "x2 = m.Var(integer=True,lb=-1,ub=2)\n",
        "m.Obj(4*x1**2-4*x2*x1**2+x2**2+x1**2-x1+1)\n",
        "m.options.SOLVER = 1 # APOPT solver\n",
        "m.solve()\n",
        "print('x1: ' + str(x1.value[0]))\n",
        "print('x2: ' + str(x2.value[0]))\n"
      ],
      "execution_count": 0,
      "outputs": []
    },
    {
      "metadata": {
        "id": "Je3MhWO5-jAd",
        "colab_type": "code",
        "cellView": "form",
        "outputId": "185fc8d2-a6f6-48ec-a024-09e23f17b508",
        "colab": {
          "base_uri": "https://localhost:8080/",
          "height": 336
        }
      },
      "cell_type": "code",
      "source": [
        "#@title\n",
        "%%html\n",
        "<iframe width=\"560\" height=\"315\" src=\"//www.youtube.com/embed/XhqteZIydT0?rel=0\" frameborder=\"0\" allowfullscreen></iframe>\n"
      ],
      "execution_count": 0,
      "outputs": [
        {
          "output_type": "display_data",
          "data": {
            "text/html": [
              "<iframe width=\"560\" height=\"315\" src=\"//www.youtube.com/embed/XhqteZIydT0?rel=0\" frameborder=\"0\" allowfullscreen></iframe>"
            ],
            "text/plain": [
              "<IPython.core.display.HTML object>"
            ]
          },
          "metadata": {
            "tags": []
          }
        }
      ]
    },
    {
      "metadata": {
        "id": "AOS4XP1E-dtA",
        "colab_type": "text"
      },
      "cell_type": "markdown",
      "source": [
        "##Exercise 2\n",
        "<p>Design a thermostat for a home that has a furnace with On/Off control. The home is initially unheated in 40 degF weather. When the heater is turned on, the temperature in the home reaches 63% of the steady state value in 120 minutes, starting from 40 degF. If left on indefinitely, the home would eventually reach 100 degF. Optimize the heater response for the first 2 1/2 hours starting from a cold home at 40 degF. The target range for the home is between 68 and 70 degF.\n",
        "</p>\n",
        "<div class='vspace'></div><div><img src='http://apmonitor.com/do/uploads/Main/download.png' alt='' title='' /> <a class='urllink' href='http://apmonitor.com/do/uploads/Main/thermostat_python_matlab.zip' rel='nofollow'>Optimized Home Furnace Source Files</a></div>\n",
        "\n",
        "##Solution"
      ]
    },
    {
      "metadata": {
        "id": "5hdDDDZHcUcm",
        "colab_type": "code",
        "colab": {},
        "cellView": "form"
      },
      "cell_type": "code",
      "source": [
        "#@title Solution with GEKKO\n",
        "\n",
        "try:\n",
        "    from pip import main as pipmain\n",
        "except:\n",
        "    from pip._internal import main as pipmain\n",
        "pipmain(['install','gekko'])\n",
        "\n",
        "from gekko import GEKKO\n",
        "import matplotlib.pyplot as plt\n",
        "\n",
        "m = GEKKO() # create GEKKO model\n",
        "m.time = [0,1,2,4,8,12,16,20,25,30,35,40,45,50,\\\n",
        "          55,60,65,70,75,80,85,90,95,100,105,110,\\\n",
        "          115,120,125,130,135,140,145,150]\n",
        "\n",
        "# change solver options\n",
        "m.solver_options = ['minlp_gap_tol 1.0e-2',\\\n",
        "                    'minlp_maximum_iterations 10000',\\\n",
        "                    'minlp_max_iter_with_int_sol 5000']\n",
        "m.options.SOLVER = 1\n",
        "m.options.IMODE = 6\n",
        "\n",
        "# parameters\n",
        "Kp = 60\n",
        "taup = 120\n",
        "T0 = 40\n",
        "\n",
        "# create heater binary variable\n",
        "u = m.MV(integer=True,lb=0,ub=1)\n",
        "u.dcost = 0.1\n",
        "u.status = 1\n",
        "\n",
        "# controlled variable (temperature)\n",
        "T = m.CV(value=T0)\n",
        "T.SPHI = 68\n",
        "T.SPLO = 70\n",
        "T.STATUS = 1\n",
        "T.TR_INIT = 0\n",
        "\n",
        "# first order equation\n",
        "m.Equation(taup * T.dt() == -(T-T0) + Kp * u)\n",
        "\n",
        "m.solve() # solve MILP\n",
        "\n",
        "# plot solution\n",
        "plt.subplot(2,1,1)\n",
        "plt.plot(m.time,T,'r-',label='Temperature')\n",
        "plt.plot([0,m.time[-1]],[T.SPHI,T.SPHI],'k:',label=r'$T_{sphi}$')\n",
        "plt.plot([0,m.time[-1]],[T.SPLO,T.SPLO],'k:',label=r'$T_{splo}$')\n",
        "plt.ylabel('T (degF)')\n",
        "plt.legend()\n",
        "plt.subplot(2,1,2)\n",
        "plt.plot(m.time,u,'b.-',label='Furnace (On/Off)')\n",
        "plt.ylabel('Heat (On/Off)')\n",
        "plt.xlabel('Time (min)')\n",
        "plt.legend()\n",
        "plt.show()"
      ],
      "execution_count": 0,
      "outputs": []
    },
    {
      "metadata": {
        "id": "XG9qTu5992Dh",
        "colab_type": "code",
        "cellView": "form",
        "outputId": "b7c2b380-4aad-45ad-e5d9-fefabbd547c6",
        "colab": {
          "base_uri": "https://localhost:8080/",
          "height": 336
        }
      },
      "cell_type": "code",
      "source": [
        "#@title\n",
        "%%html\n",
        "<iframe width=\"560\" height=\"315\" src=\"https://www.youtube.com/embed/2XC6mpop_j4\" frameborder=\"0\" allowfullscreen></iframe>\n"
      ],
      "execution_count": 0,
      "outputs": [
        {
          "output_type": "display_data",
          "data": {
            "text/html": [
              "<iframe width=\"560\" height=\"315\" src=\"https://www.youtube.com/embed/2XC6mpop_j4\" frameborder=\"0\" allowfullscreen></iframe>"
            ],
            "text/plain": [
              "<IPython.core.display.HTML object>"
            ]
          },
          "metadata": {
            "tags": []
          }
        }
      ]
    },
    {
      "metadata": {
        "id": "g1LF-ElX-01X",
        "colab_type": "text"
      },
      "cell_type": "markdown",
      "source": [
        "##Exercise 3</h4>\n",
        "<p>An example problem for Mixed Integer Optimal Control is the Lotka Volterra fishing problem. It finds an fishing strategy over a 12 year horizon to equilibrate the predator as prey fish to a minimum steady state value. The Lotka Volterra equations for a predator-prey system have an additional equation to introduce fishing by man and with constants `c_0=0.4` and `c_1=0.2`.\n",
        "</p>\n",
        "<p class='vspace'>$$\\min_{x,w} x_2 \\left( t_f \\right)$$\n",
        "</p>\n",
        "<p class='vspace'>$$\\mathrm{s.t.} \\quad \\frac{dx_0}{dt} = x_0 - x_0 x_1 - c_0 x_0 w$$\n",
        "$$\\quad \\quad  \\frac{dx_1}{dt} = -x_1 + x_0 x_1 - c_1 x_1 w$$\n",
        "$$\\quad \\quad  \\frac{dx_2}{dt} = \\left(x_0-1\\right)^2 + \\left(x_1-1\\right)^2$$\n",
        "$$\\quad \\quad x(0) = (0.5,0.7,0)^T$$\n",
        "$$\\quad \\quad w(t) \\in {{0,1}}$$\n",
        "</p>\n",
        "<p class='vspace'>The optimal solution has a final objective of 1.344.\n",
        "</p>\n",
        "<div class='vspace'></div><div><img width='550px' src='http://apmonitor.com/do/uploads/Main/lotka_volterra_fishing.png' alt='' title='' /> </div>\n",
        "\n",
        "<div class='vspace'></div><div><img src='http://apmonitor.com/do/uploads/Main/download.png' alt='' title='' /> <a class='urllink' href='http://apmonitor.com/do/uploads/Main/lotka_volterra_fishing.zip' rel='nofollow'>Download Solution Files in MATLAB and Python</a></div>\n",
        "\n"
      ]
    },
    {
      "metadata": {
        "id": "aCSSoQ27-Tn2",
        "colab_type": "code",
        "cellView": "form",
        "colab": {}
      },
      "cell_type": "code",
      "source": [
        "#@title Soultion with GEKKO\n",
        "\n",
        "try:\n",
        "    from pip import main as pipmain\n",
        "except:\n",
        "    from pip._internal import main as pipmain\n",
        "pipmain(['install','gekko'])\n",
        "\n",
        "import numpy as np\n",
        "import matplotlib.pyplot as plt\n",
        "from gekko import GEKKO\n",
        "\n",
        "m = GEKKO() # create GEKKO model\n",
        "\n",
        "# Add 0.01 as first step\n",
        "# 0,0.01,0.1,0.2,0.3,...11.9,12.0)\n",
        "m.time = np.insert(np.linspace(0,12,121),1,0.01)\n",
        "\n",
        "# change solver options\n",
        "m.solver_options = ['minlp_gap_tol 0.001',\\\n",
        "                    'minlp_maximum_iterations 10000',\\\n",
        "                    'minlp_max_iter_with_int_sol 100',\\\n",
        "                    'minlp_branch_method 1',\\\n",
        "                    'minlp_integer_tol 0.001',\\\n",
        "                    'minlp_integer_leaves 0',\\\n",
        "                    'minlp_maximum_iterations 200']\n",
        "\n",
        "c0 = 0.4 \n",
        "c1 = 0.2\n",
        "\n",
        "last = m.Param(np.zeros(122))\n",
        "last.value[-1] = 1\n",
        "\n",
        "x0 = m.Var(value=0.5,lb=0)\n",
        "x1 = m.Var(value=0.7,lb=0)\n",
        "x2 = m.Var(value=0.0,lb=0)\n",
        "w = m.MV(value=0,lb=0,ub=1,integer=True)\n",
        "w.STATUS = 1\n",
        "\n",
        "m.Obj(last*x2)\n",
        "\n",
        "m.Equations([x0.dt() == x0 - x0*x1 - c0*x0*w,\\\n",
        "             x1.dt() == - x1 + x0*x1 - c1*x1*w,\\\n",
        "             x2.dt() == (x0-1)**2 + (x1-1)**2])\n",
        "\n",
        "m.options.IMODE = 6\n",
        "m.options.NODES = 3\n",
        "m.options.SOLVER = 1\n",
        "m.options.MV_TYPE = 0\n",
        "m.solve()\n",
        "\n",
        "plt.figure(1)\n",
        "plt.step(m.time,w.value,'r-',label='w (0/1)')\n",
        "plt.plot(m.time,x0.value,'b-',label=r'$x_0$')\n",
        "plt.plot(m.time,x1.value,'k-',label=r'$x_1$')\n",
        "plt.plot(m.time,x2.value,'g-',label=r'$x_2$')\n",
        "plt.xlabel('Time')\n",
        "plt.ylabel('Variables')\n",
        "plt.legend(loc='best')\n",
        "plt.show()"
      ],
      "execution_count": 0,
      "outputs": []
    },
    {
      "metadata": {
        "id": "GKlFqbSYkZAG",
        "colab_type": "text"
      },
      "cell_type": "markdown",
      "source": [
        "\n",
        "<div class='vspace'></div><h4>Additional Resources</h4>\n",
        "<ul><li><a class='urllink' href='https://mintoc.de' rel='nofollow'>Mixed Integer Optimal Control Problems (mintOC)</a>\n",
        "</li><li><a class='urllink' href='https://minlp.org' rel='nofollow'>CMU-IBM Cyber-Infrastructure for MINLP</a>\n",
        "</li></ul>\n",
        "</div>"
      ]
    }
  ]
}