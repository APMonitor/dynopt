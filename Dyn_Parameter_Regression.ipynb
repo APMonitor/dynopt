{
 "cells": [
  {
   "cell_type": "markdown",
   "metadata": {},
   "source": [
    "## Dynamic Parameter Regression\n",
    "[Parameter Regression](https://apmonitor.com/do/index.php/Main/DynamicEstimation) in the [Dynamic Optimization](https://apmonitor.com/do) online course.\n",
    "\n",
    "Dynamic estimation algorithms optimize model predictions over a prior time horizon of measurements. These state and parameter values may then be used to update the model for improved forward prediction in time to anticipate future dynamic events. The updated model improves dynamic optimization or control actions because the model better matches reality.\n",
    "\n",
    "<img align=left width=500px src='https://apmonitor.com/do/uploads/Main/dyn_parameter_regression.png'>"
   ]
  },
  {
   "cell_type": "code",
   "execution_count": null,
   "metadata": {},
   "outputs": [],
   "source": [
    "from gekko import GEKKO\n",
    "import numpy as np"
   ]
  },
  {
   "cell_type": "markdown",
   "metadata": {},
   "source": [
    "When the analytic solution is not available (most cases), a method to solve dynamic estimation is by numerically integrating the dynamic model at discrete time intervals, much like measuring a physical system at particular time points. The numerical solution is compared to measured values and the difference is minimized by adjusting parameters in the model.\n",
    "\n",
    "#### Example 1\n",
    "\n",
    "Excel, MATLAB, Python, and Simulink are used in the following example to both solve the differential equations that describe the velocity of a vehicle as well as minimize an objective function.\n",
    "\n",
    "**Objective**: Minimize the difference between the measured velocity (v_meas) and predicted velocity ($v$) by adjusting parameters $K$ (gain) and $b$ (resistive coefficient). The vehicle pedal position ($p$) is measured over a time span of 1 minute and recorded as p_meas.\n",
    "\n",
    "```python\n",
    "time = [0,1,2,3,5,8,12,17,23,30,38,48,60]\n",
    "p_meas = [0,0,0,100,100,100,100,100,100,100,100,100,100]\n",
    "v_meas = [0,0,0,0,18.13,39.35,59.34,75.34,86.47,93.28,96.98,98.89,99.67]\n",
    "\n",
    "mass = 500 # kg\n",
    "K = unknown gain # (m/s-%pedal)\n",
    "b = unknown resistive coefficient # (N-s/m)\n",
    "```\n",
    "\n",
    "$mass \\frac{dv}{dt}+b\\,v=K\\,b\\,p$\n",
    "\n",
    "Estimate the values of $K$ and $b$ that minimize the difference between the measured and predicted velocity."
   ]
  },
  {
   "cell_type": "code",
   "execution_count": null,
   "metadata": {},
   "outputs": [],
   "source": [
    "m = GEKKO()\n",
    "\n",
    "m.time = [0,1,2,3,5,8,12,17,23,30,38,48,60]\n",
    "p_meas = [0,0,0,100,100,100,100,\\\n",
    "          100,100,100,100,100,100]\n",
    "v_meas = [0,0,0,0,18.13,39.35,59.34,75.34,\\\n",
    "          86.47,93.28,96.98,98.89,99.67]"
   ]
  },
  {
   "cell_type": "markdown",
   "metadata": {},
   "source": [
    "#### Example 2\n",
    "\n",
    "Estimate the parameter $k$ in the exponential decay equation:\n",
    "\n",
    "$\\frac{dx}{dt} = -k\\,x$\n",
    "\n",
    "by minimizing the error between the predicted and measured $x$ values. The $x$ values are measured at the following time intervals.\n",
    "\n",
    "```python\n",
    "t_data = [0, 0.1, 0.2, 0.4, 0.8, 1]\n",
    "x_data = [2.0,  1.6,  1.2, 0.7,  0.3,  0.15]\n",
    "```\n",
    "\n",
    "Use an initial condition of $x=2$ that matches the data. Verify the solution of $x$ with the analytic expression $x(t)=2 exp(-k\\,t)$."
   ]
  },
  {
   "cell_type": "code",
   "execution_count": null,
   "metadata": {},
   "outputs": [],
   "source": [
    "t_data = [0, 0.1, 0.2, 0.4, 0.8, 1]\n",
    "x_data = [2.0,  1.6,  1.2, 0.7,  0.3,  0.15]"
   ]
  },
  {
   "cell_type": "markdown",
   "metadata": {},
   "source": [
    "#### Example 3\n",
    "\n",
    "Estimate the parameters $a$, $b$, $c$, and $d$ in the differential equation:\n",
    "\n",
    "$\\frac{d^3x}{dt^3} = a\\frac{d^2x}{dt^2}+b\\frac{dx}{dt}+c x+d$\n",
    "\n",
    "by minimizing the error between the predicted and measured $x$ values. The $x$ values are measured at the following time intervals.\n",
    "\n",
    "```python\n",
    "t_data = [0,0.1,0.2,0.4,0.8,1,1.5,2,2.5,3,3.5,4]\n",
    "x_data = [2.0,1.6,1.2,0.7,0.3,0.15,0.1,0.05,0.03,0.02,0.015,0.01]\n",
    "```\n",
    "\n",
    "Use an initial condition of $x=2$ that matches the data. Create new states $y=dx/dt$ and $z=dy/dt$ for the [higher order derivative terms](https://apmonitor.com/wiki/index.php/Apps/2ndOrderDifferential). \n",
    "\n",
    "$\\frac{dx}{dt} = y$\n",
    "\n",
    "$\\frac{dy}{dt} = z$\n",
    "\n",
    "$\\frac{dz}{dt} = az+by+cx+d$"
   ]
  },
  {
   "cell_type": "code",
   "execution_count": null,
   "metadata": {},
   "outputs": [],
   "source": [
    "t_data = [0,0.1,0.2,0.4,0.8,1,1.5,2,2.5,3,3.5,4]\n",
    "x_data = [2.0,1.6,1.2,0.7,0.3,0.15,0.1,\\\n",
    "          0.05,0.03,0.02,0.015,0.01]"
   ]
  }
 ],
 "metadata": {
  "kernelspec": {
   "display_name": "Python 3 (ipykernel)",
   "language": "python",
   "name": "python3"
  },
  "language_info": {
   "codemirror_mode": {
    "name": "ipython",
    "version": 3
   },
   "file_extension": ".py",
   "mimetype": "text/x-python",
   "name": "python",
   "nbconvert_exporter": "python",
   "pygments_lexer": "ipython3",
   "version": "3.9.13"
  }
 },
 "nbformat": 4,
 "nbformat_minor": 4
}
