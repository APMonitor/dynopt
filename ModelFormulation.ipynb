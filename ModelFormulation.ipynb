{
  "nbformat": 4,
  "nbformat_minor": 0,
  "metadata": {
    "colab": {
      "name": "ModelFormulation.ipynb",
      "version": "0.3.2",
      "provenance": [],
      "collapsed_sections": [],
      "include_colab_link": true
    },
    "kernelspec": {
      "name": "python3",
      "display_name": "Python 3"
    }
  },
  "cells": [
    {
      "cell_type": "markdown",
      "metadata": {
        "id": "view-in-github",
        "colab_type": "text"
      },
      "source": [
        "<a href=\"https://colab.research.google.com/github/misbahsy/APMonitor-do/blob/master/ModelFormulation.ipynb\" target=\"_parent\"><img src=\"https://colab.research.google.com/assets/colab-badge.svg\" alt=\"Open In Colab\"/></a>"
      ]
    },
    {
      "metadata": {
        "id": "xmLSpA-rBHOf",
        "colab_type": "text"
      },
      "cell_type": "markdown",
      "source": [
        "#Formulation Strategies\n",
        "\n",
        "<p class='vspace'>One of the most important factors in efficient and reliable solution of dynamic systems is the model formulation. Changes in model formulation are not intended to change the equations, only to put them into a form that allows solvers to more easily find an accurate solution. In each section below are some of the key strategies related to model creation and formulation. The discussion begins with a basic introduction to the APMonitor Modeling Language.\n",
        "</p>\n",
        "<p class='vspace'>Models consist of sections including constants, parameters, variables, intermediates, equations, objects, and connections. All expressions used in the equations section must be created in one of the prior sections. The initialization of individual parameters or variables is sequential in the order that they are listed in the model file. Equations, however, can be listed in any order because equations are solved simultaneously.\n",
        "</p>\n",
        "<div class='vspace'></div><ul><li><strong>Constants</strong> are values that never change. Integer values may be defined to give sizes to arrays (See <a class='urllink' href='https://apmonitor.com/wiki/index.php/Main/Constants' rel='nofollow'>additional details on constants</a>).\n",
        "</li><li><strong>Parameters</strong> are values that are nominally fixed at initial values but can be changed with input data, by the user, or can become calculated by the optimizer to minimize an objective function if they are indicated as decision variables (See <a class='urllink' href='https://apmonitor.com/wiki/index.php/Main/Parameters' rel='nofollow'>additional details on parameters</a>).\n",
        "</li><li><strong>Variables</strong> are always calculated values as determined by the set of equations. Some variables are either measured and/or controlled to a desired target value (See <a class='urllink' href='https://apmonitor.com/wiki/index.php/Main/Variables' rel='nofollow'>additional details on variables</a>).\n",
        "</li><li><strong>Intermediates</strong> are explicit equations where the variable is set equal to an expression that may include constants, parameters, variables, or other intermediate values that are defined previously. Intermediates are not implicit equations but are explicitly calculated with each model function evaluation (See <a class='urllink' href='https://apmonitor.com/wiki/index.php/Main/Intermediates' rel='nofollow'>additional details on intermediates</a>).\n",
        "</li><li><strong>Equations</strong> are either equality constraints as <em>f(dx/dt,x,p)=0</em>, inequality constraints as <em>g(dx/dt,x,p)&gt;0</em>, or expression of the objective with statements that begin with keywords <em>maximize</em> or <em>minimize</em> (See <a class='urllink' href='https://apmonitor.com/wiki/index.php/Main/Equations' rel='nofollow'>additional details on equations</a>).\n",
        "</li><li><strong>Objects</strong> are object-oriented extensions of APMonitor that are stand-alone models that are instantiated from parent objects. The children objects may include parameters, variables, equations, and objective terms (See <a class='urllink' href='https://apmonitor.com/wiki/index.php/Main/Objects' rel='nofollow'>additional details on objects</a>).\n",
        "</li><li><strong>Connections</strong> are equality constraints that relate object variables to model parameter or variables from other models (See <a class='urllink' href='https://apmonitor.com/wiki/index.php/Main/Connections' rel='nofollow'>additional details on connections</a>).\n",
        "</li></ul><p class='vspace'>There is an additional optional designation of parameters as either fixed values (<em>FVs</em>) or manipulated variables (<em>MVs</em>). Variables can be optionally designated as state variables (SVs) or controlled variables (<em>CVs</em>). The terminology of <em>FV, MV, SV,</em> and <em>CV</em> is from the process systems engineering community. In this community the <em>MVs</em> are designated as the inputs that are potentially changed by the controller and <em>CVs</em> are model outputs that are driven to target conditions. The terms <em>FVs</em> refer to either measured or unmeasured disturbances to the system and <em>SVs</em> are simply designated for viewing purposes as variables of importance. These parameter and variable classifications are specified in MATLAB or Python scripts (See <a class='urllink' href='https://apmonitor.com/wiki/index.php/Main/INFO' rel='nofollow'>additional details on FV, MV, SV, and CV classification</a>).\n",
        "</p>\n",
        "<p class='vspace'>Collections of constants, parameters, variables, intermediates, equations, objects, and connections constitute a model. The model file is created and stored in a text file with extension <em>apm</em>. Several text editors are available that support syntax highlighting such as Notepad++ and gEdit (<a class='urllink' href='https://apmonitor.com/wiki/index.php/Main/SyntaxHighlighting' rel='nofollow'>see installation instructions</a>). Below is an example model that demonstrates the use of many of these sections to create a 5th order differential equation model.\n",
        "</p>\n",
        "<div class='vspace'></div><pre> ! input  (1) = u\n",
        " ! states (5) = x[1] to x[5]\n",
        " ! output (1) = y\n",
        " Constants\n",
        "   n = 5\n",
        "   K = 4\n",
        " Parameters\n",
        "   u = 3, &gt;=0, &lt;=10\n",
        " Variables\n",
        "   x[1:n] = u, &gt;=0\n",
        " Intermediates\n",
        "   y = x[n]\n",
        " Equations\n",
        "   $x[1]   + x[1]   = K * u\n",
        "   $x[2:n] + x[2:n] = x[1:n-1]\n",
        "   minimize (y-5)^2\n",
        "</pre><p class='vspace'>In the above model comments are designated with <em>!, %,</em> or <em>#</em>. Another symbol is the dollar sign <em>$</em> that indicates a differential variable or <em>dx<sub>i</sub>/dt</em>. The definition of <em>x[1:5]</em> in the variables section creates 5 separate variables or <em>x[1], x[2], x[3], x[4],</em> and <em>x[5]</em>. Each variable is initialized with a lower bound of <em>0</em> and an initial condition of <em>u=3</em>. The variable <em>y</em> is defined in the intermediates section. This variable is a copy of x[5] and is used in the objective function as an output with a desired target value of <em>5</em>. The quantity <em>x[n]</em> could also be used in the objective function instead with the same result. However, there are no degrees of freedom for this problem so the objective function has no effect on the solution.\n",
        "</p>\n",
        "\n",
        "##Time Discretization\n",
        "\n",
        "<p>There is an inherent trade-off between accuracy and computational speed for numerical solution. Additional time discretization points generally improve the accuracy of a solution but also create additional computational burden. Fewer discretization points are needed when the dynamics are slow or the system is near a steady state solution. As a compromise finer discretization points are often used in regions of fast dynamics and more coarse discretization is used in regions of slow dynamics. Often the fast dynamics are present after a step change in an input or near the beginning of a horizon. Fast dynamics naturally decay as the system exceeds two dominant time constants after a change. The dominant time constant is generally dictated by the slowest process in the system to reach steady state. A dominant time constant is often empirically obtained by introducing a step input and simulating the system until it reaches steady state. The dominant time constant is approximately the amount of time necessary to reach (1-e<sup>-1</sup>) or 63% of the total response change from initial value to steady state.\n",
        "</p>\n",
        "<p class='vspace'>There are also cases where dynamic data has been collected from a prior event. In these cases the model predictions are desired for comparison with the dynamic data. To compare model and data at each time point, the simulation step size of the simulation is adjusted to match the data frequency. These replay simulations can take excessive computational effort when large amounts of data are available. For these cases of dynamic data reconciliation, downsampling or less frequent time steps of the data may be used by collecting moving averages, infrequent points, or \n",
        "simply predicting at less frequent intervals than the data set.\n",
        "</p>\n",
        "##Slack Variables\n",
        "<p><a class='urllink' href='https://apmonitor.com/wiki/index.php/Main/SlackVariables' rel='nofollow'>Slack variables</a> are defined to transform an inequality expression into an equality expression with an added slack variable. The general expression for inequality constraints in the DAE expression is <em>g(dx/dt,x,p)&gt;0</em>. An equivalent mathematical expression of the general inequality is <em>g(dx/dt,x,p)=s</em> and <em>s&gt;0</em>. This form is desirable with solvers such as interior point methods where the initial guess must satisfy all inequality constraints or be on the inside of the feasible region. In the slack variable form, an initial guess value greater than zero for the new slack variable <em>s</em> satisfies this requirement. The APMonitor Modeling Language automatically transforms all inequality constraints into equivalent equality constraints with added slack variables.\n",
        "</p>\n",
        "<div class='vspace'></div><ul><li><a class='urllink' href='https://apmonitor.com/online/view_pass.php?f=slack.apm' rel='nofollow'>Click to Solve a Slack Variable Optimization Problem</a>\n"
      ]
    },
    {
      "metadata": {
        "id": "z9bVSC_vEUYh",
        "colab_type": "code",
        "cellView": "form",
        "outputId": "0be419f0-2802-4015-a015-9a808f4c97b0",
        "colab": {
          "base_uri": "https://localhost:8080/",
          "height": 336
        }
      },
      "cell_type": "code",
      "source": [
        "#@title\n",
        "%%html\n",
        "<iframe width=\"560\" height=\"315\" src=\"https://www.youtube.com/embed/jh6BK0BqqIs?rel=0\" frameborder=\"0\" allowfullscreen></iframe>"
      ],
      "execution_count": 2,
      "outputs": [
        {
          "output_type": "display_data",
          "data": {
            "text/html": [
              "<iframe width=\"560\" height=\"315\" src=\"https://www.youtube.com/embed/jh6BK0BqqIs?rel=0\" frameborder=\"0\" allowfullscreen></iframe>\n"
            ],
            "text/plain": [
              "<IPython.core.display.HTML object>"
            ]
          },
          "metadata": {
            "tags": []
          }
        }
      ]
    },
    {
      "metadata": {
        "id": "070eLDjEEci7",
        "colab_type": "text"
      },
      "cell_type": "markdown",
      "source": [
        "##Conditional Statements\n",
        "<p>Certain functions such as <em>abs</em>, <em>if..then</em>, <em>min</em>, <em>max</em>, <em>signum</em>, and discontinuous functions can be included in models but need to be posed in a way to allow efficient solution by solvers that perform better with continuous first and second derivatives. There are alternative methods to reformulate the problems. Two popular approaches are as <a class='urllink' href='https://apmonitor.com/wiki/index.php/Apps/MpecExamples' rel='nofollow'>MPECs</a> (Mathematical Programs with Equilibrium Constraints) or with <a class='urllink' href='https://apmonitor.com/me575/index.php/Main/LogicalConditions' rel='nofollow'>binary variables</a> that switch on or off certain elements of the equations.\n",
        "</p>\n",
        "<div class='vspace'></div><h4>Model Complexity</h4>\n",
        "<p>Model complexity can range from detailed finite element analysis to simple reduced order models. An important aspect of modeling is the overall goal of capturing the input to output relationships for a particular target application. In the case of real-time embedded systems, the complexity of the model may need to be limited to meet simulation or optimization speed requirements. Other times there is no computational time target for a solution and more sophisticated models can be solved. In each case, the correct level of sophistication should be carefully considered. One strategy for finding the appropriate level of complexity is to start with simple models and add complexity only as needed.\n",
        "</p>"
      ]
    },
    {
      "metadata": {
        "id": "V_4lPh4CEmCk",
        "colab_type": "code",
        "cellView": "both",
        "outputId": "2e521c68-db6d-4a3e-ddd6-7dd931b899ba",
        "colab": {
          "base_uri": "https://localhost:8080/",
          "height": 336
        }
      },
      "cell_type": "code",
      "source": [
        "%%html\n",
        "<iframe width=\"560\" height=\"315\" src=\"https://www.youtube.com/embed/ELEUFKzwUj0\" frameborder=\"0\" allowfullscreen></iframe>"
      ],
      "execution_count": 3,
      "outputs": [
        {
          "output_type": "display_data",
          "data": {
            "text/html": [
              "<iframe width=\"560\" height=\"315\" src=\"https://www.youtube.com/embed/ELEUFKzwUj0\" frameborder=\"0\" allowfullscreen></iframe>"
            ],
            "text/plain": [
              "<IPython.core.display.HTML object>"
            ]
          },
          "metadata": {
            "tags": []
          }
        }
      ]
    },
    {
      "metadata": {
        "id": "yIkbWzC1E3tH",
        "colab_type": "text"
      },
      "cell_type": "markdown",
      "source": [
        "##Exercise\n",
        "<p><strong>Objective:</strong> Formulate a dynamic model with model quantities such as constants, parameters, and variables and model expressions such as intermediates and equations. Use time-varying inputs, initial conditions, and mass balance equations to specify the problem inputs and dynamics. Create a MATLAB or Python script to simulate and display the results. <em>Estimated Time: 2 hours</em>\n",
        "</p>\n",
        "<p class='vspace'>In Utah, water flows into the (1) <a class='urllink' href='https://en.wikipedia.org/wiki/Jordanelle_Reservoir' rel='nofollow'>Jordanelle reservoir</a>, to the (2) <a class='urllink' href='https://en.wikipedia.org/wiki/Deer_Creek_Dam_and_Reservoir' rel='nofollow'>Deer Creek reservoir</a>, to (3) <a class='urllink' href='https://en.wikipedia.org/wiki/Utah_Lake' rel='nofollow'>Utah Lake</a>, and finally to the (4) <a class='urllink' href='https://en.wikipedia.org/wiki/Great_Salt_Lake' rel='nofollow'>Great Salt Lake</a>.\n",
        "</p>\n",
        "<div class='vspace'></div>\n",
        "<table border='0' width='100%' ><tr><td width='20%'  valign='top'>\n",
        "<div><img src='http://apmonitor.com/do/uploads/Main/utah_reservoir_graphic.png' alt='' title='' /></div>\n",
        "</td><td width='80%'  valign='top'>\n",
        "<div><img src='http://apmonitor.com/do/uploads/Main/utah_reservoirs.png' alt='' title='' /></div>\n",
        "</td></tr></table>\n",
        "<p class='vspace'>Suppose that there is a spillway from each upstream body of water to the lower body of water with a flow that is proportional to the square root of the reservoir height. There is no outflow from the Great Salt Lake except due to evaporation. Develop a simplified dynamic model of the height change in each reservoir from water mass balances. Below are constants such as area (km<sup>2</sup>) and usage requirements (km<sup>3</sup>/yr), inlet and outlet flow correlations (km<sup>3</sup>/yr), evaporation correlations, and initial conditions for the volumes (km<sup>3</sup>).\n",
        "</p>\n",
        "<div class='vspace'></div><pre> Outflow River Rates (km<sup>3</sup>/yr) with height in meters\n",
        " V<sub>flow_out1</sub> = 0.030 sqrt(h<sub>1</sub>) \n",
        " V<sub>flow_out2</sub> = 0.015 sqrt(h<sub>2</sub>) \n",
        " V<sub>flow_out3</sub> = 0.060 sqrt(h<sub>3</sub>)\n",
        " V<sub>flow_out4</sub> = 0\n",
        "\n",
        " Evaporation Rates (km<sup>3</sup>/yr)\n",
        " V<sub>evap</sub> = 0.5e-5 * Area, for salt water (Great Salt Lake)\n",
        " V<sub>evap</sub> = 1e-5 * Area, for fresh water (all others)\n",
        "\n",
        " Inflow Rates (km<sup>3</sup>/yr)\n",
        " V<sub>flow_in1</sub> = 0.13 (June-Feb), 0.21 (Mar-May)\n",
        " V<sub>flow_in2</sub> = V<sub>flow_out1</sub>\n",
        " V<sub>flow_in3</sub> = V<sub>flow_out2</sub>\n",
        " V<sub>flow_in4</sub> = V<sub>flow_out3</sub>\n",
        "\n",
        " Usage Requirements (km<sup>3</sup>/yr)\n",
        " V<sub>use1</sub> = 0.03\n",
        " V<sub>use2</sub> = 0.05\n",
        " V<sub>use3</sub> = 0.02\n",
        " V<sub>use4</sub> = 0.00\n",
        "\n",
        " Area of Reservoir / Lake (km<sup>2</sup>)\n",
        " A<sub>1</sub> = 13.4\n",
        " A<sub>2</sub> = 12.0\n",
        " A<sub>3</sub> = 384.5\n",
        " A<sub>4</sub> = 4400\n",
        "\n",
        " Initial Volume of Reservoir / Lake (km<sup>3</sup>)\n",
        " V<sub>1</sub> = 0.26\n",
        " V<sub>2</sub> = 0.18\n",
        " V<sub>3</sub> = 0.68\n",
        " V<sub>4</sub> = 22.0\n",
        "</pre><p class='vspace'>Simulate the height of the reservoirs (in meters) over the course of a year, starting in January, with higher inlet flowrates in the spring due to melting snow. Use a <a class='urllink' href='https://youtu.be/6Cc693cmqCc' rel='nofollow'>mass balance</a> to describe the change in volume and height of each body of water. This is a simple simulation model that assumes no active control. In actual practice, water outlet flows are actively managed to maintain reservoir levels for recreation, provide sufficient river flow rates, limit river flow rates to avoid flooding, and serve agricultural and community needs. Utah Lake and the Great Salt Lake also have additional inlet sources such as the Payson River (Utah Lake) and the Weber River and Bear River (Great Salt Lake) that are not considered in this simulation.\n",
        "</p>\n",
        "\n",
        "##Solutions\n",
        "<div><img src='http://apmonitor.com/do/uploads/Main/download.png' alt='' title='' /> <a class='urllink' href='http://apmonitor.com/do/uploads/Main/simulate_reservoirs.zip' rel='nofollow'>Reservoir Simulation in MATLAB and Python</a></div>"
      ]
    },
    {
      "metadata": {
        "id": "iKJ21i5HE8Yt",
        "colab_type": "code",
        "cellView": "both",
        "outputId": "ff7d2077-2597-40d7-f5d5-bda58e08515e",
        "colab": {
          "base_uri": "https://localhost:8080/",
          "height": 671
        }
      },
      "cell_type": "code",
      "source": [
        "%%html\n",
        "<iframe width=\"560\" height=\"315\" src=\"https://www.youtube.com/embed/ZzYURrtD4YI?rel=0\" frameborder=\"0\" allowfullscreen></iframe>\n",
        "<div class='vspace'></div><hr />\n",
        "<div class='vspace'></div>\n",
        "<iframe width=\"560\" height=\"315\" src=\"https://www.youtube.com/embed/BHxNe86_TXc\" frameborder=\"0\" gesture=\"media\" allow=\"encrypted-media\" allowfullscreen></iframe>"
      ],
      "execution_count": 4,
      "outputs": [
        {
          "output_type": "display_data",
          "data": {
            "text/html": [
              "<iframe width=\"560\" height=\"315\" src=\"https://www.youtube.com/embed/ZzYURrtD4YI?rel=0\" frameborder=\"0\" allowfullscreen></iframe>\n",
              "<div class='vspace'></div><hr />\n",
              "<div class='vspace'></div>\n",
              "<iframe width=\"560\" height=\"315\" src=\"https://www.youtube.com/embed/BHxNe86_TXc\" frameborder=\"0\" gesture=\"media\" allow=\"encrypted-media\" allowfullscreen></iframe>"
            ],
            "text/plain": [
              "<IPython.core.display.HTML object>"
            ]
          },
          "metadata": {
            "tags": []
          }
        }
      ]
    },
    {
      "metadata": {
        "id": "Ad1ja2Y-Cxql",
        "colab_type": "code",
        "cellView": "form",
        "outputId": "2c4dcf4a-a0b3-4dc9-ca2c-37f946067440",
        "colab": {
          "base_uri": "https://localhost:8080/",
          "height": 1893
        }
      },
      "cell_type": "code",
      "source": [
        "#@markdown Solution using Gekko\n",
        "\n",
        "from __future__ import division\n",
        "from gekko import GEKKO\n",
        "import numpy as np\n",
        "\n",
        "#Initial conditions\n",
        "c = np.array([0.03,0.015,0.06,0])\n",
        "areas = np.array([13.4, 12, 384.5, 4400])\n",
        "V0 = np.array([0.26, 0.18, 0.68, 22])\n",
        "h0 = 1000 * V0 / areas\n",
        "Vout0 = c * np.sqrt(h0)\n",
        "vin = [0.13,0.13,0.13,0.21,0.21,0.21,0.13,\\\n",
        "       0.13,0.13,0.13,0.13,0.13,0.13]\n",
        "Vin = [0,0,0,0]\n",
        "\n",
        "#Initialize model\n",
        "m = GEKKO()\n",
        "\n",
        "#time array \n",
        "m.time = np.linspace(0,1,13)\n",
        "#define constants\n",
        "c = m.Array(m.Const,4,value=0)\n",
        "c[0].value = 0.03\n",
        "c[1].value = c[0] / 2\n",
        "c[2].value = c[0] * 2\n",
        "c[3].value = 0\n",
        "Vuse = [0.03,0.05,0.02,0.00]\n",
        "\n",
        "#Parameters\n",
        "evap_c = m.Array(m.Param,4,value=1e-5)\n",
        "evap_c[-1].value = 0.5e-5\n",
        "\n",
        "A = [m.Param(value=i) for i in areas]\n",
        "\n",
        "Vin[0] = m.Param(value=vin)\n",
        "\n",
        "#Variables\n",
        "V = [m.Var(value=i) for i in V0]\n",
        "h = [m.Var(value=i) for i in h0]\n",
        "Vout = [m.Var(value=i) for i in Vout0]\n",
        "\n",
        "#Intermediates\n",
        "Vin[1:4] = [m.Intermediate(Vout[i]) for i in range(3)]\n",
        "Vevap = [m.Intermediate(evap_c[i] * A[i]) for i in range(4)]\n",
        "\n",
        "#Equations\n",
        "m.Equations([V[i].dt() == \\\n",
        "             Vin[i] - Vout[i] - Vevap[i] - Vuse[i] \\\n",
        "             for i in range(4)])\n",
        "m.Equations([1000*V[i] == h[i]*A[i] for i in range(4)])\n",
        "m.Equations([Vout[i]**2 == c[i]**2 * h[i] for i in range(4)])\n",
        "\n",
        "\n",
        "#Set to simulation mode\n",
        "m.options.imode = 4\n",
        "\n",
        "#Solve\n",
        "m.solve()\n",
        "\n",
        "#%% Plot results\n",
        "time = [x * 12 for x in m.time] \n",
        "\n",
        "# plot results\n",
        "import matplotlib.pyplot as plt\n",
        "plt.figure(1)\n",
        "\n",
        "plt.subplot(311)\n",
        "plt.plot(time,h[0].value,'r-')\n",
        "plt.plot(time,h[1].value,'b--')\n",
        "plt.ylabel('Level (m)')\n",
        "plt.legend(['Jordanelle Reservoir','Deer Creek Reservoir'])\n",
        "\n",
        "plt.subplot(312)\n",
        "plt.plot(time,h[3].value,'g-')\n",
        "plt.plot(time,h[2].value,'k:')\n",
        "plt.ylabel('Level (m)')\n",
        "plt.legend(['Great Salt Lake','Utah Lake'])\n",
        "\n",
        "plt.subplot(313)\n",
        "plt.plot(time,Vin[0].value,'k-')\n",
        "plt.plot(time,Vout[0].value,'r-')\n",
        "plt.plot(time,Vout[1].value,'b--')\n",
        "plt.plot(time,Vout[2].value,'g-')\n",
        "plt.xlabel('Time (month)')\n",
        "plt.ylabel('Flow (km3/yr)')\n",
        "plt.legend(['Supply Flow','Upper Provo River', \\\n",
        "            'Lower Provo River','Jordan River'])\n",
        "plt.show()\n"
      ],
      "execution_count": 0,
      "outputs": [
        {
          "output_type": "stream",
          "text": [
            "apm 35.203.137.177_gk_model1 <br><pre> ----------------------------------------------------------------\n",
            " APMonitor, Version 0.8.7\n",
            " APMonitor Optimization Suite\n",
            " ----------------------------------------------------------------\n",
            " \n",
            " \n",
            " --------- APM Model Size ------------\n",
            " Each time step contains\n",
            "   Objects      :            0\n",
            "   Constants    :            4\n",
            "   Variables    :           21\n",
            "   Intermediates:            7\n",
            "   Connections  :            0\n",
            "   Equations    :           19\n",
            "   Residuals    :           12\n",
            " \n",
            " Number of state variables:            192\n",
            " Number of total equations: -          192\n",
            " Number of slack variables: -            0\n",
            " ---------------------------------------\n",
            " Degrees of freedom       :              0\n",
            " \n",
            " **********************************************\n",
            " Dynamic Simulation with Interior Point Solver\n",
            " **********************************************\n",
            "  \n",
            "  \n",
            " Info: Exact Hessian\n",
            "\n",
            "******************************************************************************\n",
            "This program contains Ipopt, a library for large-scale nonlinear optimization.\n",
            " Ipopt is released as open source code under the Eclipse Public License (EPL).\n",
            "         For more information visit http://projects.coin-or.org/Ipopt\n",
            "******************************************************************************\n",
            "\n",
            "This is Ipopt version 3.12.10, running with linear solver ma57.\n",
            "\n",
            "Number of nonzeros in equality constraint Jacobian...:      464\n",
            "Number of nonzeros in inequality constraint Jacobian.:        0\n",
            "Number of nonzeros in Lagrangian Hessian.............:       48\n",
            "\n",
            "Total number of variables............................:      192\n",
            "                     variables with only lower bounds:        0\n",
            "                variables with lower and upper bounds:       36\n",
            "                     variables with only upper bounds:        0\n",
            "Total number of equality constraints.................:      192\n",
            "Total number of inequality constraints...............:        0\n",
            "        inequality constraints with only lower bounds:        0\n",
            "   inequality constraints with lower and upper bounds:        0\n",
            "        inequality constraints with only upper bounds:        0\n",
            "\n",
            "iter    objective    inf_pr   inf_du lg(mu)  ||d||  lg(rg) alpha_du alpha_pr  ls\n",
            "   0  0.0000000e+00 5.78e-02 0.00e+00   0.0 0.00e+00    -  0.00e+00 0.00e+00   0\n",
            "Reallocating memory for MA57: lfact (7082)\n",
            "   1  0.0000000e+00 1.19e-05 1.19e-03  12.8 1.19e-01  -2.0 9.90e-01 1.00e+00h  1\n",
            "   2  0.0000000e+00 1.50e-08 2.87e-06   7.0 1.70e-04    -  1.00e+00 1.00e+00h  1\n",
            "\n",
            "Number of Iterations....: 2\n",
            "\n",
            "                                   (scaled)                 (unscaled)\n",
            "Objective...............:   0.0000000000000000e+00    0.0000000000000000e+00\n",
            "Dual infeasibility......:   0.0000000000000000e+00    0.0000000000000000e+00\n",
            "Constraint violation....:   1.5015245099603757e-08    1.5015245099603757e-08\n",
            "Complementarity.........:   0.0000000000000000e+00    0.0000000000000000e+00\n",
            "Overall NLP error.......:   1.5015245099603757e-08    1.5015245099603757e-08\n",
            "\n",
            "\n",
            "Number of objective function evaluations             = 3\n",
            "Number of objective gradient evaluations             = 3\n",
            "Number of equality constraint evaluations            = 3\n",
            "Number of inequality constraint evaluations          = 0\n",
            "Number of equality constraint Jacobian evaluations   = 3\n",
            "Number of inequality constraint Jacobian evaluations = 0\n",
            "Number of Lagrangian Hessian evaluations             = 2\n",
            "Total CPU secs in IPOPT (w/o function evaluations)   =      0.005\n",
            "Total CPU secs in NLP function evaluations           =      0.007\n",
            "\n",
            "EXIT: Optimal Solution Found.\n",
            " \n",
            " The solution was found.\n",
            " \n",
            " The final value of the objective function is   0.000000000000000E+000\n",
            " \n",
            " ---------------------------------------------------\n",
            " Solver         :  IPOPT (v3.12)\n",
            " Solution time  :   1.929999999993015E-002 sec\n",
            " Objective      :   0.000000000000000E+000\n",
            " Successful solution\n",
            " ---------------------------------------------------\n",
            " \n"
          ],
          "name": "stdout"
        },
        {
          "output_type": "display_data",
          "data": {
            "image/png": "[encoded data removed]",
            "text/plain": [
              "<Figure size 576x396 with 3 Axes>"
            ]
          },
          "metadata": {
            "tags": []
          }
        }
      ]
    },
    {
      "metadata": {
        "id": "wlE_TbC2DL0n",
        "colab_type": "code",
        "colab": {}
      },
      "cell_type": "code",
      "source": [
        ""
      ],
      "execution_count": 0,
      "outputs": []
    }
  ]
}