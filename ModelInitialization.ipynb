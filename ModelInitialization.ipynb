{
  "nbformat": 4,
  "nbformat_minor": 0,
  "metadata": {
    "colab": {
      "name": "ModelInitialization.ipynb",
      "version": "0.3.2",
      "provenance": [],
      "collapsed_sections": [],
      "toc_visible": true,
      "include_colab_link": true
    },
    "kernelspec": {
      "name": "python3",
      "display_name": "Python 3"
    }
  },
  "cells": [
    {
      "cell_type": "markdown",
      "metadata": {
        "id": "view-in-github",
        "colab_type": "text"
      },
      "source": [
        "<a href=\"https://colab.research.google.com/github/misbahsy/APMonitor-do/blob/master/ModelInitialization.ipynb\" target=\"_parent\"><img src=\"https://colab.research.google.com/assets/colab-badge.svg\" alt=\"Open In Colab\"/></a>"
      ]
    },
    {
      "metadata": {
        "id": "gVSfb883xnKC",
        "colab_type": "text"
      },
      "cell_type": "markdown",
      "source": [
        "#Model Initialization Strategies"
      ]
    },
    {
      "metadata": {
        "id": "mDYpur0fHpSs",
        "colab_type": "text"
      },
      "cell_type": "markdown",
      "source": [
        "<p class='vspace'>Simulation is a first step after the model development to verify convergence, validate the model response to input changes, and manually adjust parameters to fit an expected response. This section demonstrates how to set up and initialize a dynamic model simulation. Options such as <a class='urllink' href='https://apmonitor.com/wiki/index.php/Main/OptionApmCsvRead' rel='nofollow'>CSV_READ</a> control how much information is read from a data (CSV) file.\n",
        "</p>\n",
        "<p class='vspace'>A first example shows how to use a scripting language such as MATLAB or Python to provide input values for a matrix of parameters.\n",
        "</p>\n",
        "<div class='vspace'></div><div><img src='http://apmonitor.com/do/uploads/Main/download.png' alt='' title='' /> <a class='urllink' href='http://apmonitor.com/do/uploads/Main/apmonitor_matrix.zip' rel='nofollow'>Initialize Parameter Matrix (MATLAB and Python)</a></div>"
      ]
    },
    {
      "metadata": {
        "id": "krtsJ4GBHzvP",
        "colab_type": "code",
        "colab": {}
      },
      "cell_type": "code",
      "source": [
        "#APM code currently not functional\n",
        "\n",
        "from apm import *\n",
        "import numpy as np\n",
        "\n",
        "A = np.random.random((3,4))\n",
        "n = np.size(A,0) # rows\n",
        "m = np.size(A,1) # columns\n",
        "\n",
        "# write model.apm\n",
        "fid = open('model.apm','w')\n",
        "fid.write('Constants \\n')\n",
        "fid.write(' n ='+str(n)+' \\n')\n",
        "fid.write(' m ='+str(m)+' \\n')\n",
        "fid.write(' \\n')\n",
        "fid.write('Parameters \\n')\n",
        "fid.write(' p[1:n][1::m] \\n')\n",
        "fid.write(' \\n')\n",
        "fid.write('Variables \\n')\n",
        "fid.write(' x \\n')\n",
        "fid.write('Equations \\n')\n",
        "fid.write(' x=p[1][1] \\n')\n",
        "fid.close()\n",
        "\n",
        "# write data.csv\n",
        "fid = open('data.csv','w')\n",
        "for i in range(n):\n",
        "    for j in range(m):\n",
        "        fid.write(' p['+str(i+1)+']['+str(j+1)+'], '+str(A[i,j])+' \\n')\n",
        "fid.close()\n",
        "\n",
        "# load model, data file, and solve\n",
        "s = 'https://byu.apmonitor.com'\n",
        "a = 'matrix_write'\n",
        "apm(s,a,'clear all')\n",
        "apm_load(s,a,'model.apm')\n",
        "csv_load(s,a,'data.csv')\n",
        "apm(s,a,'solve')\n",
        "\n",
        "# retrieve solution"
      ],
      "execution_count": 0,
      "outputs": []
    },
    {
      "metadata": {
        "id": "oVcu6JLWIDtN",
        "colab_type": "text"
      },
      "cell_type": "markdown",
      "source": [
        "<p class='vspace'>Although a problem may be written correctly, sometimes the solver fails to find a solution or requires excessive time to find a solution. Initialization strategies are critical in these situations to find a nearby solution that seeds the optimization problem with a starting point that allows convergence<sup>1</sup>.\n",
        "</p>\n",
        "<p class='vspace'>The following example is a demonstration of inserting different initial conditions or parameter values at points throughout the time horizon. A simulation solution is used to provide guess values for a subsequent simulation. The parameter <a class='urllink' href='https://apmonitor.com/wiki/index.php/Main/OptionApmCsvRead' rel='nofollow'>CSV_READ</a> can be set to <em>2</em> to provide the initial values for a calculated state. The default (<em>CSV_READ=1</em>) only updates the fixed values and skips the values that are calculated by the solver. Setting <a class='urllink' href='https://apmonitor.com/wiki/index.php/Main/OptionApmColdstart' rel='nofollow'>COLDSTART</a> &gt;= 1 also has the effect of using calculated values in the CSV file as initial guesses for the solver.\n",
        "</p>\n",
        "<div class='vspace'></div><div><img src='http://apmonitor.com/do/uploads/Main/download.png' alt='' title='' /> <a class='urllink' href='http://apmonitor.com/do/uploads/Main/apmonitor_initialize.zip' rel='nofollow'>Initialize for Dynamic Simulation</a></div>\n",
        "<div class='vspace'></div><div><img width='550px' src='http://apmonitor.com/do/uploads/Main/apmonitor_initialize.png' alt='' title='' /></div>"
      ]
    },
    {
      "metadata": {
        "id": "cgF6lycBIJJn",
        "colab_type": "code",
        "colab": {}
      },
      "cell_type": "code",
      "source": [
        "#APM Code not functional\n",
        "\n",
        "import numpy as np\n",
        "from apm import *  # load APMonitor library\n",
        "\n",
        "##################################################################\n",
        "## Step #1 - Solve model with p = 1\n",
        "##################################################################\n",
        "\n",
        "## Step #1a - write data.csv\n",
        "n = 31\n",
        "time = np.linspace(0,3,n)\n",
        "p = np.ones(31)\n",
        "x = 2 * np.ones(31)\n",
        "\n",
        "fid = open('data.csv','w')\n",
        "\n",
        "## write time row\n",
        "fid.write('time, ')\n",
        "for i in range(n-1):\n",
        "    fid.write(str(time[i]) +  ', ')\n",
        "fid.write(str(time[n-1]) + '\\n')\n",
        "\n",
        "## write 'p' row (input parameter)\n",
        "fid.write('p, ')\n",
        "for i in range(n-1):\n",
        "    fid.write(str(p[i]) +  ', ')\n",
        "fid.write(str(p[n-1]) + '\\n')\n",
        "\n",
        "## write 'x' row (state variable initialization)\n",
        "fid.write('x, ')\n",
        "# imode: https://apmonitor.com/wiki/index.php/Main/Modes\n",
        "# for imode=4-6, include all initialization values\n",
        "# for imode=7-9, include only the initial condition for variables\n",
        "imode = 7\n",
        "if ((imode>=4) and (imode<=6)):\n",
        "    for i in range(n-1):\n",
        "        fid.write(str(x[i]) + ', ')\n",
        "    fid.write(str(x[n-1]) + '\\n')\n",
        "else:\n",
        "    fid.write(str(x[0]) + ', ')\n",
        "    for i in range(1,n-1):\n",
        "        fid.write('-, ')\n",
        "    fid.write('-\\n')\n",
        "\n",
        "# close file\n",
        "fid.close()\n",
        "\n",
        "## Step 1b - Load and solve model\n",
        "s = 'https://byu.apmonitor.com'\n",
        "a = 'model_init'\n",
        "\n",
        "apm(s,a,'clear all')\n",
        "apm_load(s,a,'model.apm')\n",
        "csv_load(s,a,'data.csv')\n",
        "\n",
        "apm_option(s,a,'apm.time_shift',1)\n",
        "apm_option(s,a,'apm.imode',imode)\n",
        "output1 = apm(s,a,'solve')\n",
        "\n",
        "## Step 1c - Retrieve results with solution.csv\n",
        "solution1 = apm_sol(s,a)\n",
        "\n",
        "##################################################################\n",
        "## Step 2 - Solve again with prior solution for initialization and\n",
        "##          p as a step from 0 to 2\n",
        "##################################################################\n",
        "\n",
        "## Change to imode = 4 and change p trajectory\n",
        "p[0:5] = 0.0\n",
        "p[5:n] = 2.0\n",
        "\n",
        "## Step 2a - Write new row at the end of solution.csv\n",
        "fname = 'solution_' + a + '.csv'\n",
        "fid = open(fname,'a')  # append to file\n",
        "fid.write('p, ')\n",
        "for i in range(n-1):\n",
        "    fid.write(str(p[i]) +  ', ')\n",
        "fid.write(str(p[n-1]) + '\\n')\n",
        "# close file\n",
        "fid.close()\n",
        "\n",
        "## Step 2b - Reload csv file for initialization\n",
        "apm(s,a,'clear csv')\n",
        "csv_load(s,a,fname)\n",
        "\n",
        "## Step 2c - Solve again but with new inputs\n",
        "imode = 4\n",
        "apm_option(s,a,'apm.time_shift',0)\n",
        "apm_option(s,a,'apm.imode',imode)\n",
        "output2 = apm(s,a,'solve')\n",
        "print(output2)\n",
        "\n",
        "## Step 2d - Retrieve results with solution.csv\n",
        "solution2 = apm_sol(s,a)\n",
        "\n",
        "##################################################################\n",
        "## Step 3 - Create plots\n",
        "##################################################################\n",
        "import matplotlib.pyplot as plt\n",
        "\n",
        "plt.figure(1)\n",
        "plt.subplot(2,1,1)\n",
        "plt.plot(solution1['time'],solution1['p'],'k-',linewidth=2)\n",
        "plt.plot(solution2['time'],solution2['p'],'b--',linewidth=2)\n",
        "plt.legend([r'$p_1$',r'$p_2$'])\n",
        "plt.subplot(2,1,2)\n",
        "plt.plot(solution1['time'],solution1['x'],'r--',linewidth=2)\n",
        "plt.plot(solution2['time'],solution2['x'],'g:',linewidth=2)\n",
        "plt.legend([r'$x_1$',r'$x_2$'])\n",
        "plt.xlabel('time')\n",
        "plt.show()\n"
      ],
      "execution_count": 0,
      "outputs": []
    },
    {
      "metadata": {
        "id": "F4n5uIjnIUbx",
        "colab_type": "text"
      },
      "cell_type": "markdown",
      "source": [
        "##Exercise\n",
        "<p><strong>Objective:</strong> Simulate a highly nonlinear system, using initialization strategies to find a suitable approximation for a future parameter estimation exercise. Create a MATLAB or Python script to simulate and display the results. <em>Estimated Time: 2 hours</em>\n",
        "</p>\n",
        "<p class='vspace'>The spread of HIV in a patient is approximated with balance equations on (H)ealthy, (I)nfected, and (V)irus population counts<sup>2</sup>.\n",
        "</p>\n",
        "<div class='vspace'></div><pre> Initial Conditions\n",
        " H = healthy cells = 1,000,000\n",
        " I = infected cells = 0\n",
        " V = virus = 100\n",
        " LV = log virus = 2\n",
        "\n",
        " Equations\n",
        " dH/dt = kr<sub>1</sub> - kr<sub>2</sub> H - kr<sub>3</sub> H V\n",
        " dI/dt = kr<sub>3</sub> H V - kr<sub>4</sub> I\n",
        " dV/dt = -kr<sub>3</sub> H V - kr<sub>5</sub> V + kr<sub>6</sub> I\n",
        " LV = log<sub>10</sub>(V)\n",
        "</pre><p class='vspace'>There are six parameters (kr<sub>1..6</sub>) in the model that provide the rates of cell death, infection spread, virus replication, and other processes that determine the spread of HIV in the body.\n",
        "</p>\n",
        "<div class='vspace'></div><pre> Parameters\n",
        " kr<sub>1</sub> = new healthy cells\n",
        " kr<sub>2</sub> = death rate of healthy cells\n",
        " kr<sub>3</sub> = healthy cells converting to infected cells\n",
        " kr<sub>4</sub> = death rate of infected cells\n",
        " kr<sub>5</sub> = death rate of virus\n",
        " kr<sub>6</sub> = production of virus by infected cells\n",
        "</pre><p class='vspace'>The following data is provided from a virus count over the course of 15 years. Note that the virus count information is reported in log scale.\n",
        "</p>\n",
        "<div class='vspace'></div><div><img src='http://apmonitor.com/do/uploads/Main/download.png' alt='' title='' /> <a class='urllink' href='http://apmonitor.com/do/uploads/Main/data_hiv.zip' rel='nofollow'>HIV Data and Model Files</a></div>\n",
        "<div class='vspace'></div><div><img src='http://apmonitor.com/do/uploads/Main/hiv_virus_count.png' alt='' title='' /></div>\n",
        "<p class='vspace'>With guess values for parameters (kr<sub>1..6</sub>), approximately match the laboratory data for this patient. <a class='wikilink' href='http://apmonitor.com/do/index.php/Main/EstimatorObjective'>A subsequent section</a> introduces methods for parameter estimation by minimizing an objective function.\n",
        "</p>\n",
        "\n",
        "##Solution\n",
        "\n",
        "<div><img src='http://apmonitor.com/do/uploads/Main/download.png' alt='' title='' /> <a class='urllink' href='http://apmonitor.com/do/uploads/Main/simulate_hiv.zip' rel='nofollow'>HIV Simulation in MATLAB and Python</a></div>"
      ]
    },
    {
      "metadata": {
        "id": "2TYGakY4zSsj",
        "colab_type": "code",
        "cellView": "form",
        "outputId": "9f71e460-c5b4-4dcc-ab25-afe016ce93a6",
        "colab": {
          "base_uri": "https://localhost:8080/",
          "height": 336
        }
      },
      "cell_type": "code",
      "source": [
        "#@title\n",
        "%%html\n",
        "<iframe width=\"560\" height=\"315\" src=\"https://www.youtube.com/embed/0Et07u336Bo?rel=0\" frameborder=\"0\" allowfullscreen></iframe>\n"
      ],
      "execution_count": 2,
      "outputs": [
        {
          "output_type": "display_data",
          "data": {
            "text/html": [
              "<iframe width=\"560\" height=\"315\" src=\"https://www.youtube.com/embed/0Et07u336Bo?rel=0\" frameborder=\"0\" allowfullscreen></iframe>"
            ],
            "text/plain": [
              "<IPython.core.display.HTML object>"
            ]
          },
          "metadata": {
            "tags": []
          }
        }
      ]
    }
  ]
}