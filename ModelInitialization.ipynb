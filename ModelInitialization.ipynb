{
  "nbformat": 4,
  "nbformat_minor": 0,
  "metadata": {
    "colab": {
      "name": "ModelInitialization.ipynb",
      "version": "0.3.2",
      "provenance": [],
      "collapsed_sections": [],
      "include_colab_link": true
    },
    "kernelspec": {
      "name": "python3",
      "display_name": "Python 3"
    }
  },
  "cells": [
    {
      "cell_type": "markdown",
      "metadata": {
        "id": "view-in-github",
        "colab_type": "text"
      },
      "source": [
        "<a href=\"https://colab.research.google.com/github/misbahsy/APMonitor-do/blob/master/ModelInitialization.ipynb\" target=\"_parent\"><img src=\"https://colab.research.google.com/assets/colab-badge.svg\" alt=\"Open In Colab\"/></a>"
      ]
    },
    {
      "metadata": {
        "id": "gVSfb883xnKC",
        "colab_type": "text"
      },
      "cell_type": "markdown",
      "source": [
        "#Model Initialization Strategies"
      ]
    },
    {
      "metadata": {
        "id": "tfvR9v8xxwB-",
        "colab_type": "code",
        "colab": {
          "base_uri": "https://localhost:8080/",
          "height": 122
        },
        "cellView": "form",
        "outputId": "7ca0e6ca-37e6-4e84-bf9c-96fb6bc7ce79"
      },
      "cell_type": "code",
      "source": [
        "#@title\n",
        "%%html\n",
        "<p class='vspace'>Simulation is a first step after the model development to verify convergence, validate the model response to input changes, and manually adjust parameters to fit an expected response. This section demonstrates how to set up and initialize a dynamic model simulation. Options such as <a class='urllink' href='https://apmonitor.com/wiki/index.php/Main/OptionApmCsvRead' rel='nofollow'>CSV_READ</a> control how much information is read from a data (CSV) file.\n",
        "</p>\n",
        "<p class='vspace'>A first example shows how to use a scripting language such as MATLAB or Python to provide input values for a matrix of parameters.\n",
        "</p>\n",
        "<div class='vspace'></div><div><img src='http://apmonitor.com/do/uploads/Main/download.png' alt='' title='' /> <a class='urllink' href='http://apmonitor.com/do/uploads/Main/apmonitor_matrix.zip' rel='nofollow'>Initialize Parameter Matrix (MATLAB and Python)</a></div>"
      ],
      "execution_count": 1,
      "outputs": [
        {
          "output_type": "display_data",
          "data": {
            "text/html": [
              "<p class='vspace'>Simulation is a first step after the model development to verify convergence, validate the model response to input changes, and manually adjust parameters to fit an expected response. This section demonstrates how to set up and initialize a dynamic model simulation. Options such as <a class='urllink' href='https://apmonitor.com/wiki/index.php/Main/OptionApmCsvRead' rel='nofollow'>CSV_READ</a> control how much information is read from a data (CSV) file.\n",
              "</p>\n",
              "<p class='vspace'>A first example shows how to use a scripting language such as MATLAB or Python to provide input values for a matrix of parameters.\n",
              "</p>\n",
              "<div class='vspace'></div><div><img src='http://apmonitor.com/do/uploads/Main/download.png' alt='' title='' /> <a class='urllink' href='http://apmonitor.com/do/uploads/Main/apmonitor_matrix.zip' rel='nofollow'>Initialize Parameter Matrix (MATLAB and Python)</a></div>"
            ],
            "text/plain": [
              "<IPython.core.display.HTML object>"
            ]
          },
          "metadata": {
            "tags": []
          }
        }
      ]
    },
    {
      "metadata": {
        "id": "sj2gpkaux77A",
        "colab_type": "code",
        "colab": {
          "base_uri": "https://localhost:8080/",
          "height": 559
        },
        "cellView": "form",
        "outputId": "cc7ae876-00b9-417b-de43-707e78855744"
      },
      "cell_type": "code",
      "source": [
        "#@title\n",
        "%%html\n",
        "<p class='vspace'>Although a problem may be written correctly, sometimes the solver fails to find a solution or requires excessive time to find a solution. Initialization strategies are critical in these situations to find a nearby solution that seeds the optimization problem with a starting point that allows convergence<sup>1</sup>.\n",
        "</p>\n",
        "<p class='vspace'>The following example is a demonstration of inserting different initial conditions or parameter values at points throughout the time horizon. A simulation solution is used to provide guess values for a subsequent simulation. The parameter <a class='urllink' href='https://apmonitor.com/wiki/index.php/Main/OptionApmCsvRead' rel='nofollow'>CSV_READ</a> can be set to <em>2</em> to provide the initial values for a calculated state. The default (<em>CSV_READ=1</em>) only updates the fixed values and skips the values that are calculated by the solver. Setting <a class='urllink' href='https://apmonitor.com/wiki/index.php/Main/OptionApmColdstart' rel='nofollow'>COLDSTART</a> &gt;= 1 also has the effect of using calculated values in the CSV file as initial guesses for the solver.\n",
        "</p>\n",
        "<div class='vspace'></div><div><img src='http://apmonitor.com/do/uploads/Main/download.png' alt='' title='' /> <a class='urllink' href='http://apmonitor.com/do/uploads/Main/apmonitor_initialize.zip' rel='nofollow'>Initialize for Dynamic Simulation</a></div>\n",
        "<div class='vspace'></div><div><img width='550px' src='http://apmonitor.com/do/uploads/Main/apmonitor_initialize.png' alt='' title='' /></div>"
      ],
      "execution_count": 2,
      "outputs": [
        {
          "output_type": "display_data",
          "data": {
            "text/html": [
              "<p class='vspace'>Although a problem may be written correctly, sometimes the solver fails to find a solution or requires excessive time to find a solution. Initialization strategies are critical in these situations to find a nearby solution that seeds the optimization problem with a starting point that allows convergence<sup>1</sup>.\n",
              "</p>\n",
              "<p class='vspace'>The following example is a demonstration of inserting different initial conditions or parameter values at points throughout the time horizon. A simulation solution is used to provide guess values for a subsequent simulation. The parameter <a class='urllink' href='https://apmonitor.com/wiki/index.php/Main/OptionApmCsvRead' rel='nofollow'>CSV_READ</a> can be set to <em>2</em> to provide the initial values for a calculated state. The default (<em>CSV_READ=1</em>) only updates the fixed values and skips the values that are calculated by the solver. Setting <a class='urllink' href='https://apmonitor.com/wiki/index.php/Main/OptionApmColdstart' rel='nofollow'>COLDSTART</a> &gt;= 1 also has the effect of using calculated values in the CSV file as initial guesses for the solver.\n",
              "</p>\n",
              "<div class='vspace'></div><div><img src='http://apmonitor.com/do/uploads/Main/download.png' alt='' title='' /> <a class='urllink' href='http://apmonitor.com/do/uploads/Main/apmonitor_initialize.zip' rel='nofollow'>Initialize for Dynamic Simulation</a></div>\n",
              "<div class='vspace'></div><div><img width='550px' src='http://apmonitor.com/do/uploads/Main/apmonitor_initialize.png' alt='' title='' /></div>"
            ],
            "text/plain": [
              "<IPython.core.display.HTML object>"
            ]
          },
          "metadata": {
            "tags": []
          }
        }
      ]
    },
    {
      "metadata": {
        "id": "BHj3ZzkSyzfB",
        "colab_type": "text"
      },
      "cell_type": "markdown",
      "source": [
        "##Exercise\n",
        "\n",
        "Objective: Simulate a highly nonlinear system, using initialization strategies to find a suitable approximation for a future parameter estimation exercise. Create a MATLAB or Python script to simulate and display the results. Estimated Time: 2 hours\n",
        "\n"
      ]
    },
    {
      "metadata": {
        "id": "QXiK7ZAKyiI4",
        "colab_type": "code",
        "colab": {
          "base_uri": "https://localhost:8080/",
          "height": 778
        },
        "cellView": "form",
        "outputId": "22d8bbd1-6fbe-4a21-f9b5-f9d3ec0f2865"
      },
      "cell_type": "code",
      "source": [
        "#@title\n",
        "%%html\n",
        "<p class='vspace'>The spread of HIV in a patient is approximated with balance equations on (H)ealthy, (I)nfected, and (V)irus population counts<sup>2</sup>.\n",
        "</p>\n",
        "<div class='vspace'></div><pre> Initial Conditions\n",
        " H = healthy cells = 1,000,000\n",
        " I = infected cells = 0\n",
        " V = virus = 100\n",
        " LV = log virus = 2\n",
        "\n",
        " Equations\n",
        " dH/dt = kr<sub>1</sub> - kr<sub>2</sub> H - kr<sub>3</sub> H V\n",
        " dI/dt = kr<sub>3</sub> H V - kr<sub>4</sub> I\n",
        " dV/dt = -kr<sub>3</sub> H V - kr<sub>5</sub> V + kr<sub>6</sub> I\n",
        " LV = log<sub>10</sub>(V)\n",
        "</pre><p class='vspace'>There are six parameters (kr<sub>1..6</sub>) in the model that provide the rates of cell death, infection spread, virus replication, and other processes that determine the spread of HIV in the body.\n",
        "</p>\n",
        "<div class='vspace'></div><pre> Parameters\n",
        " kr<sub>1</sub> = new healthy cells\n",
        " kr<sub>2</sub> = death rate of healthy cells\n",
        " kr<sub>3</sub> = healthy cells converting to infected cells\n",
        " kr<sub>4</sub> = death rate of infected cells\n",
        " kr<sub>5</sub> = death rate of virus\n",
        " kr<sub>6</sub> = production of virus by infected cells\n",
        "</pre><p class='vspace'>The following data is provided from a virus count over the course of 15 years. Note that the virus count information is reported in log scale.\n",
        "</p>\n",
        "<div class='vspace'></div><div><img src='http://apmonitor.com/do/uploads/Main/download.png' alt='' title='' /> <a class='urllink' href='http://apmonitor.com/do/uploads/Main/data_hiv.zip' rel='nofollow'>HIV Data and Model Files</a></div>\n",
        "<div class='vspace'></div><div><img src='http://apmonitor.com/do/uploads/Main/hiv_virus_count.png' alt='' title='' /></div>\n",
        "\n",
        "<p class='vspace'>With guess values for parameters (kr<sub>1..6</sub>), approximately match the laboratory data for this patient. <a class='wikilink' href='http://apmonitor.com/do/index.php/Main/EstimatorObjective'>A subsequent section</a> introduces methods for parameter estimation by minimizing an objective function.</p>"
      ],
      "execution_count": 4,
      "outputs": [
        {
          "output_type": "display_data",
          "data": {
            "text/html": [
              "<p class='vspace'>The spread of HIV in a patient is approximated with balance equations on (H)ealthy, (I)nfected, and (V)irus population counts<sup>2</sup>.\n",
              "</p>\n",
              "<div class='vspace'></div><pre> Initial Conditions\n",
              " H = healthy cells = 1,000,000\n",
              " I = infected cells = 0\n",
              " V = virus = 100\n",
              " LV = log virus = 2\n",
              "\n",
              " Equations\n",
              " dH/dt = kr<sub>1</sub> - kr<sub>2</sub> H - kr<sub>3</sub> H V\n",
              " dI/dt = kr<sub>3</sub> H V - kr<sub>4</sub> I\n",
              " dV/dt = -kr<sub>3</sub> H V - kr<sub>5</sub> V + kr<sub>6</sub> I\n",
              " LV = log<sub>10</sub>(V)\n",
              "</pre><p class='vspace'>There are six parameters (kr<sub>1..6</sub>) in the model that provide the rates of cell death, infection spread, virus replication, and other processes that determine the spread of HIV in the body.\n",
              "</p>\n",
              "<div class='vspace'></div><pre> Parameters\n",
              " kr<sub>1</sub> = new healthy cells\n",
              " kr<sub>2</sub> = death rate of healthy cells\n",
              " kr<sub>3</sub> = healthy cells converting to infected cells\n",
              " kr<sub>4</sub> = death rate of infected cells\n",
              " kr<sub>5</sub> = death rate of virus\n",
              " kr<sub>6</sub> = production of virus by infected cells\n",
              "</pre><p class='vspace'>The following data is provided from a virus count over the course of 15 years. Note that the virus count information is reported in log scale.\n",
              "</p>\n",
              "<div class='vspace'></div><div><img src='http://apmonitor.com/do/uploads/Main/download.png' alt='' title='' /> <a class='urllink' href='http://apmonitor.com/do/uploads/Main/data_hiv.zip' rel='nofollow'>HIV Data and Model Files</a></div>\n",
              "<div class='vspace'></div><div><img src='http://apmonitor.com/do/uploads/Main/hiv_virus_count.png' alt='' title='' /></div>\n",
              "\n",
              "<p class='vspace'>With guess values for parameters (kr<sub>1..6</sub>), approximately match the laboratory data for this patient. <a class='wikilink' href='http://apmonitor.com/do/index.php/Main/EstimatorObjective'>A subsequent section</a> introduces methods for parameter estimation by minimizing an objective function.</p>"
            ],
            "text/plain": [
              "<IPython.core.display.HTML object>"
            ]
          },
          "metadata": {
            "tags": []
          }
        }
      ]
    },
    {
      "metadata": {
        "id": "2TYGakY4zSsj",
        "colab_type": "code",
        "colab": {
          "base_uri": "https://localhost:8080/",
          "height": 372
        },
        "cellView": "form",
        "outputId": "ce7a326d-755b-4b00-bbd4-fb75fb59a1d9"
      },
      "cell_type": "code",
      "source": [
        "#@markdown ##Solution\n",
        "\n",
        "%%html\n",
        "<div><img src='http://apmonitor.com/do/uploads/Main/download.png' alt='' title='' /> <a class='urllink' href='http://apmonitor.com/do/uploads/Main/simulate_hiv.zip' rel='nofollow'>HIV Simulation in MATLAB and Python</a></div>\n",
        "<div class='vspace'></div>\n",
        "<iframe width=\"560\" height=\"315\" src=\"https://www.youtube.com/embed/0Et07u336Bo?rel=0\" frameborder=\"0\" allowfullscreen></iframe>\n"
      ],
      "execution_count": 6,
      "outputs": [
        {
          "output_type": "display_data",
          "data": {
            "text/html": [
              "<div><img src='http://apmonitor.com/do/uploads/Main/download.png' alt='' title='' /> <a class='urllink' href='http://apmonitor.com/do/uploads/Main/simulate_hiv.zip' rel='nofollow'>HIV Simulation in MATLAB and Python</a></div>\n",
              "<div class='vspace'></div>\n",
              "<iframe width=\"560\" height=\"315\" src=\"https://www.youtube.com/embed/0Et07u336Bo?rel=0\" frameborder=\"0\" allowfullscreen></iframe>"
            ],
            "text/plain": [
              "<IPython.core.display.HTML object>"
            ]
          },
          "metadata": {
            "tags": []
          }
        }
      ]
    },
    {
      "metadata": {
        "id": "mLQ5_JzJzwHv",
        "colab_type": "code",
        "colab": {}
      },
      "cell_type": "code",
      "source": [
        ""
      ],
      "execution_count": 0,
      "outputs": []
    }
  ]
}