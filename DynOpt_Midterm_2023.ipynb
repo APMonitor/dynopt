{
 "cells": [
  {
   "cell_type": "markdown",
   "metadata": {
    "id": "fwzi2swlTdYM"
   },
   "source": [
    "## Midterm Practice Exam 3\n",
    "\n",
    "The [Midterm Practice Exam 3](https://apmonitor.com/do/index.php/Main/MidtermExam2023) has three problems including:\n",
    "\n",
    "1. Orthogonal Collocation on Finite Elements: Simultaneous solution of Ordinary Differential Equations (ODEs) and an objective function.\n",
    "2. Dynamic Optimization Benchmark: Minimize the integral action (u) to solve a boundary value problem. Verify the solution with a grid-independence test.\n",
    "3. Regression with a Data Outlier: Demonstrate methods to reject an outlier data point during parameter regression with a selection of an obective function that minimizes the effect of bad data. "
   ]
  },
  {
   "cell_type": "markdown",
   "metadata": {},
   "source": [
    "### Problem 1\n",
    "\n",
    "<img align=left width=500px src='https://apmonitor.com/do/uploads/Main/midterm_q1.png'>"
   ]
  },
  {
   "cell_type": "code",
   "execution_count": null,
   "metadata": {
    "colab": {
     "base_uri": "https://localhost:8080/"
    },
    "executionInfo": {
     "elapsed": 254,
     "status": "ok",
     "timestamp": 1614783773908,
     "user": {
      "displayName": "Junho Park",
      "photoUrl": "https://lh3.googleusercontent.com/a-/AOh14GhWH0H954i4D0PPc6sNLVFrvhJj0CKnJSQoAJisShY=s64",
      "userId": "07513182812079543524"
     },
     "user_tz": 420
    },
    "id": "7cdkgaUFQrk3",
    "outputId": "3eaee3ff-0363-4302-d03f-d79eb175acd6"
   },
   "outputs": [],
   "source": [
    "from gekko import GEKKO\n",
    "import numpy as np\n",
    "\n",
    "m = GEKKO(remote=False)\n",
    "x10 = 0; x20 = 1\n",
    "u, x11, x12, x21, x22, dx11, dx12, dx21, dx22 = m.Array(m.Var,9)\n",
    "u.value = 1; x11.value = 1; x12.value = 1; x21.value = 1; x22.value = 1 \n",
    "\n",
    "N = np.array([[0.75, -0.25],\\\n",
    "              [1.00,  0.00]])\n",
    "\n",
    "m.Equations([np.dot(N[0],[dx11, dx12]) == x11 - x10,\n",
    "             np.dot(N[1],[dx11, dx12]) == x12 - x10,\n",
    "             np.dot(N[0],[dx21, dx22]) == x21 - x20,\n",
    "             np.dot(N[1],[dx21, dx22]) == x22 - x20,\n",
    "             5*dx11 == -x11 + 2*u**2,\n",
    "             5*dx12 == -x12 + 2*u**2,\n",
    "             3*dx21 == -x21 + x11**2,\n",
    "             3*dx22 == -x22 + x12**2,\n",
    "             x22-5 == 0])\n",
    "\n",
    "m.solve(disp=False)\n",
    "print(u[0])\n",
    "print(x10, x11[0], x12[0])\n",
    "print(x20, x21[0], x22[0])\n",
    "print(dx11[0], dx12[0], dx21[0], dx22[0])"
   ]
  },
  {
   "cell_type": "markdown",
   "metadata": {},
   "source": [
    "#### Check with the Gekko IMODE6"
   ]
  },
  {
   "cell_type": "code",
   "execution_count": null,
   "metadata": {
    "colab": {
     "base_uri": "https://localhost:8080/",
     "height": 231
    },
    "executionInfo": {
     "elapsed": 2607,
     "status": "error",
     "timestamp": 1614784574598,
     "user": {
      "displayName": "Junho Park",
      "photoUrl": "https://lh3.googleusercontent.com/a-/AOh14GhWH0H954i4D0PPc6sNLVFrvhJj0CKnJSQoAJisShY=s64",
      "userId": "07513182812079543524"
     },
     "user_tz": 420
    },
    "id": "8oCjX64jnbD5",
    "outputId": "fbbc0bbd-9b91-4950-c529-6b3b08e8d020"
   },
   "outputs": [],
   "source": [
    "# Check with the solution\n",
    "p = GEKKO(remote=False)\n",
    "p.time = [0, 1]\n",
    "u = p.FV(1, name='u') \n",
    "u.STATUS =1\n",
    "x1 = p.Var(0, name='x1')\n",
    "x2 = p.Var(1, name='x2')\n",
    "\n",
    "p.Equations([5*x1.dt() == -x1 + 2*u**2,\n",
    "             3*x2.dt() == -x2 + x1**2])\n",
    "\n",
    "final = np.zeros_like(p.time) \n",
    "final[-1] = 1 \n",
    "final = p.Param(value = final)\n",
    "\n",
    "p.options.IMODE = 6\n",
    "p.options.NODES = 3\n",
    "p.options.CSV_WRITE=2\n",
    "\n",
    "p.Minimize((x2*final - 5)**2)\n",
    "\n",
    "p.solve(disp=False)\n",
    "\n",
    "# retrieve internal nodes from results_all.json\n",
    "import json\n",
    "with open(p.path+'//results_all.json') as f:\n",
    "    results = json.load(f)\n",
    "    \n",
    "print(results['u'][-1])\n",
    "print(results['x1'])\n",
    "print(results['x2'])"
   ]
  },
  {
   "cell_type": "markdown",
   "metadata": {},
   "source": [
    "### Problem 2\n",
    "\n",
    "<img align=left width=500px src='https://apmonitor.com/do/uploads/Main/midterm_q2.png'>"
   ]
  },
  {
   "cell_type": "code",
   "execution_count": null,
   "metadata": {},
   "outputs": [],
   "source": [
    "from gekko import GEKKO\n",
    "import matplotlib.pyplot as plt\n",
    "import numpy as np\n",
    "\n",
    "# Initialize Model\n",
    "m = GEKKO()\n",
    "\n",
    "nt = 101\n",
    "m.time = np.linspace(0,1,nt)\n",
    "\n",
    "# Parameters\n",
    "u = m.MV(value=-6)\n",
    "u.STATUS = 1\n",
    "\n",
    "# Variables\n",
    "x = m.Var(value=0,ub=1/9)\n",
    "v = m.Var(value=1)\n",
    "\n",
    "J = m.Intermediate(0.5*m.integral(u**2))\n",
    "\n",
    "p = np.zeros(nt)\n",
    "p[-1] = 1.0\n",
    "final = m.Param(value=p)\n",
    "\n",
    "# Equations\n",
    "m.Equation(x.dt() == v)\n",
    "m.Equation(v.dt() == u)\n",
    "\n",
    "m.Equation(final*x==0)\n",
    "m.Equation(final*(v+1)==0)\n",
    "\n",
    "# ,or\n",
    "# m.Minimize(final*1e5*x**2)\n",
    "# m.Minimize(final*1e5*(v+1)**2)\n",
    "\n",
    "# Objective Function\n",
    "m.Obj(final*J)\n",
    "\n",
    "# Options\n",
    "m.options.IMODE = 6\n",
    "m.options.NODES = 2\n",
    "m.options.solver = 1\n",
    "\n",
    "m.solve(disp=False)\n",
    "\n",
    "print('Final Objective Function Value:', J.value[-1])\n",
    "\n",
    "# Create a figure\n",
    "plt.figure(figsize=(10,4))\n",
    "plt.subplot(2,2,1)\n",
    "plt.plot([0,1],[1/9,1/9],'r:',label=r'$x<\\frac{1}{9}$')\n",
    "plt.plot(m.time,x.value,'k-',lw=2,label=r'$x$')\n",
    "plt.ylabel('Position')\n",
    "plt.legend(loc='best')\n",
    "plt.subplot(2,2,2)\n",
    "plt.plot(m.time,v.value,'b--',lw=2,label=r'$v$')\n",
    "plt.ylabel('Velocity')\n",
    "plt.legend(loc='best')\n",
    "plt.subplot(2,2,3)\n",
    "plt.plot(m.time,u.value,'r--',lw=2,label=r'$u$')\n",
    "plt.ylabel('Thrust')\n",
    "plt.legend(loc='best')\n",
    "plt.xlabel('Time')\n",
    "plt.subplot(2,2,4)\n",
    "plt.plot(m.time,J.value,'g-',lw=2,label=r'$\\frac{1}{2} \\int u^2$')\n",
    "plt.text(0.5,3.0,'Final Value = '+str(np.round(J.value[-1],2)))\n",
    "plt.ylabel('Objective')\n",
    "plt.legend(loc='best')\n",
    "plt.xlabel('Time')\n",
    "plt.show()"
   ]
  },
  {
   "cell_type": "markdown",
   "metadata": {},
   "source": [
    "### Problem 3\n",
    "\n",
    "<img align=left width=500px src='https://apmonitor.com/do/uploads/Main/midterm_q3.png'>"
   ]
  },
  {
   "cell_type": "code",
   "execution_count": null,
   "metadata": {},
   "outputs": [],
   "source": [
    "import numpy as np\n",
    "from gekko import GEKKO\n",
    "import matplotlib.pyplot as plt\n",
    "\n",
    "#data from problem statement\n",
    "time = np.array([0, 5, 10, 20, 30, 40, 50, 60, 90, 120,\n",
    "                 150, 180, 240, 300, 360, 480, 600, 720])\n",
    "Cc_meas = np.array([0,0.57, 0.78, 0.92, 1.04, 1.19, 1.29,\n",
    "                    1.36, 1.59, 1.68, 1.84, 1.96, 2.01, 2.13,\n",
    "                    2.21, 5.32, 2.38, 2.44])\n",
    "\n",
    "m = GEKKO(remote=True)\n",
    "\n",
    "m.time = time\n",
    "\n",
    "Kf = m.FV(value =0.0025, lb = 0, ub = 0.01)\n",
    "Kb = m.FV(value =0.0025, lb = 0, ub = 0.01)\n",
    "Kf.STATUS = 1\n",
    "Kb.STATUS = 1\n",
    "\n",
    "Ca = m.Var(value = 4.84)\n",
    "Cb = m.Var(value = 9.67)\n",
    "Cd = m.Var(value = 0)\n",
    "\n",
    "Cc = m.CV(Cc_meas)\n",
    "Cc.FSTATUS = 1\n",
    "\n",
    "#Reaction equations\n",
    "m.Equation(Cc.dt() == Kf*Ca*(Cb**2) - Kb*Cc*Cd)\n",
    "m.Equation(Ca.dt() == -Cc.dt())\n",
    "m.Equation(Cb.dt() == -2*Cc.dt())\n",
    "m.Equation(Cd.dt() == Cc.dt())\n",
    "\n",
    "#turn GEKKO mode to estimation\n",
    "m.options.IMODE = 5\n",
    "m.options.NODES = 4\n",
    "m.options.EV_TYPE = 1 #2 = Sum of squared error, 1 = Sum of absoluted error\n",
    "\n",
    "m.solve(disp=False)\n",
    "\n",
    "#solve and plot\n",
    "plt.figure()\n",
    "plt.subplot(2,1,1)\n",
    "plt.plot(m.time, Ca.value, label = 'Ca')\n",
    "plt.plot(m.time, Cb.value, label = 'Cb')\n",
    "plt.ylabel('Concentration (mol/L)')\n",
    "plt.legend(); plt.grid()\n",
    "plt.subplot(2,1,2)\n",
    "plt.plot(m.time, Cc.value, label = 'Cc')\n",
    "plt.plot(m.time, Cc_meas, 'ro', label = 'Cc Data')\n",
    "plt.ylabel('Concentration (mol/L)')\n",
    "plt.xlabel('Time (min)')\n",
    "plt.legend(); plt.grid()\n",
    "plt.ylabel('Concentration (mol/L)')\n",
    "plt.tight_layout()\n",
    "plt.savefig('regression.png',dpi=300)\n",
    "\n",
    "print(\"Kf = \" + str(Kf.value[0]))\n",
    "print(\"Kb = \" + str(Kb.value[0]))"
   ]
  }
 ],
 "metadata": {
  "colab": {
   "authorship_tag": "ABX9TyOpPSvrQQZ/10XjZg+iBxc3",
   "name": "DynOpt_Midterm_solution.ipynb",
   "provenance": []
  },
  "kernelspec": {
   "display_name": "Python 3 (ipykernel)",
   "language": "python",
   "name": "python3"
  },
  "language_info": {
   "codemirror_mode": {
    "name": "ipython",
    "version": 3
   },
   "file_extension": ".py",
   "mimetype": "text/x-python",
   "name": "python",
   "nbconvert_exporter": "python",
   "pygments_lexer": "ipython3",
   "version": "3.9.13"
  }
 },
 "nbformat": 4,
 "nbformat_minor": 1
}
