{
  "nbformat": 4,
  "nbformat_minor": 0,
  "metadata": {
    "colab": {
      "name": "DynamicOptimizationBenchmarks.ipynb",
      "version": "0.3.2",
      "provenance": [],
      "collapsed_sections": [],
      "toc_visible": true,
      "include_colab_link": true
    },
    "kernelspec": {
      "name": "python3",
      "display_name": "Python 3"
    }
  },
  "cells": [
    {
      "cell_type": "markdown",
      "metadata": {
        "id": "view-in-github",
        "colab_type": "text"
      },
      "source": [
        "<a href=\"https://colab.research.google.com/github/misbahsy/APMonitor-do/blob/master/DynamicOptimizationBenchmarks.ipynb\" target=\"_parent\"><img src=\"https://colab.research.google.com/assets/colab-badge.svg\" alt=\"Open In Colab\"/></a>"
      ]
    },
    {
      "metadata": {
        "id": "eCP1s9LGf6eg",
        "colab_type": "text"
      },
      "cell_type": "markdown",
      "source": [
        "#Optimal Control Problems\n",
        "\n"
      ]
    },
    {
      "metadata": {
        "id": "9IQTFrLdipTB",
        "colab_type": "text"
      },
      "cell_type": "markdown",
      "source": [
        "##Exercise\n",
        "<p><strong>Objective:</strong> Set up and solve <strong>three</strong> of the five <a class='urllink' href='http://apmonitor.com/do/uploads/Main/Dynamic_Optimization_Benchmarks.pdf' rel='nofollow'>dynamic optimization benchmark problems</a><sup>2</sup>. Create a program to optimize and display the results. <em>Estimated Time (each): 30 minutes</em>\n",
        "</p>\n",
        "<div class='vspace'></div><hr />\n",
        "<div class='vspace'></div>\n",
        "\n",
        "<h2>Example 1a</h2>\n",
        "<ul><li>Nonlinear, unconstrained, minimize final state\n",
        "</li></ul><p class='vspace'>$$\\min_{u(t)} x_2 \\left( t_f \\right)$$\n",
        "$$\\mathrm{subject \\; to}$$\n",
        "$$\\frac{dx_1}{dt}=u$$\n",
        "$$\\frac{dx_2}{dt}=x_1^2 + u^2$$\n",
        "$$x(0) = [1 \\; 0]^T$$\n",
        "$$t_f=1$$\n",
        "</p>\n",
        "<div class='vspace'></div><h2>Example 1b</h2>\n",
        "<ul><li>Nonlinear, unconstrained, minimize final state with terminal constraint\n",
        "</li></ul><p class='vspace'>$$\\min_{u(t)} x_2 \\left( t_f \\right)$$\n",
        "$$\\mathrm{subject \\; to}$$\n",
        "$$\\frac{dx_1}{dt}=u$$\n",
        "$$\\frac{dx_2}{dt}=x_1^2 + u^2$$\n",
        "$$x(0) = [1 \\; 0]^T$$\n",
        "$$x_1 \\left( t_f \\right)=1$$\n",
        "$$t_f=1$$\n",
        "</p>\n",
        "<div class='vspace'></div><h4>Solutions to Benchmarks 1a and 1b</h4>\n",
        "<div><img src='http://apmonitor.com/do/uploads/Main/download.png' alt='' title='' /> <a class='urllink' href='http://apmonitor.com/do/uploads/Main/dynamic_optimization_benchmark1.zip' rel='nofollow'>Dynamic Optimization Benchmark 1a and 1b in MATLAB and Python</a></div>\n"
      ]
    },
    {
      "metadata": {
        "id": "WXswHisqf9Ie",
        "colab_type": "code",
        "colab": {
          "base_uri": "https://localhost:8080/",
          "height": 336
        },
        "cellView": "form",
        "outputId": "ea83902c-4b35-40dc-c613-06a4e75fba5f"
      },
      "cell_type": "code",
      "source": [
        "#@title\n",
        "%%html\n",
        "<iframe width=\"560\" height=\"315\" src=\"https://www.youtube.com/embed/mmCFF3-6sGg\" frameborder=\"0\" allowfullscreen></iframe>"
      ],
      "execution_count": 2,
      "outputs": [
        {
          "output_type": "display_data",
          "data": {
            "text/html": [
              "<iframe width=\"560\" height=\"315\" src=\"https://www.youtube.com/embed/mmCFF3-6sGg\" frameborder=\"0\" allowfullscreen></iframe>"
            ],
            "text/plain": [
              "<IPython.core.display.HTML object>"
            ]
          },
          "metadata": {
            "tags": []
          }
        }
      ]
    },
    {
      "metadata": {
        "id": "fn-9G2MJgbZ9",
        "colab_type": "code",
        "colab": {
          "base_uri": "https://localhost:8080/",
          "height": 2129
        },
        "cellView": "form",
        "outputId": "06e8809b-bfff-4363-ed46-6ba7477b14ec"
      },
      "cell_type": "code",
      "source": [
        "#@markdown ###Solution for 1a using GEKKO\n",
        "\n",
        "try:\n",
        "    from pip import main as pipmain\n",
        "except:\n",
        "    from pip._internal import main as pipmain\n",
        "pipmain(['install','gekko'])\n",
        "\n",
        "import numpy as np\n",
        "import matplotlib.pyplot as plt\n",
        "from gekko import GEKKO\n",
        "\n",
        "m = GEKKO()\n",
        "\n",
        "nt = 101\n",
        "m.time = np.linspace(0,1,nt)\n",
        "\n",
        "# Variables\n",
        "x1 = m.Var(value=1)\n",
        "x2 = m.Var(value=0)\n",
        "u = m.Var(value=-0.75)\n",
        "\n",
        "p = np.zeros(nt)\n",
        "p[-1] = 1.0\n",
        "final = m.Param(value=p)\n",
        "\n",
        "# Equations\n",
        "m.Equation(x1.dt()==u)\n",
        "m.Equation(x2.dt()==x1**2 + u**2)\n",
        "\n",
        "# Objective Function\n",
        "m.Obj(x2*final)\n",
        "\n",
        "m.options.IMODE = 6\n",
        "m.solve()\n",
        "\n",
        "plt.figure(1)\n",
        "plt.plot(m.time,x1.value,'k:',LineWidth=2,label=r'$x_1$')\n",
        "plt.plot(m.time,x2.value,'b-',LineWidth=2,label=r'$x_2$')\n",
        "plt.plot(m.time,u.value,'r--',LineWidth=2,label=r'$u$')\n",
        "plt.legend(loc='best')\n",
        "plt.xlabel('Time')\n",
        "plt.ylabel('Value')\n",
        "plt.show()"
      ],
      "execution_count": 3,
      "outputs": [
        {
          "output_type": "stream",
          "text": [
            "Collecting gekko\n",
            "  Downloading https://files.pythonhosted.org/packages/2e/01/8612a1122c4d95c188a6dd0e3c5470234ca8959be4112a9acf49551a3312/gekko-0.1rc9-py3-none-any.whl (9.3MB)\n",
            "Requirement already satisfied: flask in /usr/local/lib/python3.6/dist-packages (from gekko) (1.0.2)\n",
            "Collecting flask-cors (from gekko)\n",
            "  Downloading https://files.pythonhosted.org/packages/65/cb/683f71ff8daa3aea0a5cbb276074de39f9ab66d3fbb8ad5efb5bb83e90d2/Flask_Cors-3.0.7-py2.py3-none-any.whl\n",
            "Requirement already satisfied: numpy>=1.8 in /usr/local/lib/python3.6/dist-packages (from gekko) (1.14.6)\n",
            "Requirement already satisfied: itsdangerous>=0.24 in /usr/local/lib/python3.6/dist-packages (from flask->gekko) (1.1.0)\n",
            "Requirement already satisfied: Jinja2>=2.10 in /usr/local/lib/python3.6/dist-packages (from flask->gekko) (2.10)\n",
            "Requirement already satisfied: click>=5.1 in /usr/local/lib/python3.6/dist-packages (from flask->gekko) (7.0)\n",
            "Requirement already satisfied: Werkzeug>=0.14 in /usr/local/lib/python3.6/dist-packages (from flask->gekko) (0.14.1)\n",
            "Requirement already satisfied: Six in /usr/local/lib/python3.6/dist-packages (from flask-cors->gekko) (1.11.0)\n",
            "Requirement already satisfied: MarkupSafe>=0.23 in /usr/local/lib/python3.6/dist-packages (from Jinja2>=2.10->flask->gekko) (1.1.1)\n",
            "Installing collected packages: flask-cors, gekko\n",
            "Successfully installed flask-cors-3.0.7 gekko-0.1rc9\n",
            "apm 35.231.160.17_gk_model0 <br><pre> ----------------------------------------------------------------\n",
            " APMonitor, Version 0.8.7\n",
            " APMonitor Optimization Suite\n",
            " ----------------------------------------------------------------\n",
            " \n",
            " \n",
            " --------- APM Model Size ------------\n",
            " Each time step contains\n",
            "   Objects      :            0\n",
            "   Constants    :            0\n",
            "   Variables    :            4\n",
            "   Intermediates:            0\n",
            "   Connections  :            0\n",
            "   Equations    :            3\n",
            "   Residuals    :            3\n",
            " \n",
            " Number of state variables:            500\n",
            " Number of total equations: -          400\n",
            " Number of slack variables: -            0\n",
            " ---------------------------------------\n",
            " Degrees of freedom       :            100\n",
            " \n",
            " **********************************************\n",
            " Dynamic Control with Interior Point Solver\n",
            " **********************************************\n",
            "  \n",
            "  \n",
            " Info: Exact Hessian\n",
            "\n",
            "******************************************************************************\n",
            "This program contains Ipopt, a library for large-scale nonlinear optimization.\n",
            " Ipopt is released as open source code under the Eclipse Public License (EPL).\n",
            "         For more information visit http://projects.coin-or.org/Ipopt\n",
            "******************************************************************************\n",
            "\n",
            "This is Ipopt version 3.12.10, running with linear solver ma57.\n",
            "\n",
            "Number of nonzeros in equality constraint Jacobian...:     1098\n",
            "Number of nonzeros in inequality constraint Jacobian.:        0\n",
            "Number of nonzeros in Lagrangian Hessian.............:      200\n",
            "\n",
            "Total number of variables............................:      500\n",
            "                     variables with only lower bounds:        0\n",
            "                variables with lower and upper bounds:        0\n",
            "                     variables with only upper bounds:        0\n",
            "Total number of equality constraints.................:      400\n",
            "Total number of inequality constraints...............:        0\n",
            "        inequality constraints with only lower bounds:        0\n",
            "   inequality constraints with lower and upper bounds:        0\n",
            "        inequality constraints with only upper bounds:        0\n",
            "\n",
            "iter    objective    inf_pr   inf_du lg(mu)  ||d||  lg(rg) alpha_du alpha_pr  ls\n",
            "   0  0.0000000e+00 1.56e+00 4.87e-03   0.0 0.00e+00    -  0.00e+00 0.00e+00   0\n",
            "   1  3.5737650e-01 1.33e+00 7.67e-03 -11.0 1.66e+00    -  1.00e+00 1.00e+00h  1\n",
            "   2  7.2730752e-01 1.55e-01 2.22e-16 -11.0 9.05e-01    -  1.00e+00 1.00e+00h  1\n",
            "   3  7.5869385e-01 2.22e-16 2.22e-16 -11.0 1.55e-01    -  1.00e+00 1.00e+00h  1\n",
            "\n",
            "Number of Iterations....: 3\n",
            "\n",
            "                                   (scaled)                 (unscaled)\n",
            "Objective...............:   7.5869384510815863e-01    7.5869384510815863e-01\n",
            "Dual infeasibility......:   2.2204460492503131e-16    2.2204460492503131e-16\n",
            "Constraint violation....:   2.2204460492503131e-16    2.2204460492503131e-16\n",
            "Complementarity.........:   0.0000000000000000e+00    0.0000000000000000e+00\n",
            "Overall NLP error.......:   2.2204460492503131e-16    2.2204460492503131e-16\n",
            "\n",
            "\n",
            "Number of objective function evaluations             = 4\n",
            "Number of objective gradient evaluations             = 4\n",
            "Number of equality constraint evaluations            = 4\n",
            "Number of inequality constraint evaluations          = 0\n",
            "Number of equality constraint Jacobian evaluations   = 4\n",
            "Number of inequality constraint Jacobian evaluations = 0\n",
            "Number of Lagrangian Hessian evaluations             = 3\n",
            "Total CPU secs in IPOPT (w/o function evaluations)   =      0.008\n",
            "Total CPU secs in NLP function evaluations           =      0.024\n",
            "\n",
            "EXIT: Optimal Solution Found.\n",
            " \n",
            " The solution was found.\n",
            " \n",
            " The final value of the objective function is   0.758693845108159     \n",
            " \n",
            " ---------------------------------------------------\n",
            " Solver         :  IPOPT (v3.12)\n",
            " Solution time  :   3.770000000076834E-002 sec\n",
            " Objective      :   0.758693845108159     \n",
            " Successful solution\n",
            " ---------------------------------------------------\n",
            " \n"
          ],
          "name": "stdout"
        },
        {
          "output_type": "display_data",
          "data": {
            "image/png": "[encoded data removed]",
            "text/plain": [
              "<Figure size 576x396 with 1 Axes>"
            ]
          },
          "metadata": {
            "tags": []
          }
        }
      ]
    },
    {
      "metadata": {
        "id": "1olaKpgrg3X9",
        "colab_type": "code",
        "colab": {
          "base_uri": "https://localhost:8080/",
          "height": 2010
        },
        "cellView": "form",
        "outputId": "df8e60cc-3fe6-41d4-e555-c4a409a34774"
      },
      "cell_type": "code",
      "source": [
        "#@markdown ###Solution for 1b using GEKKO\n",
        "\n",
        "import numpy as np\n",
        "import matplotlib.pyplot as plt\n",
        "from gekko import GEKKO\n",
        "\n",
        "m = GEKKO()\n",
        "\n",
        "nt = 101\n",
        "m.time = np.linspace(0,1,nt)\n",
        "\n",
        "# Variables\n",
        "x1 = m.Var(value=1)\n",
        "x2 = m.Var(value=0)\n",
        "u = m.Var(value=-0.48)\n",
        "\n",
        "p = np.zeros(nt)\n",
        "p[-1] = 1.0\n",
        "final = m.Param(value=p)\n",
        "\n",
        "# Equations\n",
        "m.Equation(x1.dt()==u)\n",
        "m.Equation(x2.dt()==x1**2 + u**2)\n",
        "m.Equation(final*(x1-1)==0)\n",
        "\n",
        "# Objective Function\n",
        "m.Obj(x2*final)\n",
        "\n",
        "m.options.IMODE = 6\n",
        "m.solve()\n",
        "\n",
        "plt.figure(1)\n",
        "plt.plot(m.time,x1.value,'k:',LineWidth=2,label=r'$x_1$')\n",
        "plt.plot(m.time,x2.value,'b-',LineWidth=2,label=r'$x_2$')\n",
        "plt.plot(m.time,u.value,'r--',LineWidth=2,label=r'$u$')\n",
        "plt.legend(loc='best')\n",
        "plt.xlabel('Time')\n",
        "plt.ylabel('Value')\n",
        "plt.show()"
      ],
      "execution_count": 4,
      "outputs": [
        {
          "output_type": "stream",
          "text": [
            "apm 35.231.160.17_gk_model1 <br><pre> ----------------------------------------------------------------\n",
            " APMonitor, Version 0.8.7\n",
            " APMonitor Optimization Suite\n",
            " ----------------------------------------------------------------\n",
            " \n",
            " \n",
            " --------- APM Model Size ------------\n",
            " Each time step contains\n",
            "   Objects      :            0\n",
            "   Constants    :            0\n",
            "   Variables    :            4\n",
            "   Intermediates:            0\n",
            "   Connections  :            0\n",
            "   Equations    :            4\n",
            "   Residuals    :            4\n",
            " \n",
            " Number of state variables:            500\n",
            " Number of total equations: -          500\n",
            " Number of slack variables: -            0\n",
            " ---------------------------------------\n",
            " Degrees of freedom       :              0\n",
            " \n",
            " **********************************************\n",
            " Dynamic Control with Interior Point Solver\n",
            " **********************************************\n",
            "  \n",
            "  \n",
            " Info: Exact Hessian\n",
            "\n",
            "******************************************************************************\n",
            "This program contains Ipopt, a library for large-scale nonlinear optimization.\n",
            " Ipopt is released as open source code under the Eclipse Public License (EPL).\n",
            "         For more information visit http://projects.coin-or.org/Ipopt\n",
            "******************************************************************************\n",
            "\n",
            "This is Ipopt version 3.12.10, running with linear solver ma57.\n",
            "\n",
            "Number of nonzeros in equality constraint Jacobian...:     1198\n",
            "Number of nonzeros in inequality constraint Jacobian.:        0\n",
            "Number of nonzeros in Lagrangian Hessian.............:      200\n",
            "\n",
            "Total number of variables............................:      500\n",
            "                     variables with only lower bounds:        0\n",
            "                variables with lower and upper bounds:        0\n",
            "                     variables with only upper bounds:        0\n",
            "Total number of equality constraints.................:      500\n",
            "Total number of inequality constraints...............:        0\n",
            "        inequality constraints with only lower bounds:        0\n",
            "   inequality constraints with lower and upper bounds:        0\n",
            "        inequality constraints with only upper bounds:        0\n",
            "\n",
            "iter    objective    inf_pr   inf_du lg(mu)  ||d||  lg(rg) alpha_du alpha_pr  ls\n",
            "   0  0.0000000e+00 1.23e+00 1.00e+00   0.0 0.00e+00    -  0.00e+00 0.00e+00   0\n",
            "Reallocating memory for MA57: lfact (15670)\n",
            "Reallocating memory for MA57: lfact (34686)\n",
            "Reallocating memory for MA57: lfact (77779)\n",
            "Reallocating memory for MA57: lfact (145929)\n",
            "Reallocating memory for MA57: lfact (156660)\n",
            "   1  5.9040953e-01 9.82e-01 1.56e-02 -11.0 1.32e+00  -2.0 1.00e+00 1.00e+00h  1\n",
            "   2  9.2431269e-01 2.51e-03 1.70e-03 -11.0 9.47e-01    -  1.00e+00 1.00e+00h  1\n",
            "   3  9.2348555e-01 5.56e-03 1.11e-16 -11.0 7.53e-02    -  1.00e+00 1.00e+00h  1\n",
            "   4  9.2424259e-01 2.22e-16 1.11e-16 -11.0 5.56e-03    -  1.00e+00 1.00e+00h  1\n",
            "Cannot recompute multipliers for feasibility problem.  Error in eq_mult_calculator\n",
            "\n",
            "Number of Iterations....: 4\n",
            "\n",
            "                                   (scaled)                 (unscaled)\n",
            "Objective...............:   9.2424259050394098e-01    9.2424259050394098e-01\n",
            "Dual infeasibility......:   1.1102230246251565e-16    1.1102230246251565e-16\n",
            "Constraint violation....:   2.2204460492503131e-16    2.2204460492503131e-16\n",
            "Complementarity.........:   0.0000000000000000e+00    0.0000000000000000e+00\n",
            "Overall NLP error.......:   2.2204460492503131e-16    2.2204460492503131e-16\n",
            "\n",
            "\n",
            "Number of objective function evaluations             = 5\n",
            "Number of objective gradient evaluations             = 5\n",
            "Number of equality constraint evaluations            = 5\n",
            "Number of inequality constraint evaluations          = 0\n",
            "Number of equality constraint Jacobian evaluations   = 5\n",
            "Number of inequality constraint Jacobian evaluations = 0\n",
            "Number of Lagrangian Hessian evaluations             = 4\n",
            "Total CPU secs in IPOPT (w/o function evaluations)   =      0.104\n",
            "Total CPU secs in NLP function evaluations           =      0.037\n",
            "\n",
            "EXIT: Optimal Solution Found.\n",
            " \n",
            " The solution was found.\n",
            " \n",
            " The final value of the objective function is   0.924242590503941     \n",
            " \n",
            " ---------------------------------------------------\n",
            " Solver         :  IPOPT (v3.12)\n",
            " Solution time  :   0.150699999998324      sec\n",
            " Objective      :   0.924242590503941     \n",
            " Successful solution\n",
            " ---------------------------------------------------\n",
            " \n"
          ],
          "name": "stdout"
        },
        {
          "output_type": "display_data",
          "data": {
            "image/png": "[encoded data removed]",
            "text/plain": [
              "<Figure size 576x396 with 1 Axes>"
            ]
          },
          "metadata": {
            "tags": []
          }
        }
      ]
    },
    {
      "metadata": {
        "id": "4sSOXK-AhFSW",
        "colab_type": "code",
        "colab": {
          "base_uri": "https://localhost:8080/",
          "height": 336
        },
        "cellView": "form",
        "outputId": "37a3b75e-81e1-4c0c-bfeb-96437beb2814"
      },
      "cell_type": "code",
      "source": [
        "#@title\n",
        "%%html\n",
        "<iframe width=\"560\" height=\"315\" src=\"https://www.youtube.com/embed/WHnIfKUfjQY\" frameborder=\"0\" allow=\"autoplay; encrypted-media\" allowfullscreen></iframe>\n"
      ],
      "execution_count": 5,
      "outputs": [
        {
          "output_type": "display_data",
          "data": {
            "text/html": [
              "<iframe width=\"560\" height=\"315\" src=\"https://www.youtube.com/embed/WHnIfKUfjQY\" frameborder=\"0\" allow=\"autoplay; encrypted-media\" allowfullscreen></iframe>"
            ],
            "text/plain": [
              "<IPython.core.display.HTML object>"
            ]
          },
          "metadata": {
            "tags": []
          }
        }
      ]
    },
    {
      "metadata": {
        "id": "ueQdE2QBhmnL",
        "colab_type": "text"
      },
      "cell_type": "markdown",
      "source": [
        "##Example 2\n",
        "<ul><li>Nonlinear, constrained, minimize final state\n",
        "</li></ul><p class='vspace'>$$\\min_{u(t)} x_4 \\left( t_f \\right)$$\n",
        "$$\\mathrm{subject \\; to}$$\n",
        "$$\\frac{dx_1}{dt}=x_2$$\n",
        "$$\\frac{dx_2}{dt}=-x_3 \\, u + 16 \\, t - 8$$\n",
        "$$\\frac{dx_3}{dt}=u$$\n",
        "$$\\frac{dx_4}{dt}=x_1^2+x_2^2+0.0005 \\left(x_2 + 16 \\, t -8 -0.1x_3\\,u^2\\right)^2$$\n",
        "$$x(0) = [0 \\; -1 \\; -\\sqrt{5} \\; 0]^T$$\n",
        "$$-4 \\le u \\le 10$$\n",
        "$$t_f=1$$\n",
        "</p>\n",
        "<div class='vspace'></div><h4>Solution to Benchmark 2</h4>\n",
        "<div><img src='http://apmonitor.com/do/uploads/Main/download.png' alt='' title='' /> <a class='urllink' href='http://apmonitor.com/do/uploads/Main/dynamic_optimization_benchmark2.zip' rel='nofollow'>Dynamic Optimization Benchmark 2 in MATLAB and Python</a></div>"
      ]
    },
    {
      "metadata": {
        "id": "jiO214WjhcDp",
        "colab_type": "code",
        "colab": {
          "base_uri": "https://localhost:8080/",
          "height": 336
        },
        "cellView": "form",
        "outputId": "d7834b9a-7e1f-4dd0-e883-0a0fa6afce3e"
      },
      "cell_type": "code",
      "source": [
        "#@title\n",
        "%%html\n",
        "<iframe width=\"560\" height=\"315\" src=\"https://www.youtube.com/embed/JP2rH7IPYvc\" frameborder=\"0\" allowfullscreen></iframe>\n"
      ],
      "execution_count": 6,
      "outputs": [
        {
          "output_type": "display_data",
          "data": {
            "text/html": [
              "<iframe width=\"560\" height=\"315\" src=\"https://www.youtube.com/embed/JP2rH7IPYvc\" frameborder=\"0\" allowfullscreen></iframe>"
            ],
            "text/plain": [
              "<IPython.core.display.HTML object>"
            ]
          },
          "metadata": {
            "tags": []
          }
        }
      ]
    },
    {
      "metadata": {
        "id": "WpERlCvOjsA0",
        "colab_type": "code",
        "colab": {
          "base_uri": "https://localhost:8080/",
          "height": 2214
        },
        "cellView": "form",
        "outputId": "483f4fae-9fd8-48d8-aa59-d7faccbd1eaf"
      },
      "cell_type": "code",
      "source": [
        "#@markdown ##Solution for 2 using GEKKO\n",
        "import numpy as np\n",
        "import matplotlib.pyplot as plt\n",
        "from gekko import GEKKO\n",
        "\n",
        "m = GEKKO()\n",
        "\n",
        "nt = 101\n",
        "m.time = np.linspace(0,1,nt)\n",
        "\n",
        "# Parameters\n",
        "u = m.MV(value=9,lb=-4,ub=10)\n",
        "u.STATUS = 1\n",
        "u.DCOST = 0\n",
        "\n",
        "# Variables\n",
        "t = m.Var(value=0)\n",
        "x1 = m.Var(value=0)\n",
        "x2 = m.Var(value=-1)\n",
        "x3 = m.Var(value=-np.sqrt(5))\n",
        "x4 = m.Var(value=0)\n",
        "\n",
        "p = np.zeros(nt)\n",
        "p[-1] = 1.0\n",
        "final = m.Param(value=p)\n",
        "\n",
        "# Equations\n",
        "m.Equation(t.dt()==1)\n",
        "m.Equation(x1.dt()==x2)\n",
        "m.Equation(x2.dt()==-x3*u+16*t-8)\n",
        "m.Equation(x3.dt()==u)\n",
        "m.Equation(x4.dt()==x1**2+x2**2 \\\n",
        "           +0.005*(x2+16*t-8-0.1*x3*(u**2))**2)\n",
        "\n",
        "# Objective Function\n",
        "m.Obj(x4*final)\n",
        "\n",
        "m.options.IMODE = 6\n",
        "m.options.NODES = 4\n",
        "m.options.MV_TYPE = 1\n",
        "m.options.SOLVER = 3\n",
        "m.solve()\n",
        "\n",
        "print(m.path)\n",
        "\n",
        "print('Objective = min x4(tf): ' + str(x4[-1]))\n",
        "\n",
        "plt.figure(1)\n",
        "plt.subplot(2,1,1)\n",
        "plt.plot(m.time,u,'r-',LineWidth=2,label=r'$u$')\n",
        "plt.legend(loc='best')\n",
        "plt.subplot(2,1,2)\n",
        "plt.plot(m.time,x1.value,'r--',LineWidth=2,label=r'$x_1$')\n",
        "plt.plot(m.time,x2.value,'g:',LineWidth=2,label=r'$x_2$')\n",
        "plt.plot(m.time,x3.value,'k-',LineWidth=2,label=r'$x_3$')\n",
        "plt.plot(m.time,x4.value,'b-',LineWidth=2,label=r'$x_4$')\n",
        "plt.legend(loc='best')\n",
        "plt.xlabel('Time')\n",
        "plt.ylabel('Value')\n",
        "plt.show()"
      ],
      "execution_count": 7,
      "outputs": [
        {
          "output_type": "stream",
          "text": [
            "apm 35.231.160.17_gk_model2 <br><pre> ----------------------------------------------------------------\n",
            " APMonitor, Version 0.8.7\n",
            " APMonitor Optimization Suite\n",
            " ----------------------------------------------------------------\n",
            " \n",
            " \n",
            " --------- APM Model Size ------------\n",
            " Each time step contains\n",
            "   Objects      :            0\n",
            "   Constants    :            0\n",
            "   Variables    :            7\n",
            "   Intermediates:            0\n",
            "   Connections  :            0\n",
            "   Equations    :            6\n",
            "   Residuals    :            6\n",
            " \n",
            " Number of state variables:           3700\n",
            " Number of total equations: -         3600\n",
            " Number of slack variables: -            0\n",
            " ---------------------------------------\n",
            " Degrees of freedom       :            100\n",
            " \n",
            " **********************************************\n",
            " Dynamic Control with Interior Point Solver\n",
            " **********************************************\n",
            "  \n",
            "  \n",
            " Info: Exact Hessian\n",
            "\n",
            "******************************************************************************\n",
            "This program contains Ipopt, a library for large-scale nonlinear optimization.\n",
            " Ipopt is released as open source code under the Eclipse Public License (EPL).\n",
            "         For more information visit http://projects.coin-or.org/Ipopt\n",
            "******************************************************************************\n",
            "\n",
            "This is Ipopt version 3.12.10, running with linear solver ma57.\n",
            "\n",
            "Number of nonzeros in equality constraint Jacobian...:    13082\n",
            "Number of nonzeros in inequality constraint Jacobian.:      400\n",
            "Number of nonzeros in Lagrangian Hessian.............:     3300\n",
            "\n",
            "Total number of variables............................:     3700\n",
            "                     variables with only lower bounds:      200\n",
            "                variables with lower and upper bounds:      300\n",
            "                     variables with only upper bounds:        0\n",
            "Total number of equality constraints.................:     3400\n",
            "Total number of inequality constraints...............:      200\n",
            "        inequality constraints with only lower bounds:      200\n",
            "   inequality constraints with lower and upper bounds:        0\n",
            "        inequality constraints with only upper bounds:        0\n",
            "\n",
            "iter    objective    inf_pr   inf_du lg(mu)  ||d||  lg(rg) alpha_du alpha_pr  ls\n",
            "   0  0.0000000e+00 1.21e+01 1.00e+00   0.0 0.00e+00    -  0.00e+00 0.00e+00   0\n",
            "Reallocating memory for MA57: lfact (120941)\n",
            "   1  7.5367621e+00 4.20e+02 3.82e+00  -1.5 4.96e+01    -  2.06e-01 1.00e+00h  1\n",
            "   2 -6.1395263e+01 3.44e+02 3.71e+00  -0.5 3.68e+02    -  2.88e-01 1.00e+00f  1\n",
            "   3  1.6576183e+00 1.59e+00 1.24e-01  -1.7 3.50e+02    -  8.96e-01 1.00e+00h  1\n",
            "   4 -1.2251088e-01 5.32e+00 2.42e-02  -2.6 2.23e+01    -  9.46e-01 1.00e+00h  1\n",
            "   5  8.7027647e-02 1.16e+00 1.87e-02  -8.2 1.29e+02    -  7.39e-01 1.00e+00h  1\n",
            "   6  1.5045582e-01 2.82e-01 6.66e-03  -4.0 4.77e+01    -  8.63e-01 1.00e+00h  1\n",
            "   7  1.5640011e-01 4.29e-01 3.66e-03  -5.5 5.09e+01    -  7.39e-01 1.00e+00h  1\n",
            "   8  1.5694645e-01 6.76e-01 1.60e-03  -4.4 5.06e+02    -  5.45e-01 7.23e-01h  1\n",
            "   9  1.5861804e-01 2.98e-01 5.37e-04  -4.9 2.70e+02    -  6.08e-01 1.00e+00h  1\n",
            "iter    objective    inf_pr   inf_du lg(mu)  ||d||  lg(rg) alpha_du alpha_pr  ls\n",
            "  10  1.5915354e-01 3.70e-02 4.81e-04  -4.8 3.60e+02    -  2.92e-01 9.31e-01h  1\n",
            "  11  1.5897743e-01 3.39e-02 5.46e-05  -6.6 1.05e+02    -  8.94e-01 1.00e+00h  1\n",
            "  12  1.5897781e-01 2.27e-02 7.55e-05  -6.5 2.11e+02    -  9.02e-01 1.00e+00h  1\n",
            "  13  1.5897747e-01 6.56e-04 3.44e-06  -7.7 3.23e+01    -  9.39e-01 1.00e+00h  1\n",
            "  14  1.5897744e-01 1.53e-04 1.12e-06  -9.0 2.25e+01    -  9.74e-01 1.00e+00h  1\n",
            "  15  1.5897755e-01 2.65e-05 2.57e-07 -11.0 1.04e+01    -  9.87e-01 1.00e+00h  1\n",
            "  16  1.5897758e-01 2.81e-06 4.57e-06 -11.0 1.26e+01    -  5.78e-01 1.00e+00h  1\n",
            "  17  1.5897758e-01 5.26e-08 2.45e-06 -11.0 3.07e+01    -  5.35e-01 1.00e+00h  1\n",
            "  18  1.5897758e-01 3.51e-10 9.62e-07 -11.0 6.21e+01    -  6.15e-01 1.00e+00h  1\n",
            "\n",
            "Number of Iterations....: 18\n",
            "\n",
            "                                   (scaled)                 (unscaled)\n",
            "Objective...............:   1.5897758339902962e-01    1.5897758339902962e-01\n",
            "Dual infeasibility......:   9.6189358642302973e-07    9.6189358642302973e-07\n",
            "Constraint violation....:   3.5070968351647025e-10    3.5070968351647025e-10\n",
            "Complementarity.........:   1.4426145036850504e-09    1.4426145036850504e-09\n",
            "Overall NLP error.......:   9.6189358642302973e-07    9.6189358642302973e-07\n",
            "\n",
            "\n",
            "Number of objective function evaluations             = 19\n",
            "Number of objective gradient evaluations             = 19\n",
            "Number of equality constraint evaluations            = 19\n",
            "Number of inequality constraint evaluations          = 19\n",
            "Number of equality constraint Jacobian evaluations   = 19\n",
            "Number of inequality constraint Jacobian evaluations = 19\n",
            "Number of Lagrangian Hessian evaluations             = 18\n",
            "Total CPU secs in IPOPT (w/o function evaluations)   =      0.296\n",
            "Total CPU secs in NLP function evaluations           =      0.937\n",
            "\n",
            "EXIT: Optimal Solution Found.\n",
            " \n",
            " The solution was found.\n",
            " \n",
            " The final value of the objective function is   0.158977583399030     \n",
            " \n",
            " ---------------------------------------------------\n",
            " Solver         :  IPOPT (v3.12)\n",
            " Solution time  :    1.27920000000086      sec\n",
            " Objective      :   0.158977583399030     \n",
            " Successful solution\n",
            " ---------------------------------------------------\n",
            " \n",
            "/tmp/tmpsi9vaaq0gk_model2\n",
            "Objective = min x4(tf): 0.1589775834\n"
          ],
          "name": "stdout"
        },
        {
          "output_type": "display_data",
          "data": {
            "image/png": "[encoded data removed]",
            "text/plain": [
              "<Figure size 576x396 with 2 Axes>"
            ]
          },
          "metadata": {
            "tags": []
          }
        }
      ]
    },
    {
      "metadata": {
        "id": "FCfCV7PBj4Os",
        "colab_type": "code",
        "colab": {
          "base_uri": "https://localhost:8080/",
          "height": 336
        },
        "cellView": "form",
        "outputId": "b9f933cc-6957-4a45-ada4-83bafc90c5d9"
      },
      "cell_type": "code",
      "source": [
        "#@title\n",
        "%%html\n",
        "<iframe width=\"560\" height=\"315\" src=\"https://www.youtube.com/embed/dxC__nDnmCY\" frameborder=\"0\" allow=\"autoplay; encrypted-media\" allowfullscreen></iframe>\n"
      ],
      "execution_count": 8,
      "outputs": [
        {
          "output_type": "display_data",
          "data": {
            "text/html": [
              "<iframe width=\"560\" height=\"315\" src=\"https://www.youtube.com/embed/dxC__nDnmCY\" frameborder=\"0\" allow=\"autoplay; encrypted-media\" allowfullscreen></iframe>"
            ],
            "text/plain": [
              "<IPython.core.display.HTML object>"
            ]
          },
          "metadata": {
            "tags": []
          }
        }
      ]
    },
    {
      "metadata": {
        "id": "F9kCTIuzkYwI",
        "colab_type": "text"
      },
      "cell_type": "markdown",
      "source": [
        "##Example 3\n",
        "<ul><li>Tubular reactor with parallel reaction \n",
        "</li></ul><p class='vspace'>$$\\max_{u(t)} x_2 \\left( t_f \\right)$$\n",
        "$$\\mathrm{subject \\; to}$$\n",
        "$$\\frac{dx_1}{dt}=-\\left(u+0.5u^2\\right) x_1$$\n",
        "$$\\frac{dx_2}{dt}=u \\, x_1$$\n",
        "$$x(0) = [1 \\; 0]^T$$\n",
        "$$0 \\le u \\le 5$$\n",
        "$$t_f=1$$\n",
        "</p>\n",
        "<div class='vspace'></div><h4>Solution to Benchmark 3</h4>\n",
        "<div><img src='http://apmonitor.com/do/uploads/Main/download.png' alt='' title='' /> <a class='urllink' href='http://apmonitor.com/do/uploads/Main/dynamic_optimization_benchmark3.zip' rel='nofollow'>Dynamic Optimization Benchmark 3 in MATLAB and Python</a></div>\n",
        "<div class='vspace'></div>"
      ]
    },
    {
      "metadata": {
        "id": "l1NzYlWTkRmV",
        "colab_type": "code",
        "colab": {
          "base_uri": "https://localhost:8080/",
          "height": 336
        },
        "cellView": "form",
        "outputId": "fd37e3b0-b669-4ea8-d696-fb5e20c04cf6"
      },
      "cell_type": "code",
      "source": [
        "#@title\n",
        "%%html\n",
        "<iframe width=\"560\" height=\"315\" src=\"https://www.youtube.com/embed/sYBE3-PVS9g\" frameborder=\"0\" allowfullscreen></iframe>\n"
      ],
      "execution_count": 9,
      "outputs": [
        {
          "output_type": "display_data",
          "data": {
            "text/html": [
              "<iframe width=\"560\" height=\"315\" src=\"https://www.youtube.com/embed/sYBE3-PVS9g\" frameborder=\"0\" allowfullscreen></iframe>"
            ],
            "text/plain": [
              "<IPython.core.display.HTML object>"
            ]
          },
          "metadata": {
            "tags": []
          }
        }
      ]
    },
    {
      "metadata": {
        "id": "Pow-23MFkiPN",
        "colab_type": "code",
        "colab": {
          "base_uri": "https://localhost:8080/",
          "height": 2061
        },
        "cellView": "form",
        "outputId": "f521ad17-9ef9-4d5e-a946-f466b6a9d29c"
      },
      "cell_type": "code",
      "source": [
        "#@markdown ##Solution to 3 using GEKKO\n",
        "import numpy as np\n",
        "import matplotlib.pyplot as plt\n",
        "from gekko import GEKKO\n",
        "\n",
        "m = GEKKO()\n",
        "\n",
        "nt = 101\n",
        "m.time = np.linspace(0,1,nt)\n",
        "\n",
        "# Parameters\n",
        "u = m.MV(value=1,ub=5,lb=0)\n",
        "u.STATUS = 1\n",
        "\n",
        "# Variables\n",
        "x1 = m.Var(value=1)\n",
        "x2 = m.Var(value=0)\n",
        "\n",
        "p = np.zeros(nt)\n",
        "p[-1] = 1.0\n",
        "final = m.Param(value=p)\n",
        "\n",
        "# Equations\n",
        "m.Equation(x1.dt()==-(u+0.5*u**2)*x1)\n",
        "m.Equation(x2.dt()==u*x1)\n",
        "\n",
        "# Objective Function\n",
        "m.Obj(-x2*final)\n",
        "\n",
        "m.options.IMODE = 6\n",
        "m.solve()\n",
        "\n",
        "print('Objective: ' + str(x2[-1]))\n",
        "\n",
        "plt.figure(1)\n",
        "plt.plot(m.time,x1.value,'k:',LineWidth=2,label=r'$x_1$')\n",
        "plt.plot(m.time,x2.value,'b-',LineWidth=2,label=r'$x_2$')\n",
        "plt.plot(m.time,u.value,'r--',LineWidth=2,label=r'$u$')\n",
        "plt.legend(loc='best')\n",
        "plt.xlabel('Time')\n",
        "plt.ylabel('Value')\n",
        "plt.show()"
      ],
      "execution_count": 10,
      "outputs": [
        {
          "output_type": "stream",
          "text": [
            "apm 35.231.160.17_gk_model3 <br><pre> ----------------------------------------------------------------\n",
            " APMonitor, Version 0.8.7\n",
            " APMonitor Optimization Suite\n",
            " ----------------------------------------------------------------\n",
            " \n",
            " \n",
            " --------- APM Model Size ------------\n",
            " Each time step contains\n",
            "   Objects      :            0\n",
            "   Constants    :            0\n",
            "   Variables    :            4\n",
            "   Intermediates:            0\n",
            "   Connections  :            0\n",
            "   Equations    :            3\n",
            "   Residuals    :            3\n",
            " \n",
            " Number of state variables:            900\n",
            " Number of total equations: -          800\n",
            " Number of slack variables: -            0\n",
            " ---------------------------------------\n",
            " Degrees of freedom       :            100\n",
            " \n",
            " **********************************************\n",
            " Dynamic Control with Interior Point Solver\n",
            " **********************************************\n",
            "  \n",
            "  \n",
            " Info: Exact Hessian\n",
            "\n",
            "******************************************************************************\n",
            "This program contains Ipopt, a library for large-scale nonlinear optimization.\n",
            " Ipopt is released as open source code under the Eclipse Public License (EPL).\n",
            "         For more information visit http://projects.coin-or.org/Ipopt\n",
            "******************************************************************************\n",
            "\n",
            "This is Ipopt version 3.12.10, running with linear solver ma57.\n",
            "\n",
            "Number of nonzeros in equality constraint Jacobian...:     1697\n",
            "Number of nonzeros in inequality constraint Jacobian.:      400\n",
            "Number of nonzeros in Lagrangian Hessian.............:      200\n",
            "\n",
            "Total number of variables............................:      900\n",
            "                     variables with only lower bounds:      200\n",
            "                variables with lower and upper bounds:      100\n",
            "                     variables with only upper bounds:        0\n",
            "Total number of equality constraints.................:      600\n",
            "Total number of inequality constraints...............:      200\n",
            "        inequality constraints with only lower bounds:      200\n",
            "   inequality constraints with lower and upper bounds:        0\n",
            "        inequality constraints with only upper bounds:        0\n",
            "\n",
            "iter    objective    inf_pr   inf_du lg(mu)  ||d||  lg(rg) alpha_du alpha_pr  ls\n",
            "   0  1.1899988e-04 1.50e+00 1.00e+00   0.0 0.00e+00    -  0.00e+00 0.00e+00   0\n",
            "   1 -5.1701638e-01 4.89e-03 1.31e-02  -6.1 1.48e+00    -  9.87e-01 1.00e+00h  1\n",
            "   2 -5.2779622e-01 5.66e-03 1.75e-03  -8.0 1.81e-01    -  8.76e-01 1.00e+00h  1\n",
            "   3 -5.7161773e-01 1.51e-01 2.56e-03  -5.0 4.60e+00    -  2.68e-01 1.00e+00h  1\n",
            "   4 -5.6807974e-01 5.48e-02 9.18e-04  -4.7 1.15e+01    -  7.61e-01 1.00e+00h  1\n",
            "   5 -5.6924973e-01 3.85e-02 1.27e-03  -5.3 9.84e+00    -  7.19e-01 1.00e+00h  1\n",
            "   6 -5.6976316e-01 2.16e-02 4.68e-04  -6.0 7.26e+00    -  9.32e-01 1.00e+00h  1\n",
            "   7 -5.7025949e-01 7.49e-03 2.44e-04  -6.3 9.49e+00    -  9.91e-01 1.00e+00h  1\n",
            "   8 -5.7042169e-01 1.24e-03 6.51e-05  -6.7 1.05e+01    -  1.00e+00 1.00e+00h  1\n",
            "   9 -5.7046442e-01 1.67e-04 1.37e-05  -7.4 7.96e+00    -  1.00e+00 1.00e+00h  1\n",
            "iter    objective    inf_pr   inf_du lg(mu)  ||d||  lg(rg) alpha_du alpha_pr  ls\n",
            "  10 -5.7046892e-01 1.02e-05 1.44e-06  -8.0 3.83e+00    -  1.00e+00 1.00e+00h  1\n",
            "  11 -5.7047052e-01 4.81e-07 3.00e-08  -9.0 5.79e-01    -  1.00e+00 1.00e+00h  1\n",
            "\n",
            "Number of Iterations....: 11\n",
            "\n",
            "                                   (scaled)                 (unscaled)\n",
            "Objective...............:  -5.7047052014304167e-01   -5.7047052014304167e-01\n",
            "Dual infeasibility......:   2.9960342512458382e-08    2.9960342512458382e-08\n",
            "Constraint violation....:   4.8111105632742124e-07    4.8111105632742124e-07\n",
            "Complementarity.........:   6.6047396134936583e-09    6.6047396134936583e-09\n",
            "Overall NLP error.......:   4.8111105632742124e-07    4.8111105632742124e-07\n",
            "\n",
            "\n",
            "Number of objective function evaluations             = 12\n",
            "Number of objective gradient evaluations             = 12\n",
            "Number of equality constraint evaluations            = 12\n",
            "Number of inequality constraint evaluations          = 12\n",
            "Number of equality constraint Jacobian evaluations   = 12\n",
            "Number of inequality constraint Jacobian evaluations = 12\n",
            "Number of Lagrangian Hessian evaluations             = 11\n",
            "Total CPU secs in IPOPT (w/o function evaluations)   =      0.033\n",
            "Total CPU secs in NLP function evaluations           =      0.095\n",
            "\n",
            "EXIT: Optimal Solution Found.\n",
            " \n",
            " The solution was found.\n",
            " \n",
            " The final value of the objective function is  -0.570470520143042     \n",
            " \n",
            " ---------------------------------------------------\n",
            " Solver         :  IPOPT (v3.12)\n",
            " Solution time  :   0.141800000001240      sec\n",
            " Objective      :  -0.570470520143042     \n",
            " Successful solution\n",
            " ---------------------------------------------------\n",
            " \n",
            "Objective: 0.57085514067\n"
          ],
          "name": "stdout"
        },
        {
          "output_type": "display_data",
          "data": {
            "image/png": "[encoded data removed]",
            "text/plain": [
              "<Figure size 576x396 with 1 Axes>"
            ]
          },
          "metadata": {
            "tags": []
          }
        }
      ]
    },
    {
      "metadata": {
        "id": "ADiBhovpksJU",
        "colab_type": "code",
        "colab": {
          "base_uri": "https://localhost:8080/",
          "height": 336
        },
        "cellView": "form",
        "outputId": "6c135393-7fd9-4984-ae50-1e6d246670c4"
      },
      "cell_type": "code",
      "source": [
        "#@title\n",
        "%%html\n",
        "<iframe width=\"560\" height=\"315\" src=\"https://www.youtube.com/embed/mdefRrGarP0\" frameborder=\"0\" allow=\"autoplay; encrypted-media\" allowfullscreen></iframe>\n"
      ],
      "execution_count": 11,
      "outputs": [
        {
          "output_type": "display_data",
          "data": {
            "text/html": [
              "<iframe width=\"560\" height=\"315\" src=\"https://www.youtube.com/embed/mdefRrGarP0\" frameborder=\"0\" allow=\"autoplay; encrypted-media\" allowfullscreen></iframe>"
            ],
            "text/plain": [
              "<IPython.core.display.HTML object>"
            ]
          },
          "metadata": {
            "tags": []
          }
        }
      ]
    },
    {
      "metadata": {
        "id": "0kFqBG90k58z",
        "colab_type": "text"
      },
      "cell_type": "markdown",
      "source": [
        "##Example 4</h4>\n",
        "<ul><li>Batch reactor with consecutive reactions A-&gt;B-&gt;C \n",
        "</li></ul><p class='vspace'>$$\\max_{T(t)} x_2 \\left( t_f \\right)$$\n",
        "$$\\mathrm{subject \\; to}$$\n",
        "$$\\frac{dx_1}{dt}=-k_1 \\, x_1^2$$\n",
        "$$\\frac{dx_2}{dt}=k_1 \\, x_1^2 - k_2 \\, x_2$$\n",
        "$$k_1 = 4000 \\, \\exp{\\left(-\\frac{2500}{T}\\right)}$$\n",
        "$$k_2 = 6.2e5 \\, \\exp{\\left(-\\frac{5000}{T}\\right)}$$\n",
        "$$x(0) = [1 \\; 0]^T$$\n",
        "$$298 \\le T \\le 398$$\n",
        "$$t_f=1$$\n",
        "</p>\n",
        "<div class='vspace'></div><h4>Solution to Benchmark 4</h4>\n",
        "<div><img src='http://apmonitor.com/do/uploads/Main/download.png' alt='' title='' /> <a class='urllink' href='http://apmonitor.com/do/uploads/Main/dynamic_optimization_benchmark4.zip' rel='nofollow'>Dynamic Optimization Benchmark 4 in MATLAB and Python</a></div>"
      ]
    },
    {
      "metadata": {
        "id": "FVCwYZR8k0hc",
        "colab_type": "code",
        "colab": {
          "base_uri": "https://localhost:8080/",
          "height": 336
        },
        "cellView": "form",
        "outputId": "f52d338a-7808-43fa-b7bd-e9199379f67f"
      },
      "cell_type": "code",
      "source": [
        "#@title\n",
        "%%html\n",
        "<iframe width=\"560\" height=\"315\" src=\"https://www.youtube.com/embed/yFprG0iJQUE\" frameborder=\"0\" allowfullscreen></iframe>\n"
      ],
      "execution_count": 12,
      "outputs": [
        {
          "output_type": "display_data",
          "data": {
            "text/html": [
              "<iframe width=\"560\" height=\"315\" src=\"https://www.youtube.com/embed/yFprG0iJQUE\" frameborder=\"0\" allowfullscreen></iframe>"
            ],
            "text/plain": [
              "<IPython.core.display.HTML object>"
            ]
          },
          "metadata": {
            "tags": []
          }
        }
      ]
    },
    {
      "metadata": {
        "id": "xdcKw0NflCpt",
        "colab_type": "code",
        "colab": {
          "base_uri": "https://localhost:8080/",
          "height": 2044
        },
        "cellView": "form",
        "outputId": "724ffc2c-355e-48f4-f7a7-12a92ee408e8"
      },
      "cell_type": "code",
      "source": [
        "#@markdown ##Solution to 4 using GEKKO\n",
        "import numpy as np\n",
        "import matplotlib.pyplot as plt\n",
        "from gekko import GEKKO\n",
        "\n",
        "m = GEKKO()\n",
        "\n",
        "nt = 101\n",
        "m.time = np.linspace(0,1,nt)\n",
        "\n",
        "# Parameters\n",
        "T = m.MV(value=362,ub=398,lb=298)\n",
        "T.STATUS = 1\n",
        "T.DCOST = 0\n",
        "\n",
        "# Variables\n",
        "x1 = m.Var(value=1)\n",
        "x2 = m.Var(value=0)\n",
        "\n",
        "p = np.zeros(nt)\n",
        "p[-1] = 1.0\n",
        "final = m.Param(value=p)\n",
        "\n",
        "# Intermediates\n",
        "k1 = m.Intermediate(4000*m.exp(-2500/T))\n",
        "k2 = m.Intermediate(6.2e5*m.exp(-5000/T))\n",
        "\n",
        "# Equations\n",
        "m.Equation(x1.dt()==-k1*x1**2)\n",
        "m.Equation(x2.dt()==k1*x1**2 - k2*x2)\n",
        "\n",
        "# Objective Function\n",
        "m.Obj(-x2*final)\n",
        "\n",
        "m.options.IMODE = 6\n",
        "m.solve()\n",
        "\n",
        "print('Objective: ' + str(x2[-1]))\n",
        "\n",
        "plt.figure(1)\n",
        "\n",
        "plt.subplot(2,1,1)\n",
        "plt.plot(m.time,x1.value,'k:',LineWidth=2,label=r'$x_1$')\n",
        "plt.plot(m.time,x2.value,'b-',LineWidth=2,label=r'$x_2$')\n",
        "plt.ylabel('Value')\n",
        "plt.legend(loc='best')\n",
        "\n",
        "plt.subplot(2,1,2)\n",
        "plt.plot(m.time,T.value,'r--',LineWidth=2,label=r'$T$')\n",
        "plt.legend(loc='best')\n",
        "plt.xlabel('Time')\n",
        "plt.ylabel('Value')\n",
        "\n",
        "plt.show()"
      ],
      "execution_count": 13,
      "outputs": [
        {
          "output_type": "stream",
          "text": [
            "apm 35.231.160.17_gk_model4 <br><pre> ----------------------------------------------------------------\n",
            " APMonitor, Version 0.8.7\n",
            " APMonitor Optimization Suite\n",
            " ----------------------------------------------------------------\n",
            " \n",
            " \n",
            " --------- APM Model Size ------------\n",
            " Each time step contains\n",
            "   Objects      :            0\n",
            "   Constants    :            0\n",
            "   Variables    :            4\n",
            "   Intermediates:            2\n",
            "   Connections  :            0\n",
            "   Equations    :            5\n",
            "   Residuals    :            3\n",
            " \n",
            " Number of state variables:            900\n",
            " Number of total equations: -          800\n",
            " Number of slack variables: -            0\n",
            " ---------------------------------------\n",
            " Degrees of freedom       :            100\n",
            " \n",
            " **********************************************\n",
            " Dynamic Control with Interior Point Solver\n",
            " **********************************************\n",
            "  \n",
            "  \n",
            " Info: Exact Hessian\n",
            "\n",
            "******************************************************************************\n",
            "This program contains Ipopt, a library for large-scale nonlinear optimization.\n",
            " Ipopt is released as open source code under the Eclipse Public License (EPL).\n",
            "         For more information visit http://projects.coin-or.org/Ipopt\n",
            "******************************************************************************\n",
            "\n",
            "This is Ipopt version 3.12.10, running with linear solver ma57.\n",
            "\n",
            "Number of nonzeros in equality constraint Jacobian...:     1797\n",
            "Number of nonzeros in inequality constraint Jacobian.:      400\n",
            "Number of nonzeros in Lagrangian Hessian.............:      400\n",
            "\n",
            "Total number of variables............................:      900\n",
            "                     variables with only lower bounds:      200\n",
            "                variables with lower and upper bounds:      100\n",
            "                     variables with only upper bounds:        0\n",
            "Total number of equality constraints.................:      600\n",
            "Total number of inequality constraints...............:      200\n",
            "        inequality constraints with only lower bounds:      200\n",
            "   inequality constraints with lower and upper bounds:        0\n",
            "        inequality constraints with only upper bounds:        0\n",
            "\n",
            "iter    objective    inf_pr   inf_du lg(mu)  ||d||  lg(rg) alpha_du alpha_pr  ls\n",
            "   0  0.0000000e+00 4.01e+00 1.00e+00   0.0 0.00e+00    -  0.00e+00 0.00e+00   0\n",
            "   1 -2.9131768e-01 1.00e+00 5.65e-02  -7.3 3.71e+00    -  9.88e-01 1.00e+00h  1\n",
            "   2 -4.5638571e-01 2.26e-01 1.39e-02  -9.2 5.76e-01    -  7.46e-01 1.00e+00h  1\n",
            "   3 -7.0614122e-01 1.98e-01 3.85e-03  -3.5 3.46e+02    -  9.30e-01 1.00e+00h  1\n",
            "   4 -6.0606398e-01 1.96e-03 5.75e-04  -5.0 7.53e+01    -  8.73e-01 1.00e+00h  1\n",
            "   5 -6.0829401e-01 1.69e-02 6.14e-04  -4.8 6.05e+02    -  4.58e-01 1.00e+00h  1\n",
            "   6 -6.0784729e-01 1.52e-02 1.50e-04  -6.8 6.29e+02    -  7.51e-01 1.00e+00h  1\n",
            "   7 -6.0758367e-01 2.69e-02 3.18e-04  -5.5 8.35e+02    -  6.63e-01 1.00e+00h  1\n",
            "   8 -6.0755225e-01 3.51e-03 4.82e-05  -6.1 5.42e+02    -  8.50e-01 1.00e+00h  1\n",
            "   9 -6.0754224e-01 8.16e-05 1.77e-06  -7.4 4.90e+01    -  9.54e-01 1.00e+00h  1\n",
            "iter    objective    inf_pr   inf_du lg(mu)  ||d||  lg(rg) alpha_du alpha_pr  ls\n",
            "  10 -6.0754208e-01 1.78e-07 1.61e-08 -11.0 2.99e+00    -  9.94e-01 1.00e+00h  1\n",
            "\n",
            "Number of Iterations....: 10\n",
            "\n",
            "                                   (scaled)                 (unscaled)\n",
            "Objective...............:  -6.0754208223533657e-01   -6.0754208223533657e-01\n",
            "Dual infeasibility......:   1.6055698854822320e-08    1.6055698854822320e-08\n",
            "Constraint violation....:   1.7804393648290784e-07    1.7804393648290784e-07\n",
            "Complementarity.........:   6.8783198848595401e-10    6.8783198848595401e-10\n",
            "Overall NLP error.......:   1.7804393648290784e-07    1.7804393648290784e-07\n",
            "\n",
            "\n",
            "Number of objective function evaluations             = 11\n",
            "Number of objective gradient evaluations             = 11\n",
            "Number of equality constraint evaluations            = 11\n",
            "Number of inequality constraint evaluations          = 11\n",
            "Number of equality constraint Jacobian evaluations   = 11\n",
            "Number of inequality constraint Jacobian evaluations = 11\n",
            "Number of Lagrangian Hessian evaluations             = 10\n",
            "Total CPU secs in IPOPT (w/o function evaluations)   =      0.032\n",
            "Total CPU secs in NLP function evaluations           =      0.141\n",
            "\n",
            "EXIT: Optimal Solution Found.\n",
            " \n",
            " The solution was found.\n",
            " \n",
            " The final value of the objective function is  -0.607542082235337     \n",
            " \n",
            " ---------------------------------------------------\n",
            " Solver         :  IPOPT (v3.12)\n",
            " Solution time  :   0.185799999999290      sec\n",
            " Objective      :  -0.607542082235337     \n",
            " Successful solution\n",
            " ---------------------------------------------------\n",
            " \n",
            "Objective: 0.60754208224\n"
          ],
          "name": "stdout"
        },
        {
          "output_type": "display_data",
          "data": {
            "image/png": "[encoded data removed]",
            "text/plain": [
              "<Figure size 576x396 with 2 Axes>"
            ]
          },
          "metadata": {
            "tags": []
          }
        }
      ]
    },
    {
      "metadata": {
        "id": "hC8AZa3LlPKl",
        "colab_type": "code",
        "colab": {
          "base_uri": "https://localhost:8080/",
          "height": 336
        },
        "cellView": "form",
        "outputId": "a5bd8de9-e373-41c8-b08a-406ce9a10436"
      },
      "cell_type": "code",
      "source": [
        "#@title\n",
        "%%html\n",
        "<iframe width=\"560\" height=\"315\" src=\"https://www.youtube.com/embed/gptRJ5x7Ybs\" frameborder=\"0\" allow=\"autoplay; encrypted-media\" allowfullscreen></iframe>\n"
      ],
      "execution_count": 14,
      "outputs": [
        {
          "output_type": "display_data",
          "data": {
            "text/html": [
              "<iframe width=\"560\" height=\"315\" src=\"https://www.youtube.com/embed/gptRJ5x7Ybs\" frameborder=\"0\" allow=\"autoplay; encrypted-media\" allowfullscreen></iframe>"
            ],
            "text/plain": [
              "<IPython.core.display.HTML object>"
            ]
          },
          "metadata": {
            "tags": []
          }
        }
      ]
    },
    {
      "metadata": {
        "id": "kIL9JUgmmCG8",
        "colab_type": "text"
      },
      "cell_type": "markdown",
      "source": [
        "##Example 5\n",
        "<ul><li>Catalytic reactor with A&lt;-&gt;B-&gt;C\n",
        "</li></ul><p class='vspace'>$$\\max_{u(t)} \\left(1 - x_1 \\left( t_f \\right) - x_2 \\left( t_f \\right) \\right)$$\n",
        "$$\\mathrm{subject \\; to}$$\n",
        "$$\\frac{dx_1}{dt}=u \\left(10 \\, x_2 - x_1 \\right)$$\n",
        "$$\\frac{dx_2}{dt}=-u \\left(10 \\, x_2 - x_1 \\right)-\\left(1-u\\right) x_2$$\n",
        "$$x(0) = [1 \\; 0]^T$$\n",
        "$$0 \\le u \\le 1$$\n",
        "$$t_f=12$$\n",
        "</p>\n",
        "<div class='vspace'></div><h4>Solution to Benchmark 5</h4>\n",
        "<div><img src='http://apmonitor.com/do/uploads/Main/download.png' alt='' title='' /> <a class='urllink' href='http://apmonitor.com/do/uploads/Main/dynamic_optimization_benchmark5.zip' rel='nofollow'>Dynamic Optimization Benchmark 5 in MATLAB and Python</a></div>"
      ]
    },
    {
      "metadata": {
        "id": "neE2PSxXl-H1",
        "colab_type": "code",
        "colab": {
          "base_uri": "https://localhost:8080/",
          "height": 336
        },
        "cellView": "form",
        "outputId": "9ac74112-033e-4d12-df57-09e428d59af1"
      },
      "cell_type": "code",
      "source": [
        "#@title\n",
        "%%html\n",
        "<iframe width=\"560\" height=\"315\" src=\"https://www.youtube.com/embed/YBlOF9ATaHI\" frameborder=\"0\" allowfullscreen></iframe>\n"
      ],
      "execution_count": 15,
      "outputs": [
        {
          "output_type": "display_data",
          "data": {
            "text/html": [
              "<iframe width=\"560\" height=\"315\" src=\"https://www.youtube.com/embed/YBlOF9ATaHI\" frameborder=\"0\" allowfullscreen></iframe>"
            ],
            "text/plain": [
              "<IPython.core.display.HTML object>"
            ]
          },
          "metadata": {
            "tags": []
          }
        }
      ]
    },
    {
      "metadata": {
        "id": "rhalidppmIT2",
        "colab_type": "code",
        "colab": {
          "base_uri": "https://localhost:8080/",
          "height": 2061
        },
        "cellView": "form",
        "outputId": "6c405fa4-2402-401c-98cc-67d4b873f00e"
      },
      "cell_type": "code",
      "source": [
        "#@markdown ##Solution to 5 using GEKKO\n",
        "import numpy as np\n",
        "import matplotlib.pyplot as plt\n",
        "from gekko import GEKKO\n",
        "\n",
        "m = GEKKO()\n",
        "\n",
        "nt = 101\n",
        "m.time = np.linspace(0,12,nt)\n",
        "\n",
        "# Parameters\n",
        "u = m.MV(value=1,ub=1,lb=0)\n",
        "u.STATUS = 1\n",
        "u.DCOST = 0\n",
        "\n",
        "# Variables\n",
        "x1 = m.Var(value=1)\n",
        "x2 = m.Var(value=0)\n",
        "\n",
        "p = np.zeros(nt)\n",
        "p[-1] = 1.0\n",
        "final = m.Param(value=p)\n",
        "\n",
        "# Equations\n",
        "m.Equation(x1.dt()==u*(10*x2-x1))\n",
        "m.Equation(x2.dt()==-u*(10*x2-x1)-(1-u)*x2)\n",
        "\n",
        "# Objective Function\n",
        "m.Obj(-final*(1-x1-x2))\n",
        "\n",
        "m.options.IMODE = 6\n",
        "m.solve()\n",
        "\n",
        "print('Objective: ' + str(1-x1[-1]-x2[-1]))\n",
        "\n",
        "plt.figure(1)\n",
        "\n",
        "plt.subplot(2,1,1)\n",
        "plt.plot(m.time,x1.value,'k:',LineWidth=2,label=r'$x_1$')\n",
        "plt.plot(m.time,x2.value,'b-',LineWidth=2,label=r'$x_2$')\n",
        "plt.ylabel('Value')\n",
        "plt.legend(loc='best')\n",
        "\n",
        "plt.subplot(2,1,2)\n",
        "plt.plot(m.time,u.value,'r-',LineWidth=2,label=r'$u$')\n",
        "plt.legend(loc='best')\n",
        "plt.xlabel('Time')\n",
        "plt.ylabel('Value')\n",
        "\n",
        "plt.show()"
      ],
      "execution_count": 16,
      "outputs": [
        {
          "output_type": "stream",
          "text": [
            "apm 35.231.160.17_gk_model5 <br><pre> ----------------------------------------------------------------\n",
            " APMonitor, Version 0.8.7\n",
            " APMonitor Optimization Suite\n",
            " ----------------------------------------------------------------\n",
            " \n",
            " \n",
            " --------- APM Model Size ------------\n",
            " Each time step contains\n",
            "   Objects      :            0\n",
            "   Constants    :            0\n",
            "   Variables    :            4\n",
            "   Intermediates:            0\n",
            "   Connections  :            0\n",
            "   Equations    :            3\n",
            "   Residuals    :            3\n",
            " \n",
            " Number of state variables:            900\n",
            " Number of total equations: -          800\n",
            " Number of slack variables: -            0\n",
            " ---------------------------------------\n",
            " Degrees of freedom       :            100\n",
            " \n",
            " **********************************************\n",
            " Dynamic Control with Interior Point Solver\n",
            " **********************************************\n",
            "  \n",
            "  \n",
            " Info: Exact Hessian\n",
            "\n",
            "******************************************************************************\n",
            "This program contains Ipopt, a library for large-scale nonlinear optimization.\n",
            " Ipopt is released as open source code under the Eclipse Public License (EPL).\n",
            "         For more information visit http://projects.coin-or.org/Ipopt\n",
            "******************************************************************************\n",
            "\n",
            "This is Ipopt version 3.12.10, running with linear solver ma57.\n",
            "\n",
            "Number of nonzeros in equality constraint Jacobian...:     1897\n",
            "Number of nonzeros in inequality constraint Jacobian.:      400\n",
            "Number of nonzeros in Lagrangian Hessian.............:      200\n",
            "\n",
            "Total number of variables............................:      900\n",
            "                     variables with only lower bounds:      200\n",
            "                variables with lower and upper bounds:      100\n",
            "                     variables with only upper bounds:        0\n",
            "Total number of equality constraints.................:      600\n",
            "Total number of inequality constraints...............:      200\n",
            "        inequality constraints with only lower bounds:      200\n",
            "   inequality constraints with lower and upper bounds:        0\n",
            "        inequality constraints with only upper bounds:        0\n",
            "\n",
            "iter    objective    inf_pr   inf_du lg(mu)  ||d||  lg(rg) alpha_du alpha_pr  ls\n",
            "   0  0.0000000e+00 9.90e-01 1.00e+00   0.0 0.00e+00    -  0.00e+00 0.00e+00   0\n",
            "   1 -1.0757282e-02 2.14e-03 3.22e-01  -6.8 4.31e-01    -  7.55e-01 1.00e+00h  1\n",
            "   2 -1.1303691e-02 2.37e-07 2.53e-02  -7.4 1.04e-03    -  9.47e-01 1.00e+00h  1\n",
            "   3 -1.9157949e-01 2.53e-03 3.89e-02  -3.5 2.70e-01    -  2.86e-01 1.00e+00f  1\n",
            "   4 -5.0159531e-01 1.81e-02 2.21e-02  -3.7 7.08e-01    -  5.21e-01 1.00e+00h  1\n",
            "   5 -4.8879425e-01 2.38e-02 1.26e-02  -3.6 1.11e+00    -  7.62e-01 1.00e+00h  1\n",
            "   6 -4.7992153e-01 6.12e-03 3.91e-03  -5.0 3.64e-01    -  8.80e-01 1.00e+00h  1\n",
            "   7 -4.7494411e-01 2.51e-03 1.10e-03  -6.3 6.33e-01    -  8.71e-01 1.00e+00h  1\n",
            "   8 -4.7479697e-01 4.05e-04 2.85e-04  -7.2 1.73e-01    -  9.68e-01 1.00e+00h  1\n",
            "   9 -4.7480051e-01 7.12e-05 5.68e-05  -8.3 1.14e-01    -  9.69e-01 1.00e+00h  1\n",
            "iter    objective    inf_pr   inf_du lg(mu)  ||d||  lg(rg) alpha_du alpha_pr  ls\n",
            "  10 -4.7480158e-01 3.69e-06 3.73e-06 -11.0 2.84e-02    -  9.89e-01 1.00e+00h  1\n",
            "  11 -4.7480169e-01 1.40e-08 4.23e-07 -11.0 5.77e-02    -  8.81e-01 1.00e+00h  1\n",
            "\n",
            "Number of Iterations....: 11\n",
            "\n",
            "                                   (scaled)                 (unscaled)\n",
            "Objective...............:  -4.7480168945880263e-01   -4.7480168945880263e-01\n",
            "Dual infeasibility......:   4.2296431618059320e-07    4.2296431618059320e-07\n",
            "Constraint violation....:   1.4024247092438548e-08    1.4024247092438548e-08\n",
            "Complementarity.........:   3.4281070930110132e-09    3.4281070930110132e-09\n",
            "Overall NLP error.......:   4.2296431618059320e-07    4.2296431618059320e-07\n",
            "\n",
            "\n",
            "Number of objective function evaluations             = 12\n",
            "Number of objective gradient evaluations             = 12\n",
            "Number of equality constraint evaluations            = 12\n",
            "Number of inequality constraint evaluations          = 12\n",
            "Number of equality constraint Jacobian evaluations   = 12\n",
            "Number of inequality constraint Jacobian evaluations = 12\n",
            "Number of Lagrangian Hessian evaluations             = 11\n",
            "Total CPU secs in IPOPT (w/o function evaluations)   =      0.030\n",
            "Total CPU secs in NLP function evaluations           =      0.124\n",
            "\n",
            "EXIT: Optimal Solution Found.\n",
            " \n",
            " The solution was found.\n",
            " \n",
            " The final value of the objective function is  -0.474801689458803     \n",
            " \n",
            " ---------------------------------------------------\n",
            " Solver         :  IPOPT (v3.12)\n",
            " Solution time  :   0.171000000002095      sec\n",
            " Objective      :  -0.474801689458803     \n",
            " Successful solution\n",
            " ---------------------------------------------------\n",
            " \n",
            "Objective: 0.4748016894560001\n"
          ],
          "name": "stdout"
        },
        {
          "output_type": "display_data",
          "data": {
            "image/png": "[encoded data removed]",
            "text/plain": [
              "<Figure size 576x396 with 2 Axes>"
            ]
          },
          "metadata": {
            "tags": []
          }
        }
      ]
    },
    {
      "metadata": {
        "id": "8QoLa3w1mZUw",
        "colab_type": "code",
        "colab": {
          "base_uri": "https://localhost:8080/",
          "height": 336
        },
        "cellView": "form",
        "outputId": "1d63b05b-877a-46c4-f14c-d94b84290c1c"
      },
      "cell_type": "code",
      "source": [
        "#@title\n",
        "%%html\n",
        "<iframe width=\"560\" height=\"315\" src=\"https://www.youtube.com/embed/r42PEsh5Nxg\" frameborder=\"0\" allow=\"autoplay; encrypted-media\" allowfullscreen></iframe>\n"
      ],
      "execution_count": 17,
      "outputs": [
        {
          "output_type": "display_data",
          "data": {
            "text/html": [
              "<iframe width=\"560\" height=\"315\" src=\"https://www.youtube.com/embed/r42PEsh5Nxg\" frameborder=\"0\" allow=\"autoplay; encrypted-media\" allowfullscreen></iframe>"
            ],
            "text/plain": [
              "<IPython.core.display.HTML object>"
            ]
          },
          "metadata": {
            "tags": []
          }
        }
      ]
    },
    {
      "metadata": {
        "id": "K2oeZvM0mjff",
        "colab_type": "code",
        "colab": {}
      },
      "cell_type": "code",
      "source": [
        ""
      ],
      "execution_count": 0,
      "outputs": []
    }
  ]
}