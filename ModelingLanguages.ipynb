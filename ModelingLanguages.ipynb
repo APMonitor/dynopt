{
  "nbformat": 4,
  "nbformat_minor": 0,
  "metadata": {
    "colab": {
      "name": "ModelingLanguages.ipynb",
      "version": "0.3.2",
      "provenance": [],
      "collapsed_sections": [],
      "toc_visible": true,
      "include_colab_link": true
    },
    "kernelspec": {
      "name": "python3",
      "display_name": "Python 3"
    }
  },
  "cells": [
    {
      "cell_type": "markdown",
      "metadata": {
        "id": "view-in-github",
        "colab_type": "text"
      },
      "source": [
        "<a href=\"https://colab.research.google.com/github/misbahsy/APMonitor-do/blob/master/ModelingLanguages.ipynb\" target=\"_parent\"><img src=\"https://colab.research.google.com/assets/colab-badge.svg\" alt=\"Open In Colab\"/></a>"
      ]
    },
    {
      "metadata": {
        "id": "q4x1yfS8k3pZ",
        "colab_type": "text"
      },
      "cell_type": "markdown",
      "source": [
        "#Dynamic Optimization Basics\n",
        "\n",
        "Two tools used in this course are MATLAB and Python. APMonitor is used as a toolbox in MATLAB or as a package within Python to provide support for solution of dynamic simulation, estimation, and control.\n",
        "\n",
        "There are many tools for simulation and optimization of dynamic systems. There are also many factors to consider when selecting the appropriate tool for a particular task. Some of the considerations for a dynamic optimization tool are size (scaling with number equations and degrees of freedom), speed (use in real-time estimation or control), usability (training requirements and ease of adaptation), extensibility (ability to modify for new or complex systems), support (commercial sustainment or open-source community), and portability (ability to embed on a system or communicate with a particular platform).\n",
        "\n",
        "The objective of this section is to introduce MATLAB and Python. This is not intended to be a general tutorial but more specifically to cover topics that are relevant for dynamic optimization. Topics of interest for dynamic optimization are listed below.\n",
        "\n"
      ]
    },
    {
      "metadata": {
        "id": "PivJKDCECuha",
        "colab_type": "text"
      },
      "cell_type": "markdown",
      "source": [
        "##Introduction to Programming Languages\n",
        "\n",
        "<p>Many programming languages can be used in this course with <a class='urllink' href='https://youtu.be/t84YMw8p34w' rel='nofollow'>examples in both MATLAB and Python programming languages</a>. There are many resources to <a class='urllink' href='https://www.mathworks.com/help/matlab/getting-started-with-matlab.html' rel='nofollow'>get started in MATLAB</a> or <a class='urllink' href='https://www.python.org/about/gettingstarted/' rel='nofollow'>get started with Python</a>. There are also excellent resources for experienced MATLAB programmers who would like to learn Python such as <a class='urllink' href='https://wiki.scipy.org/NumPy_for_Matlab_Users' rel='nofollow'>Numpy for Matlab Users</a>. Introductory material on programming with MATLAB or Python is in the <a class='urllink' href='https://apmonitor.com/che263' rel='nofollow'>Computational Tools Course</a>.\n",
        "</p>"
      ]
    },
    {
      "metadata": {
        "id": "k_Ofcik9C3ln",
        "colab_type": "text"
      },
      "cell_type": "markdown",
      "source": [
        "##Introduction to Nonlinear Optimization</h3>\n",
        "\n",
        "<p>This course uses principles from nonlinear programming but does not delve into the details of solution strategies. Instead of detailing how a nonlinear programming solver iterates to find a solution, this course focuses on formulating problems and the use of differential constraints in describing and optimizing dynamic systems. For more background on how nonlinear programming solvers work, refer to the <a class='urllink' href='https://apmonitor.com/me575' rel='nofollow'>Course on Optimization</a> and the associated online <a class='urllink' href='https://apmonitor.com/me575/index.php/Main/BookChapters' rel='nofollow'>Design Optimization Textbook</a>. A good illustrative example is the <a class='urllink' href='https://apmonitor.com/me575/index.php/Main/BookChapters' rel='nofollow'>Two Bar Truss</a> optimization or the example below.\n",
        "</p>\n",
        "<div class='vspace'></div>"
      ]
    },
    {
      "metadata": {
        "id": "7lK-4MYJpYys",
        "colab_type": "code",
        "cellView": "form",
        "outputId": "90dd4221-290a-4d27-9973-2a73107370a5",
        "colab": {
          "base_uri": "https://localhost:8080/",
          "height": 335
        }
      },
      "cell_type": "code",
      "source": [
        "#@title\n",
        "%%html\n",
        "<iframe width=\"560\" height=\"315\" src=\"https://www.youtube.com/embed/9F3Dwgo34Lc\" frameborder=\"0\" allowfullscreen></iframe>\n",
        "<div class='vspace'></div>"
      ],
      "execution_count": 5,
      "outputs": [
        {
          "output_type": "display_data",
          "data": {
            "text/html": [
              "<iframe width=\"560\" height=\"315\" src=\"https://www.youtube.com/embed/9F3Dwgo34Lc\" frameborder=\"0\" allowfullscreen></iframe>\n",
              "<div class='vspace'></div>"
            ],
            "text/plain": [
              "<IPython.core.display.HTML object>"
            ]
          },
          "metadata": {
            "tags": []
          }
        }
      ]
    },
    {
      "metadata": {
        "id": "luG-nsNZhakS",
        "colab_type": "text"
      },
      "cell_type": "markdown",
      "source": [
        "##GEKKO (Python)\n",
        "\n",
        "<p>GEKKO Python is designed for large-scale optimization and accesses solvers of constrained, unconstrained, continuous, and discrete problems. Problems in linear programming, quadratic programming, integer programming, nonlinear optimization, systems of dynamic nonlinear equations, and multi-objective optimization can be solved. The platform can find optimal solutions, perform tradeoff analyses, balance multiple design alternatives, and incorporate optimization methods into external modeling and analysis software. It is free for academic and commercial use under the MIT license.\n",
        "</p>\n",
        "<div class='vspace'></div><div><img width='300px' src='http://apmonitor.com/do/uploads/Main/gekko.png' alt='' title='' /></div>\n",
        "<p class='vspace'>The GEKKO package is available through the package manager <strong>pip</strong> in Python.\n",
        "</p>\n",
        "<div class='vspace'></div>\n",
        "<div class='sourceblock ' id='sourceblock1'>\n",
        "  <div class='sourceblocktext'><div class=\"python\">python -m pip install gekko</div></div>\n",
        "\n",
        "<p class='vspace'><a class='urllink' href='https://apmonitor.com/wiki/index.php/Main/GekkoPythonOptimization' rel='nofollow'>View Source for 18 GEKKO Example Solutions</a>\n",
        "</p>\n",
        "  \n",
        "  \n",
        "  <div class='vspace'></div>"
      ]
    },
    {
      "metadata": {
        "id": "bT0u_ffHh3bV",
        "colab_type": "code",
        "colab": {}
      },
      "cell_type": "code",
      "source": [
        "#Below is code cell to load GEKKO in colab\n",
        "!python -m pip install gekko"
      ],
      "execution_count": 0,
      "outputs": []
    },
    {
      "metadata": {
        "id": "0BWhz4SxiNdD",
        "colab_type": "text"
      },
      "cell_type": "markdown",
      "source": [
        "<div class='vspace'></div>\n",
        "Most of the GEKKO code in Colab notebooks is started with the code block below to ensure GEKKO installation\n",
        "<div class='vspace'></div>"
      ]
    },
    {
      "metadata": {
        "id": "U13RqbG_h0ac",
        "colab_type": "code",
        "colab": {}
      },
      "cell_type": "code",
      "source": [
        "try:\n",
        "    from pip import main as pipmain\n",
        "except:\n",
        "    from pip._internal import main as pipmain\n",
        "pipmain(['install','gekko'])"
      ],
      "execution_count": 0,
      "outputs": []
    },
    {
      "metadata": {
        "id": "EQ8IsOFkibyz",
        "colab_type": "code",
        "colab": {
          "base_uri": "https://localhost:8080/",
          "height": 335
        },
        "cellView": "form",
        "outputId": "8e3036e3-d384-4ad7-ab5b-6831bb41205c"
      },
      "cell_type": "code",
      "source": [
        "#@title\n",
        "%%html\n",
        "<iframe width=\"560\" height=\"315\" src=\"https://www.youtube.com/embed/videoseries?list=PLLBUgWXdTBDjxcpH9hRuq-bsm_ti2UvoB&amp;hl=en_US\" frameborder=\"0\" allowfullscreen></iframe>\n"
      ],
      "execution_count": 4,
      "outputs": [
        {
          "output_type": "display_data",
          "data": {
            "text/html": [
              "<iframe width=\"560\" height=\"315\" src=\"https://www.youtube.com/embed/videoseries?list=PLLBUgWXdTBDjxcpH9hRuq-bsm_ti2UvoB&amp;hl=en_US\" frameborder=\"0\" allowfullscreen></iframe>"
            ],
            "text/plain": [
              "<IPython.core.display.HTML object>"
            ]
          },
          "metadata": {
            "tags": []
          }
        }
      ]
    },
    {
      "metadata": {
        "id": "QNjVvR8NC_1X",
        "colab_type": "text"
      },
      "cell_type": "markdown",
      "source": [
        "##APMonitor (MATLAB and Python)\n",
        "\n",
        "\n",
        "<p>APMonitor is a tool for nonlinear optimization and dynamic optimization. Source files are available for <a class='urllink' href='https://apmonitor.com/wiki/index.php/Main/JuliaOpt' rel='nofollow'>Julia</a>, <a class='urllink' href='https://apmonitor.com/wiki/index.php/Main/PythonApp' rel='nofollow'>Python</a>, and <a class='urllink' href='https://apmonitor.com/wiki/index.php/Main/MATLAB' rel='nofollow'>MATLAB</a>. Users can select either a public server or a local host if the <a class='urllink' href='https://apmonitor.com/wiki/index.php/Main/APMonitorServer' rel='nofollow'>APMonitor Server</a> is installed locally. The user must also specify an application name.\n",
        "</p>\n",
        "<div class='vspace'></div><pre> server = '<a class='urllink' href='https://127.0.0.1' rel='nofollow'>https://127.0.0.1</a>'         # for local server\n",
        " server = '<a class='urllink' href='https://byu.apmonitor.com' rel='nofollow'>https://byu.apmonitor.com</a>' # for public server\n",
        " app = myApp                         # application name\n",
        "</pre><p class='vspace'>Once the server and application name are defined, the following is a list of available commands in each package.\n",
        "</p>\n",
        "<div class='vspace'></div><ul><li>apm(server,app,aline) - Send commands to the server\n",
        "<ul><li>Typical commands are 'clear all', 'clear csv', 'clear apm', 'solve'.\n",
        "</li><li>'clear all': Clear the prior application\n",
        "</li><li>'clear csv': Clear just the data file (CSV)\n",
        "</li><li>'clear apm': Clear just the model file (APM)\n",
        "</li><li>'solve': Solve the problem\n",
        "</li></ul></li><li>apm_get(server,app,filename) - Retrieve a file from the server\n",
        "</li><li>apm_info(server,app,type,aline) - Classify a parameter or variable]]\n",
        "<ul><li><a class='urllink' href='https://apmonitor.com/wiki/index.php/Main/INFO' rel='nofollow'>More information about FV, MV, SV, and CV types</a>\n",
        "</li><li>Type FV: Fixed value, one decision or fixed value over the time horizon\n",
        "</li><li>Type MV: Manipulated variable, multiple decision values over the horizon\n",
        "</li><li>Type SV: State variable, view in web-viewer but don't control\n",
        "</li><li>Type CV: Controlled variable with target variable\n",
        "</li></ul></li><li>apm_ip(server) - Retrieve the client IP address\n",
        "<ul><li>Example: ip = apm_ip('<a class='urllink' href='https://apmonitor.com' rel='nofollow'>https://apmonitor.com</a>')\n",
        "</li></ul></li><li>apm_load(server,app,filename) - Load model file\n",
        "</li><li>apm_meas(server,app,name,value) - Specify a measurement\n",
        "</li><li>apm_option(server,app,name,value) - Set an option\n",
        "</li><li>apm_sol(server,app) - Retrieve the solution\n",
        "</li><li>apm_tag(server,app,name) - Retrieve an NLC, FV, MV, SV, or CV option\n",
        "</li><li>apm_web(server,app) - Open a web interface to the dashboard\n",
        "</li><li>apm_web_var(server,app) - Open a web interface to the variable values\n",
        "</li><li>csv_load(server,app,filename) - Load data file\n",
        "</li></ul><p class='vspace'>An example script is below. The same commands are used in Python, MATLAB, and Julia with minor modifications such as the ';' in MATLAB to suppress console output or change in the comment characters.\n",
        "</p>\n",
        "<div class='vspace'></div>\n",
        "\n",
        "<div class='vspace'></div><div><img src='http://apmonitor.com/do/uploads/Main/download.png' alt='' title='' /> <a class='urllink' href='http://apmonitor.com/do/uploads/Main/model_predictive_control_intro.zip' rel='nofollow'>Model Predictive Control Example (MATLAB and Python)</a> </div>\n",
        "<div class='vspace'></div>"
      ]
    },
    {
      "metadata": {
        "id": "egaLCGFXAc-_",
        "colab_type": "code",
        "colab": {},
        "cellView": "form"
      },
      "cell_type": "code",
      "source": [
        "#@title\n",
        "#apm not functioning in COLAB notebook\n",
        "\n",
        "# import apm.py, available from \n",
        "#   https://apmonitor.com/wiki/index.php/Main/PythonApp\n",
        "from apm import *\n",
        "# for MATLAB use: addpath('apm')\n",
        "\n",
        "s = 'https://byu.apmonitor.com'\n",
        "a = 'myApp'\n",
        "\n",
        "# clear prior application\n",
        "apm(s,a,'clear all')\n",
        "\n",
        "# load model and data\n",
        "apm_load(s,a,'model.apm')\n",
        "csv_load(s,a,'data.csv')\n",
        "\n",
        "# specify FV, MV, SV, CV\n",
        "apm_info(s,a,'FV','K')\n",
        "apm_info(s,a,'MV','u')\n",
        "apm_info(s,a,'SV','x')\n",
        "apm_info(s,a,'CV','y')\n",
        "\n",
        "# configuration parameters\n",
        "apm_option(s,a,'nlc.imode',6)\n",
        "apm_option(s,a,'nlc.nodes',3)\n",
        "\n",
        "# turn on MV as a degree of freedom\n",
        "apm_option(s,a,'u.status',1)\n",
        "# turn on CV to add terms to objective function\n",
        "apm_option(s,a,'y.status',1)\n",
        "\n",
        "# tune MV in the controller\n",
        "apm_option(s,a,'u.lower',0)\n",
        "apm_option(s,a,'u.upper',100)\n",
        "apm_option(s,a,'u.dcost',0.1)\n",
        "\n",
        "# tune CV in the controller\n",
        "apm_option(s,a,'y.tau',5)\n",
        "apm_option(s,a,'y.sphi',26)\n",
        "apm_option(s,a,'y.splo',24)\n",
        "\n",
        "# solve and retrieve results\n",
        "output = apm(s,a,'solve')\n",
        "print(output)\n",
        "\n",
        "# open web-viewer\n",
        "apm_web(s,a)\n",
        "\n",
        "# retrieve solution\n",
        "z = apm_sol(s,a)"
      ],
      "execution_count": 0,
      "outputs": []
    }
  ]
}