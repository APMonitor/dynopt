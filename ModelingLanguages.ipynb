{
  "nbformat": 4,
  "nbformat_minor": 0,
  "metadata": {
    "colab": {
      "name": "ModelingLanguages.ipynb",
      "version": "0.3.2",
      "provenance": [],
      "collapsed_sections": [],
      "toc_visible": true,
      "include_colab_link": true
    },
    "kernelspec": {
      "name": "python3",
      "display_name": "Python 3"
    }
  },
  "cells": [
    {
      "cell_type": "markdown",
      "metadata": {
        "id": "view-in-github",
        "colab_type": "text"
      },
      "source": [
        "<a href=\"https://colab.research.google.com/github/misbahsy/APMonitor-do/blob/master/ModelingLanguages.ipynb\" target=\"_parent\"><img src=\"https://colab.research.google.com/assets/colab-badge.svg\" alt=\"Open In Colab\"/></a>"
      ]
    },
    {
      "metadata": {
        "id": "q4x1yfS8k3pZ",
        "colab_type": "text"
      },
      "cell_type": "markdown",
      "source": [
        "#Dynamic Optimization Basics\n",
        "\n",
        "Two tools used in this course are MATLAB and Python. APMonitor is used as a toolbox in MATLAB or as a package within Python to provide support for solution of dynamic simulation, estimation, and control.\n",
        "\n",
        "There are many tools for simulation and optimization of dynamic systems. There are also many factors to consider when selecting the appropriate tool for a particular task. Some of the considerations for a dynamic optimization tool are size (scaling with number equations and degrees of freedom), speed (use in real-time estimation or control), usability (training requirements and ease of adaptation), extensibility (ability to modify for new or complex systems), support (commercial sustainment or open-source community), and portability (ability to embed on a system or communicate with a particular platform).\n",
        "\n",
        "The objective of this section is to introduce MATLAB and Python. This is not intended to be a general tutorial but more specifically to cover topics that are relevant for dynamic optimization. Topics of interest for dynamic optimization are listed below.\n",
        "\n"
      ]
    },
    {
      "metadata": {
        "id": "WE4hpKhnlvy5",
        "colab_type": "code",
        "cellView": "form",
        "outputId": "1a705622-ab32-4b51-e379-1699b246b52c",
        "colab": {
          "base_uri": "https://localhost:8080/",
          "height": 63
        }
      },
      "cell_type": "code",
      "source": [
        "#@title ##Introduction to Programming Languages\n",
        "%%html\n",
        "<p>Many programming languages can be used in this course with <a class='urllink' href='https://youtu.be/t84YMw8p34w' rel='nofollow'>examples in both MATLAB and Python programming languages</a>. There are many resources to <a class='urllink' href='https://www.mathworks.com/help/matlab/getting-started-with-matlab.html' rel='nofollow'>get started in MATLAB</a> or <a class='urllink' href='https://www.python.org/about/gettingstarted/' rel='nofollow'>get started with Python</a>. There are also excellent resources for experienced MATLAB programmers who would like to learn Python such as <a class='urllink' href='https://wiki.scipy.org/NumPy_for_Matlab_Users' rel='nofollow'>Numpy for Matlab Users</a>. Introductory material on programming with MATLAB or Python is in the <a class='urllink' href='https://apmonitor.com/che263' rel='nofollow'>Computational Tools Course</a>.\n",
        "</p>"
      ],
      "execution_count": 0,
      "outputs": [
        {
          "output_type": "display_data",
          "data": {
            "text/html": [
              "<p>Many programming languages can be used in this course with <a class='urllink' href='https://youtu.be/t84YMw8p34w' rel='nofollow'>examples in both MATLAB and Python programming languages</a>. There are many resources to <a class='urllink' href='https://www.mathworks.com/help/matlab/getting-started-with-matlab.html' rel='nofollow'>get started in MATLAB</a> or <a class='urllink' href='https://www.python.org/about/gettingstarted/' rel='nofollow'>get started with Python</a>. There are also excellent resources for experienced MATLAB programmers who would like to learn Python such as <a class='urllink' href='https://wiki.scipy.org/NumPy_for_Matlab_Users' rel='nofollow'>Numpy for Matlab Users</a>. Introductory material on programming with MATLAB or Python is in the <a class='urllink' href='https://apmonitor.com/che263' rel='nofollow'>Computational Tools Course</a>.\n",
              "</p>"
            ],
            "text/plain": [
              "<IPython.core.display.HTML object>"
            ]
          },
          "metadata": {
            "tags": []
          }
        }
      ]
    },
    {
      "metadata": {
        "id": "7lK-4MYJpYys",
        "colab_type": "code",
        "cellView": "form",
        "outputId": "db368744-f3a7-4ee8-e707-7e0dc52d638e",
        "colab": {
          "base_uri": "https://localhost:8080/",
          "height": 399
        }
      },
      "cell_type": "code",
      "source": [
        "#@title ##Introduction to Nonlinear Optimization</h3>\n",
        "%%html\n",
        "<p>This course uses principles from nonlinear programming but does not delve into the details of solution strategies. Instead of detailing how a nonlinear programming solver iterates to find a solution, this course focuses on formulating problems and the use of differential constraints in describing and optimizing dynamic systems. For more background on how nonlinear programming solvers work, refer to the <a class='urllink' href='https://apmonitor.com/me575' rel='nofollow'>Course on Optimization</a> and the associated online <a class='urllink' href='https://apmonitor.com/me575/index.php/Main/BookChapters' rel='nofollow'>Design Optimization Textbook</a>. A good illustrative example is the <a class='urllink' href='https://apmonitor.com/me575/index.php/Main/BookChapters' rel='nofollow'>Two Bar Truss</a> optimization or the example below.\n",
        "</p>\n",
        "<div class='vspace'></div>\n",
        "<iframe width=\"560\" height=\"315\" src=\"https://www.youtube.com/embed/9F3Dwgo34Lc\" frameborder=\"0\" allowfullscreen></iframe>\n"
      ],
      "execution_count": 0,
      "outputs": [
        {
          "output_type": "display_data",
          "data": {
            "text/html": [
              "<p>This course uses principles from nonlinear programming but does not delve into the details of solution strategies. Instead of detailing how a nonlinear programming solver iterates to find a solution, this course focuses on formulating problems and the use of differential constraints in describing and optimizing dynamic systems. For more background on how nonlinear programming solvers work, refer to the <a class='urllink' href='https://apmonitor.com/me575' rel='nofollow'>Course on Optimization</a> and the associated online <a class='urllink' href='https://apmonitor.com/me575/index.php/Main/BookChapters' rel='nofollow'>Design Optimization Textbook</a>. A good illustrative example is the <a class='urllink' href='https://apmonitor.com/me575/index.php/Main/BookChapters' rel='nofollow'>Two Bar Truss</a> optimization or the example below.\n",
              "</p>\n",
              "<div class='vspace'></div>\n",
              "<iframe width=\"560\" height=\"315\" src=\"https://www.youtube.com/embed/9F3Dwgo34Lc\" frameborder=\"0\" allowfullscreen></iframe>"
            ],
            "text/plain": [
              "<IPython.core.display.HTML object>"
            ]
          },
          "metadata": {
            "tags": []
          }
        }
      ]
    },
    {
      "metadata": {
        "id": "UdKahMG2nXgP",
        "colab_type": "code",
        "cellView": "form",
        "outputId": "3e31bd6c-de47-4145-e8cf-da9a84b462c5",
        "colab": {
          "base_uri": "https://localhost:8080/",
          "height": 599
        }
      },
      "cell_type": "code",
      "source": [
        "#@title ##APMonitor Commands\n",
        "\n",
        "%%html\n",
        "<p>APMonitor is a tool for nonlinear optimization and dynamic optimization. Source files are available for <a class='urllink' href='https://apmonitor.com/wiki/index.php/Main/JuliaOpt' rel='nofollow'>Julia</a>, <a class='urllink' href='https://apmonitor.com/wiki/index.php/Main/PythonApp' rel='nofollow'>Python</a>, and <a class='urllink' href='https://apmonitor.com/wiki/index.php/Main/MATLAB' rel='nofollow'>MATLAB</a>. Users can select either a public server or a local host if the <a class='urllink' href='https://apmonitor.com/wiki/index.php/Main/APMonitorServer' rel='nofollow'>APMonitor Server</a> is installed locally. The user must also specify an application name.\n",
        "</p>\n",
        "<div class='vspace'></div><pre> server = '<a class='urllink' href='https://127.0.0.1' rel='nofollow'>https://127.0.0.1</a>'         # for local server\n",
        " server = '<a class='urllink' href='https://byu.apmonitor.com' rel='nofollow'>https://byu.apmonitor.com</a>' # for public server\n",
        " app = myApp                         # application name\n",
        "</pre><p class='vspace'>Once the server and application name are defined, the following is a list of available commands in each package.\n",
        "</p>\n",
        "<div class='vspace'></div><ul><li>apm(server,app,aline) - Send commands to the server\n",
        "<ul><li>Typical commands are 'clear all', 'clear csv', 'clear apm', 'solve'.\n",
        "</li><li>'clear all': Clear the prior application\n",
        "</li><li>'clear csv': Clear just the data file (CSV)\n",
        "</li><li>'clear apm': Clear just the model file (APM)\n",
        "</li><li>'solve': Solve the problem\n",
        "</li></ul></li><li>apm_get(server,app,filename) - Retrieve a file from the server\n",
        "</li><li>apm_info(server,app,type,aline) - Classify a parameter or variable]]\n",
        "<ul><li><a class='urllink' href='https://apmonitor.com/wiki/index.php/Main/INFO' rel='nofollow'>More information about FV, MV, SV, and CV types</a>\n",
        "</li><li>Type FV: Fixed value, one decision or fixed value over the time horizon\n",
        "</li><li>Type MV: Manipulated variable, multiple decision values over the horizon\n",
        "</li><li>Type SV: State variable, view in web-viewer but don't control\n",
        "</li><li>Type CV: Controlled variable with target variable\n",
        "</li></ul></li><li>apm_ip(server) - Retrieve the client IP address\n",
        "<ul><li>Example: ip = apm_ip('<a class='urllink' href='https://apmonitor.com' rel='nofollow'>https://apmonitor.com</a>')\n",
        "</li></ul></li><li>apm_load(server,app,filename) - Load model file\n",
        "</li><li>apm_meas(server,app,name,value) - Specify a measurement\n",
        "</li><li>apm_option(server,app,name,value) - Set an option\n",
        "</li><li>apm_sol(server,app) - Retrieve the solution\n",
        "</li><li>apm_tag(server,app,name) - Retrieve an NLC, FV, MV, SV, or CV option\n",
        "</li><li>apm_web(server,app) - Open a web interface to the dashboard\n",
        "</li><li>apm_web_var(server,app) - Open a web interface to the variable values\n",
        "</li><li>csv_load(server,app,filename) - Load data file\n",
        "</li></ul><p class='vspace'>An example script is below. The same commands are used in Python, MATLAB, and Julia with minor modifications such as the ';' in MATLAB to suppress console output or change in the comment characters.\n",
        "</p>\n",
        "<div class='vspace'></div>"
      ],
      "execution_count": 0,
      "outputs": [
        {
          "output_type": "display_data",
          "data": {
            "text/html": [
              "<p>APMonitor is a tool for nonlinear optimization and dynamic optimization. Source files are available for <a class='urllink' href='https://apmonitor.com/wiki/index.php/Main/JuliaOpt' rel='nofollow'>Julia</a>, <a class='urllink' href='https://apmonitor.com/wiki/index.php/Main/PythonApp' rel='nofollow'>Python</a>, and <a class='urllink' href='https://apmonitor.com/wiki/index.php/Main/MATLAB' rel='nofollow'>MATLAB</a>. Users can select either a public server or a local host if the <a class='urllink' href='https://apmonitor.com/wiki/index.php/Main/APMonitorServer' rel='nofollow'>APMonitor Server</a> is installed locally. The user must also specify an application name.\n",
              "</p>\n",
              "<div class='vspace'></div><pre> server = '<a class='urllink' href='https://127.0.0.1' rel='nofollow'>https://127.0.0.1</a>'         # for local server\n",
              " server = '<a class='urllink' href='https://byu.apmonitor.com' rel='nofollow'>https://byu.apmonitor.com</a>' # for public server\n",
              " app = myApp                         # application name\n",
              "</pre><p class='vspace'>Once the server and application name are defined, the following is a list of available commands in each package.\n",
              "</p>\n",
              "<div class='vspace'></div><ul><li>apm(server,app,aline) - Send commands to the server\n",
              "<ul><li>Typical commands are 'clear all', 'clear csv', 'clear apm', 'solve'.\n",
              "</li><li>'clear all': Clear the prior application\n",
              "</li><li>'clear csv': Clear just the data file (CSV)\n",
              "</li><li>'clear apm': Clear just the model file (APM)\n",
              "</li><li>'solve': Solve the problem\n",
              "</li></ul></li><li>apm_get(server,app,filename) - Retrieve a file from the server\n",
              "</li><li>apm_info(server,app,type,aline) - Classify a parameter or variable]]\n",
              "<ul><li><a class='urllink' href='https://apmonitor.com/wiki/index.php/Main/INFO' rel='nofollow'>More information about FV, MV, SV, and CV types</a>\n",
              "</li><li>Type FV: Fixed value, one decision or fixed value over the time horizon\n",
              "</li><li>Type MV: Manipulated variable, multiple decision values over the horizon\n",
              "</li><li>Type SV: State variable, view in web-viewer but don't control\n",
              "</li><li>Type CV: Controlled variable with target variable\n",
              "</li></ul></li><li>apm_ip(server) - Retrieve the client IP address\n",
              "<ul><li>Example: ip = apm_ip('<a class='urllink' href='https://apmonitor.com' rel='nofollow'>https://apmonitor.com</a>')\n",
              "</li></ul></li><li>apm_load(server,app,filename) - Load model file\n",
              "</li><li>apm_meas(server,app,name,value) - Specify a measurement\n",
              "</li><li>apm_option(server,app,name,value) - Set an option\n",
              "</li><li>apm_sol(server,app) - Retrieve the solution\n",
              "</li><li>apm_tag(server,app,name) - Retrieve an NLC, FV, MV, SV, or CV option\n",
              "</li><li>apm_web(server,app) - Open a web interface to the dashboard\n",
              "</li><li>apm_web_var(server,app) - Open a web interface to the variable values\n",
              "</li><li>csv_load(server,app,filename) - Load data file\n",
              "</li></ul><p class='vspace'>An example script is below. The same commands are used in Python, MATLAB, and Julia with minor modifications such as the ';' in MATLAB to suppress console output or change in the comment characters.\n",
              "</p>\n",
              "<div class='vspace'></div>"
            ],
            "text/plain": [
              "<IPython.core.display.HTML object>"
            ]
          },
          "metadata": {
            "tags": []
          }
        }
      ]
    },
    {
      "metadata": {
        "id": "L6lkPv8anpt5",
        "colab_type": "code",
        "cellView": "form",
        "outputId": "2e91447f-130f-449c-ca8d-4063269d9f9d",
        "colab": {
          "base_uri": "https://localhost:8080/",
          "height": 903
        }
      },
      "cell_type": "code",
      "source": [
        "#@title Example Problem\n",
        "%%html\n",
        "<div class='vspace'></div><div><img src='http://apmonitor.com/do/uploads/Main/download.png' alt='' title='' /> <a class='urllink' href='http://apmonitor.com/do/uploads/Main/model_predictive_control_intro.zip' rel='nofollow'>Model Predictive Control Example (MATLAB and Python)</a> </div>\n",
        "<div class='vspace'></div>\n",
        "\n",
        "<div class='sourceblock ' id='sourceblock1'>\n",
        "  <div class='sourceblocktext'><div class=\"python\"><span class=\"co1\"># import apm.py, available from </span><br />\n",
        "<span class=\"co1\"># &nbsp; https://apmonitor.com/wiki/index.php/Main/PythonApp</span><br />\n",
        "<span class=\"kw1\">from</span> apm <span class=\"kw1\">import</span> *<br />\n",
        "<span class=\"co1\"># for MATLAB use: addpath('apm')</span><br />\n",
        "<br />\n",
        "s <span class=\"sy0\">=</span> <span class=\"st0\">'https://byu.apmonitor.com'</span><br />\n",
        "a <span class=\"sy0\">=</span> <span class=\"st0\">'myApp'</span><br />\n",
        "<br />\n",
        "<span class=\"co1\"># clear prior application</span><br />\n",
        "apm<span class=\"br0\">&#40;</span>s<span class=\"sy0\">,</span>a<span class=\"sy0\">,</span><span class=\"st0\">'clear all'</span><span class=\"br0\">&#41;</span><br />\n",
        "<br />\n",
        "<span class=\"co1\"># load model and data</span><br />\n",
        "apm_load<span class=\"br0\">&#40;</span>s<span class=\"sy0\">,</span>a<span class=\"sy0\">,</span><span class=\"st0\">'model.apm'</span><span class=\"br0\">&#41;</span><br />\n",
        "csv_load<span class=\"br0\">&#40;</span>s<span class=\"sy0\">,</span>a<span class=\"sy0\">,</span><span class=\"st0\">'data.csv'</span><span class=\"br0\">&#41;</span><br />\n",
        "<br />\n",
        "<span class=\"co1\"># specify FV, MV, SV, CV</span><br />\n",
        "apm_info<span class=\"br0\">&#40;</span>s<span class=\"sy0\">,</span>a<span class=\"sy0\">,</span><span class=\"st0\">'FV'</span><span class=\"sy0\">,</span><span class=\"st0\">'K'</span><span class=\"br0\">&#41;</span><br />\n",
        "apm_info<span class=\"br0\">&#40;</span>s<span class=\"sy0\">,</span>a<span class=\"sy0\">,</span><span class=\"st0\">'MV'</span><span class=\"sy0\">,</span><span class=\"st0\">'u'</span><span class=\"br0\">&#41;</span><br />\n",
        "apm_info<span class=\"br0\">&#40;</span>s<span class=\"sy0\">,</span>a<span class=\"sy0\">,</span><span class=\"st0\">'SV'</span><span class=\"sy0\">,</span><span class=\"st0\">'x'</span><span class=\"br0\">&#41;</span><br />\n",
        "apm_info<span class=\"br0\">&#40;</span>s<span class=\"sy0\">,</span>a<span class=\"sy0\">,</span><span class=\"st0\">'CV'</span><span class=\"sy0\">,</span><span class=\"st0\">'y'</span><span class=\"br0\">&#41;</span><br />\n",
        "<br />\n",
        "<span class=\"co1\"># configuration parameters</span><br />\n",
        "apm_option<span class=\"br0\">&#40;</span>s<span class=\"sy0\">,</span>a<span class=\"sy0\">,</span><span class=\"st0\">'nlc.imode'</span><span class=\"sy0\">,</span><span class=\"nu0\">6</span><span class=\"br0\">&#41;</span><br />\n",
        "apm_option<span class=\"br0\">&#40;</span>s<span class=\"sy0\">,</span>a<span class=\"sy0\">,</span><span class=\"st0\">'nlc.nodes'</span><span class=\"sy0\">,</span><span class=\"nu0\">3</span><span class=\"br0\">&#41;</span><br />\n",
        "<br />\n",
        "<span class=\"co1\"># turn on MV as a degree of freedom</span><br />\n",
        "apm_option<span class=\"br0\">&#40;</span>s<span class=\"sy0\">,</span>a<span class=\"sy0\">,</span><span class=\"st0\">'u.status'</span><span class=\"sy0\">,</span><span class=\"nu0\">1</span><span class=\"br0\">&#41;</span><br />\n",
        "<span class=\"co1\"># turn on CV to add terms to objective function</span><br />\n",
        "apm_option<span class=\"br0\">&#40;</span>s<span class=\"sy0\">,</span>a<span class=\"sy0\">,</span><span class=\"st0\">'y.status'</span><span class=\"sy0\">,</span><span class=\"nu0\">1</span><span class=\"br0\">&#41;</span><br />\n",
        "<br />\n",
        "<span class=\"co1\"># tune MV in the controller</span><br />\n",
        "apm_option<span class=\"br0\">&#40;</span>s<span class=\"sy0\">,</span>a<span class=\"sy0\">,</span><span class=\"st0\">'u.lower'</span><span class=\"sy0\">,</span><span class=\"nu0\">0</span><span class=\"br0\">&#41;</span><br />\n",
        "apm_option<span class=\"br0\">&#40;</span>s<span class=\"sy0\">,</span>a<span class=\"sy0\">,</span><span class=\"st0\">'u.upper'</span><span class=\"sy0\">,</span><span class=\"nu0\">100</span><span class=\"br0\">&#41;</span><br />\n",
        "apm_option<span class=\"br0\">&#40;</span>s<span class=\"sy0\">,</span>a<span class=\"sy0\">,</span><span class=\"st0\">'u.dcost'</span><span class=\"sy0\">,</span><span class=\"nu0\">0.1</span><span class=\"br0\">&#41;</span><br />\n",
        "<br />\n",
        "<span class=\"co1\"># tune CV in the controller</span><br />\n",
        "apm_option<span class=\"br0\">&#40;</span>s<span class=\"sy0\">,</span>a<span class=\"sy0\">,</span><span class=\"st0\">'y.tau'</span><span class=\"sy0\">,</span><span class=\"nu0\">5</span><span class=\"br0\">&#41;</span><br />\n",
        "apm_option<span class=\"br0\">&#40;</span>s<span class=\"sy0\">,</span>a<span class=\"sy0\">,</span><span class=\"st0\">'y.sphi'</span><span class=\"sy0\">,</span><span class=\"nu0\">26</span><span class=\"br0\">&#41;</span><br />\n",
        "apm_option<span class=\"br0\">&#40;</span>s<span class=\"sy0\">,</span>a<span class=\"sy0\">,</span><span class=\"st0\">'y.splo'</span><span class=\"sy0\">,</span><span class=\"nu0\">24</span><span class=\"br0\">&#41;</span><br />\n",
        "<br />\n",
        "<span class=\"co1\"># solve and retrieve results</span><br />\n",
        "output <span class=\"sy0\">=</span> apm<span class=\"br0\">&#40;</span>s<span class=\"sy0\">,</span>a<span class=\"sy0\">,</span><span class=\"st0\">'solve'</span><span class=\"br0\">&#41;</span><br />\n",
        "<span class=\"kw1\">print</span><span class=\"br0\">&#40;</span>output<span class=\"br0\">&#41;</span><br />\n",
        "<br />\n",
        "<span class=\"co1\"># open web-viewer</span><br />\n",
        "apm_web<span class=\"br0\">&#40;</span>s<span class=\"sy0\">,</span>a<span class=\"br0\">&#41;</span><br />\n",
        "<br />\n",
        "<span class=\"co1\"># retrieve solution</span><br />\n",
        "z <span class=\"sy0\">=</span> apm_sol<span class=\"br0\">&#40;</span>s<span class=\"sy0\">,</span>a<span class=\"br0\">&#41;</span></div></div>\n",
        "  <div class='sourceblocklink'><a href='http://apmonitor.com/do/index.php/Main/ModelingLanguages?action=sourceblock&amp;num=1' type='text/plain'>[&#036;[Get Code]]</a></div>\n",
        "</div>\n"
      ],
      "execution_count": 44,
      "outputs": [
        {
          "output_type": "display_data",
          "data": {
            "text/html": [
              "<div class='vspace'></div><div><img src='http://apmonitor.com/do/uploads/Main/download.png' alt='' title='' /> <a class='urllink' href='http://apmonitor.com/do/uploads/Main/model_predictive_control_intro.zip' rel='nofollow'>Model Predictive Control Example (MATLAB and Python)</a> </div>\n",
              "<div class='vspace'></div>\n",
              "\n",
              "<div class='sourceblock ' id='sourceblock1'>\n",
              "  <div class='sourceblocktext'><div class=\"python\"><span class=\"co1\"># import apm.py, available from </span><br />\n",
              "<span class=\"co1\"># &nbsp; https://apmonitor.com/wiki/index.php/Main/PythonApp</span><br />\n",
              "<span class=\"kw1\">from</span> apm <span class=\"kw1\">import</span> *<br />\n",
              "<span class=\"co1\"># for MATLAB use: addpath('apm')</span><br />\n",
              "<br />\n",
              "s <span class=\"sy0\">=</span> <span class=\"st0\">'https://byu.apmonitor.com'</span><br />\n",
              "a <span class=\"sy0\">=</span> <span class=\"st0\">'myApp'</span><br />\n",
              "<br />\n",
              "<span class=\"co1\"># clear prior application</span><br />\n",
              "apm<span class=\"br0\">&#40;</span>s<span class=\"sy0\">,</span>a<span class=\"sy0\">,</span><span class=\"st0\">'clear all'</span><span class=\"br0\">&#41;</span><br />\n",
              "<br />\n",
              "<span class=\"co1\"># load model and data</span><br />\n",
              "apm_load<span class=\"br0\">&#40;</span>s<span class=\"sy0\">,</span>a<span class=\"sy0\">,</span><span class=\"st0\">'model.apm'</span><span class=\"br0\">&#41;</span><br />\n",
              "csv_load<span class=\"br0\">&#40;</span>s<span class=\"sy0\">,</span>a<span class=\"sy0\">,</span><span class=\"st0\">'data.csv'</span><span class=\"br0\">&#41;</span><br />\n",
              "<br />\n",
              "<span class=\"co1\"># specify FV, MV, SV, CV</span><br />\n",
              "apm_info<span class=\"br0\">&#40;</span>s<span class=\"sy0\">,</span>a<span class=\"sy0\">,</span><span class=\"st0\">'FV'</span><span class=\"sy0\">,</span><span class=\"st0\">'K'</span><span class=\"br0\">&#41;</span><br />\n",
              "apm_info<span class=\"br0\">&#40;</span>s<span class=\"sy0\">,</span>a<span class=\"sy0\">,</span><span class=\"st0\">'MV'</span><span class=\"sy0\">,</span><span class=\"st0\">'u'</span><span class=\"br0\">&#41;</span><br />\n",
              "apm_info<span class=\"br0\">&#40;</span>s<span class=\"sy0\">,</span>a<span class=\"sy0\">,</span><span class=\"st0\">'SV'</span><span class=\"sy0\">,</span><span class=\"st0\">'x'</span><span class=\"br0\">&#41;</span><br />\n",
              "apm_info<span class=\"br0\">&#40;</span>s<span class=\"sy0\">,</span>a<span class=\"sy0\">,</span><span class=\"st0\">'CV'</span><span class=\"sy0\">,</span><span class=\"st0\">'y'</span><span class=\"br0\">&#41;</span><br />\n",
              "<br />\n",
              "<span class=\"co1\"># configuration parameters</span><br />\n",
              "apm_option<span class=\"br0\">&#40;</span>s<span class=\"sy0\">,</span>a<span class=\"sy0\">,</span><span class=\"st0\">'nlc.imode'</span><span class=\"sy0\">,</span><span class=\"nu0\">6</span><span class=\"br0\">&#41;</span><br />\n",
              "apm_option<span class=\"br0\">&#40;</span>s<span class=\"sy0\">,</span>a<span class=\"sy0\">,</span><span class=\"st0\">'nlc.nodes'</span><span class=\"sy0\">,</span><span class=\"nu0\">3</span><span class=\"br0\">&#41;</span><br />\n",
              "<br />\n",
              "<span class=\"co1\"># turn on MV as a degree of freedom</span><br />\n",
              "apm_option<span class=\"br0\">&#40;</span>s<span class=\"sy0\">,</span>a<span class=\"sy0\">,</span><span class=\"st0\">'u.status'</span><span class=\"sy0\">,</span><span class=\"nu0\">1</span><span class=\"br0\">&#41;</span><br />\n",
              "<span class=\"co1\"># turn on CV to add terms to objective function</span><br />\n",
              "apm_option<span class=\"br0\">&#40;</span>s<span class=\"sy0\">,</span>a<span class=\"sy0\">,</span><span class=\"st0\">'y.status'</span><span class=\"sy0\">,</span><span class=\"nu0\">1</span><span class=\"br0\">&#41;</span><br />\n",
              "<br />\n",
              "<span class=\"co1\"># tune MV in the controller</span><br />\n",
              "apm_option<span class=\"br0\">&#40;</span>s<span class=\"sy0\">,</span>a<span class=\"sy0\">,</span><span class=\"st0\">'u.lower'</span><span class=\"sy0\">,</span><span class=\"nu0\">0</span><span class=\"br0\">&#41;</span><br />\n",
              "apm_option<span class=\"br0\">&#40;</span>s<span class=\"sy0\">,</span>a<span class=\"sy0\">,</span><span class=\"st0\">'u.upper'</span><span class=\"sy0\">,</span><span class=\"nu0\">100</span><span class=\"br0\">&#41;</span><br />\n",
              "apm_option<span class=\"br0\">&#40;</span>s<span class=\"sy0\">,</span>a<span class=\"sy0\">,</span><span class=\"st0\">'u.dcost'</span><span class=\"sy0\">,</span><span class=\"nu0\">0.1</span><span class=\"br0\">&#41;</span><br />\n",
              "<br />\n",
              "<span class=\"co1\"># tune CV in the controller</span><br />\n",
              "apm_option<span class=\"br0\">&#40;</span>s<span class=\"sy0\">,</span>a<span class=\"sy0\">,</span><span class=\"st0\">'y.tau'</span><span class=\"sy0\">,</span><span class=\"nu0\">5</span><span class=\"br0\">&#41;</span><br />\n",
              "apm_option<span class=\"br0\">&#40;</span>s<span class=\"sy0\">,</span>a<span class=\"sy0\">,</span><span class=\"st0\">'y.sphi'</span><span class=\"sy0\">,</span><span class=\"nu0\">26</span><span class=\"br0\">&#41;</span><br />\n",
              "apm_option<span class=\"br0\">&#40;</span>s<span class=\"sy0\">,</span>a<span class=\"sy0\">,</span><span class=\"st0\">'y.splo'</span><span class=\"sy0\">,</span><span class=\"nu0\">24</span><span class=\"br0\">&#41;</span><br />\n",
              "<br />\n",
              "<span class=\"co1\"># solve and retrieve results</span><br />\n",
              "output <span class=\"sy0\">=</span> apm<span class=\"br0\">&#40;</span>s<span class=\"sy0\">,</span>a<span class=\"sy0\">,</span><span class=\"st0\">'solve'</span><span class=\"br0\">&#41;</span><br />\n",
              "<span class=\"kw1\">print</span><span class=\"br0\">&#40;</span>output<span class=\"br0\">&#41;</span><br />\n",
              "<br />\n",
              "<span class=\"co1\"># open web-viewer</span><br />\n",
              "apm_web<span class=\"br0\">&#40;</span>s<span class=\"sy0\">,</span>a<span class=\"br0\">&#41;</span><br />\n",
              "<br />\n",
              "<span class=\"co1\"># retrieve solution</span><br />\n",
              "z <span class=\"sy0\">=</span> apm_sol<span class=\"br0\">&#40;</span>s<span class=\"sy0\">,</span>a<span class=\"br0\">&#41;</span></div></div>\n",
              "  <div class='sourceblocklink'><a href='http://apmonitor.com/do/index.php/Main/ModelingLanguages?action=sourceblock&amp;num=1' type='text/plain'>[&#036;[Get Code]]</a></div>\n",
              "</div>"
            ],
            "text/plain": [
              "<IPython.core.display.HTML object>"
            ]
          },
          "metadata": {
            "tags": []
          }
        }
      ]
    },
    {
      "metadata": {
        "id": "egaLCGFXAc-_",
        "colab_type": "code",
        "colab": {}
      },
      "cell_type": "code",
      "source": [
        ""
      ],
      "execution_count": 0,
      "outputs": []
    }
  ]
}