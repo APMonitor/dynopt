{
 "cells": [
  {
   "cell_type": "code",
   "execution_count": 2,
   "metadata": {},
   "outputs": [],
   "source": [
    "import numpy as np\n",
    "%matplotlib inline\n",
    "import matplotlib.pyplot as plt\n",
    "import ipywidgets as wg\n",
    "from IPython.display import display\n",
    "from gekko import GEKKO"
   ]
  },
  {
   "cell_type": "code",
   "execution_count": 1,
   "metadata": {},
   "outputs": [],
   "source": [
    "# run once to install gekko\n",
    "# pip install gekko"
   ]
  },
  {
   "cell_type": "code",
   "execution_count": 3,
   "metadata": {},
   "outputs": [],
   "source": [
    "# data\n",
    "ud = np.array([0,0.1,0.1,0.1,1,1,1,1,1,1,1,1,1,1,1])\n",
    "yd = np.array([0,0.1,-0.1,0.05,0.2,0.4,0.55, \\\n",
    "               0.65,0.7,0.74,0.77,0.79,0.81, \\\n",
    "               0.8,0.79])\n",
    "\n",
    "# initialize MHE\n",
    "# MHE Model\n",
    "m = GEKKO(remote=False)\n",
    "\n",
    "m.time = np.linspace(0,14,15)\n",
    "\n",
    "#Parameters\n",
    "u = m.MV() #input\n",
    "K = m.MV(value=0.85, lb=0.5, ub=1.5) #gain\n",
    "tau = m.FV(value=2.5, lb=1, ub=10) #time constant\n",
    "\n",
    "#Variables\n",
    "y = m.CV() #measurement\n",
    "\n",
    "#Equations\n",
    "m.Equation(tau * y.dt() == -y + K*u)\n",
    "\n",
    "#Options\n",
    "m.options.IMODE = 5 #MHE\n",
    "m.options.EV_TYPE = 1\n",
    "m.options.TIME_SHIFT = 0\n",
    "m.options.SOLVER = 1\n",
    "\n",
    "# STATUS = 0, optimizer doesn't adjust value\n",
    "# STATUS = 1, optimizer can adjust\n",
    "u.STATUS = 0\n",
    "K.STATUS = 1\n",
    "tau.STATUS = 0\n",
    "y.STATUS = 1\n",
    "\n",
    "# FSTATUS = 0, no measurement\n",
    "# FSTATUS = 1, measurement used to update model\n",
    "u.FSTATUS = 1\n",
    "K.FSTATUS = 0\n",
    "tau.FSTATUS = 0\n",
    "y.FSTATUS = 1\n",
    "y.WMODEL = 0.0 # no weight to prior model predictions\n",
    "y.WMEAS = 10.0 # weight for matching to measurements\n",
    "#y.MEAS = 0.79 # last measurement in horizon\n",
    "\n",
    "# DMAX = maximum movement each cycle\n",
    "K.DMAX = 1\n",
    "tau.DMAX = .1\n",
    "\n",
    "# MEAS_GAP = dead-band for measurement / model mismatch\n",
    "y.MEAS_GAP = 0.2\n",
    "\n",
    "# Insert measurements\n",
    "u.value = ud\n",
    "y.value = yd\n",
    "\n",
    "# optimize parameters\n",
    "m.solve(disp=False)"
   ]
  },
  {
   "cell_type": "markdown",
   "metadata": {},
   "source": [
    "### Manipulated Variable (MV) Tuning - Gain (K)\n",
    "\n",
    "* COST = (+) minimize MV, (-) maximize MV \n",
    "* DCOST = penalty for MV movement \n",
    "* DMAX = maximum that MV can move each cycle \n",
    "* MV_STEP_HOR = default 1, higher integers allow MV to move less frequently\n",
    "\n",
    "### Controlled Variable (CV) Tuning - Measured Output (y)\n",
    "\n",
    "* MEAS_GAP = no penalty dead-band around measurements\n",
    "* WMEAS = measurement weight in objective function\n",
    "* WMODEL = prior model prediction weight in objective function"
   ]
  },
  {
   "cell_type": "code",
   "execution_count": 4,
   "metadata": {},
   "outputs": [
    {
     "data": {
      "application/vnd.jupyter.widget-view+json": {
       "model_id": "7420c3519e144f68b65789aa27d20901",
       "version_major": 2,
       "version_minor": 0
      },
      "text/plain": [
       "interactive(children=(FloatSlider(value=0.0, description='cost', max=1.0, min=-1.0), FloatSlider(value=0.1, de…"
      ]
     },
     "metadata": {},
     "output_type": "display_data"
    },
    {
     "data": {
      "text/plain": [
       "<function __main__.mhe_tuning(cost, dcost, dmax, mv_step, meas_gap)>"
      ]
     },
     "execution_count": 4,
     "metadata": {},
     "output_type": "execute_result"
    }
   ],
   "source": [
    "def mhe_tuning(cost,dcost,dmax,mv_step,meas_gap):\n",
    "    K.COST = cost\n",
    "    K.DCOST = dcost\n",
    "    K.DMAX = dmax\n",
    "    K.MV_STEP_HOR = mv_step\n",
    "    y.MEAS_GAP = meas_gap\n",
    "    y.value = yd\n",
    "    \n",
    "    # solve MHE\n",
    "    m.solve(disp=False)\n",
    "        \n",
    "    plt.figure(1,figsize=(10,7))\n",
    "    ax=plt.subplot(2,1,1)\n",
    "    ax.grid()\n",
    "    plt.plot(m.time,u,'b-',label=r'$Input (u)$')\n",
    "    plt.plot(m.time,K,'r-o',label=r'$Gain (K)$')\n",
    "    plt.legend(loc='best')\n",
    "    plt.ylabel('MV')\n",
    "\n",
    "    ax=plt.subplot(2,1,2)\n",
    "    ax.grid()\n",
    "    plt.plot(m.time,y,'r:',linewidth=2,label=r'$y_{pred}$')\n",
    "    plt.plot(m.time,yd+meas_gap/2.0,'k--',linewidth=2,label=r'$y_{db-hi}$')\n",
    "    plt.plot(m.time,yd,'kx',linewidth=2,label=r'$y_{meas}$')\n",
    "    plt.plot(m.time,yd-meas_gap/2.0,'k--',linewidth=2,label=r'$y_{db-lo}$')\n",
    "    plt.legend(loc='best')\n",
    "    plt.ylabel('CV')\n",
    "    plt.xlabel('Time (sec)')\n",
    "    plt.savefig('test.png')\n",
    "    \n",
    "cost_slide = wg.FloatSlider(value=0.0,min=-1.0,max=1.0,step=0.1)\n",
    "dcost_slide = wg.FloatSlider(value=0.1,min=0.0,max=1.0,step=0.1)\n",
    "dmax_slide = wg.FloatSlider(value=1.0,min=0.0,max=1.0,step=0.1)\n",
    "mv_step_slide = wg.FloatSlider(value=1,min=1,max=10,step=1)\n",
    "meas_gap_slide = wg.FloatSlider(value=0.2,min=0.0,max=1.0,step=0.1)\n",
    "wg.interact(mhe_tuning, cost=cost_slide, \\\n",
    "            dcost=dcost_slide, dmax=dmax_slide, \\\n",
    "            mv_step=mv_step_slide, meas_gap=meas_gap_slide)"
   ]
  }
 ],
 "metadata": {
  "anaconda-cloud": {},
  "kernelspec": {
   "display_name": "Python 3",
   "language": "python",
   "name": "python3"
  },
  "language_info": {
   "codemirror_mode": {
    "name": "ipython",
    "version": 3
   },
   "file_extension": ".py",
   "mimetype": "text/x-python",
   "name": "python",
   "nbconvert_exporter": "python",
   "pygments_lexer": "ipython3",
   "version": "3.8.5"
  },
  "widgets": {
   "state": {
    "160cf511089b4a15ad64e6bc66adde65": {
     "views": [
      {
       "cell_index": 3
      }
     ]
    },
    "b27858ee09754459a4a026fcaf3c197b": {
     "views": [
      {
       "cell_index": 2
      }
     ]
    }
   },
   "version": "1.2.0"
  }
 },
 "nbformat": 4,
 "nbformat_minor": 1
}
