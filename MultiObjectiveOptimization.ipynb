{
  "nbformat": 4,
  "nbformat_minor": 0,
  "metadata": {
    "colab": {
      "name": "MultiObjectiveOptimization.ipynb",
      "version": "0.3.2",
      "provenance": [],
      "collapsed_sections": [],
      "include_colab_link": true
    },
    "kernelspec": {
      "name": "python3",
      "display_name": "Python 3"
    }
  },
  "cells": [
    {
      "cell_type": "markdown",
      "metadata": {
        "id": "view-in-github",
        "colab_type": "text"
      },
      "source": [
        "<a href=\"https://colab.research.google.com/github/misbahsy/APMonitor-do/blob/master/MultiObjectiveOptimization.ipynb\" target=\"_parent\"><img src=\"https://colab.research.google.com/assets/colab-badge.svg\" alt=\"Open In Colab\"/></a>"
      ]
    },
    {
      "metadata": {
        "id": "FCBtWyq4_9ri",
        "colab_type": "text"
      },
      "cell_type": "markdown",
      "source": [
        "##Multi-Objective Optimization\n",
        "\n",
        "<p class='vspace'>Many optimization problems have multiple competing objectives. These competing objectives are part of the trade-off that defines an optimal solution. Sometimes these competing objectives have separate priorities where one objective should be satisfied <em>before</em> another objective is even considered. This especially arises in model predictive control or other types of dynamic optimization problems. There are competing objectives with a ranked hierarchy. The highest level objectives are satisfied first followed by lower ranked objectives if there are additional degrees of freedom available. The l1-norm objective is a natural way to explicitly rank objectives and simultaneously optimize multiple priorities with a single optimization problem.\n",
        "</p>\n",
        "\n",
        "\n",
        "##Exercise\n",
        "<p>Consider examples of safety, environmental, and economic constraints or objectives. Which are most important and why? \n",
        "</p>\n",
        "<p class='vspace'>For the following multi-objective optimization problem, sketch a possible optimal trajectory.\n",
        "</p>\n",
        "<div class='vspace'></div><div><img src='http://apmonitor.com/do/uploads/Main/download.png' alt='' title='' /> <a class='urllink' href='http://apmonitor.com/do/uploads/Main/multi-objective_control.pdf' rel='nofollow'>Multiple Objectives Exercise (pdf)</a></div>\n",
        "<div class='vspace'></div><div><img src='http://apmonitor.com/do/uploads/Main/multi-objective_control.png' alt='' title='' /></div>\n",
        "\n",
        "\n",
        "##Solution\n",
        "<div><img src='http://apmonitor.com/do/uploads/Main/download.png' alt='' title='' /> <a class='urllink' href='http://apmonitor.com/do/uploads/Main/multi-objective_control.zip' rel='nofollow'>Multi-Objective Model Predictive Control</a></div>\n",
        "<div class='vspace'></div>"
      ]
    },
    {
      "metadata": {
        "id": "rla9mulo_8gI",
        "colab_type": "code",
        "colab": {
          "base_uri": "https://localhost:8080/",
          "height": 336
        },
        "cellView": "form",
        "outputId": "0f19407e-5fd2-46e9-b37a-584afb8b2491"
      },
      "cell_type": "code",
      "source": [
        "#@title\n",
        "%%html\n",
        "<iframe width=\"560\" height=\"315\" src=\"https://www.youtube.com/embed/JlMVZmGgjDY\" frameborder=\"0\" allowfullscreen></iframe>"
      ],
      "execution_count": 1,
      "outputs": [
        {
          "output_type": "display_data",
          "data": {
            "text/html": [
              "<iframe width=\"560\" height=\"315\" src=\"https://www.youtube.com/embed/JlMVZmGgjDY\" frameborder=\"0\" allowfullscreen></iframe>"
            ],
            "text/plain": [
              "<IPython.core.display.HTML object>"
            ]
          },
          "metadata": {
            "tags": []
          }
        }
      ]
    }
  ]
}