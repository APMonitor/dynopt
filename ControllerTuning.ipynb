{
  "nbformat": 4,
  "nbformat_minor": 0,
  "metadata": {
    "colab": {
      "name": "ControllerTuning.ipynb",
      "version": "0.3.2",
      "provenance": [],
      "collapsed_sections": [],
      "include_colab_link": true
    },
    "kernelspec": {
      "name": "python3",
      "display_name": "Python 3"
    }
  },
  "cells": [
    {
      "cell_type": "markdown",
      "metadata": {
        "id": "view-in-github",
        "colab_type": "text"
      },
      "source": [
        "<a href=\"https://colab.research.google.com/github/misbahsy/APMonitor-do/blob/master/ControllerTuning.ipynb\" target=\"_parent\"><img src=\"https://colab.research.google.com/assets/colab-badge.svg\" alt=\"Open In Colab\"/></a>"
      ]
    },
    {
      "metadata": {
        "id": "w6YR4NfG7_DF",
        "colab_type": "text"
      },
      "cell_type": "markdown",
      "source": [
        "#Dynamic Control Tuning\n",
        "\n",
        "<p class='vspace'>Dynamic controller tuning is the process of adjusting certain objective function terms to give more desirable solutions. As an example, a dynamic control application may either exhibit too aggressive manipulated variable movement or be too sluggish during set-point changes. Tuning is the iterative process of finding acceptable values that work over a wide range of operating conditions.\n",
        "</p>\n",
        "<div class='vspace'></div><div><img src='http://apmonitor.com/do/uploads/Main/download.png' alt='' title='' /> <a class='urllink' href='http://apmonitor.com/do/uploads/Main/mpc_tuning_widget.zip' rel='nofollow'>MPC Tuning IPython Widget</a></div>\n",
        "<div class='vspace'></div><div><img src='http://apmonitor.com/do/uploads/Main/mpc_tuning.gif' alt='' title='' /></div>\n",
        "\n",
        "\n",
        "GEKKO Solution will be available soon"
      ]
    },
    {
      "metadata": {
        "id": "RIDnQOL68YBH",
        "colab_type": "text"
      },
      "cell_type": "markdown",
      "source": [
        "##Common Tuning Parameters for MPC\n",
        "<p>Tuning typically involves adjustment of objective function terms or constraints that limit the rate of change (DMAX), penalize the rate of change (DCOST), or set absolute bounds (LOWER and UPPER). Measurement availability is indicated by the parameter (FSTATUS). The optimizer can also include (1=on) or exclude (0=off) a certain manipulated variable (MV) or controlled variable with STATUS. Below are common application, MV, and CV tuning constants that are adjusted to achieve desired model predictive control performance.\n",
        "</p>\n",
        "<div class='vspace'></div><ul><li><a class='urllink' href='https://apmonitor.com/wiki/index.php/Main/DbsGlobal' rel='nofollow'>Application tuning</a>\n",
        "<ul><li>IMODE = 6 or 9 for model predictive control\n",
        "</li><li>CV_TYPE = CV type with 1=l_1-norm, 2=squared error\n",
        "</li><li>DIAGLEVEL = diagnostic level (0-10) for solution information\n",
        "</li><li>MAX_ITER = maximum iterations\n",
        "</li><li>MAX_TIME = maximum time before stopping\n",
        "</li><li>MV_TYPE = Set default MV type with 0=zero-order hold, 1=linear interpolation\n",
        "</li><li>SOLVER\n",
        "<ul><li>0=Try all available solvers\n",
        "</li><li>1=APOPT (MINLP, Active Set SQP)\n",
        "</li><li>2=BPOPT (NLP, Interior Point, SQP)\n",
        "</li><li>3=IPOPT (NLP, Interior Point, SQP) \n",
        "</li></ul></li></ul><div class='vspace'></div></li><li><a class='urllink' href='https://apmonitor.com/wiki/index.php/Main/DbsVariable' rel='nofollow'>Manipulated Variable (MV) tuning</a>\n",
        "<ul><li>COST = (+) minimize MV, (-) maximize MV\n",
        "</li><li>DCOST = penalty for MV movement\n",
        "</li><li>DMAX = maximum that MV can move each cycle\n",
        "</li><li>FSTATUS = feedback status with 1=measured, 0=off \n",
        "</li><li>LOWER = lower MV bound\n",
        "</li><li>MV_TYPE = MV type with 0=zero-order hold, 1=linear interpolation\n",
        "</li><li>STATUS = turn on (1) or off (0) MV\n",
        "</li><li>UPPER = upper MV bound\n",
        "</li></ul><div class='vspace'></div></li><li><a class='urllink' href='https://apmonitor.com/wiki/index.php/Main/DbsVariable' rel='nofollow'>Controlled Variable (CV) tuning</a>\n",
        "<ul><li>COST = (+) minimize CV, (-) maximize CV\n",
        "</li><li>FSTATUS = feedback status with 1=measured, 0=off \n",
        "</li><li>SP = set point with CV_TYPE = 2\n",
        "</li><li>SPLO = lower set point with CV_TYPE = 1\n",
        "</li><li>SPHI = upper set point with CV_TYPE = 1\n",
        "</li><li>STATUS = turn on (1) or off (0) CV\n",
        "</li><li>TAU = reference trajectory time-constant\n",
        "</li><li>TR_INIT = trajectory type, 0=dead-band, 1,2=trajectory\n",
        "</li><li>TR_OPEN = opening at initial point of trajectory compared to end\n",
        "</li></ul></li></ul><p class='vspace'>There are several ways to change the tuning values. Tuning values can either be specified before an application is initialized or while an application is running. To change a tuning value before the application is loaded, use the <em>apm_option()</em> function such as the following example to change the lower bound in MATLAB or Python for the MV named <em>u</em>.\n",
        "</p>\n",
        "<div class='vspace'></div><pre> apm_option(server,app,'u.LOWER',0)\n",
        "</pre><p class='vspace'>The upper and lower deadband targets for a CV named <em>y</em> are set to values around a desired set point of 10.0. In this case, an acceptable range for this CV is between 9.5 and 10.5.\n",
        "</p>\n",
        "<div class='vspace'></div><pre> sp = 10.0\n",
        " apm_option(server,app,'y.SPHI',sp+0.5)\n",
        " apm_option(server,app,'y.SPHI',sp-0.5)\n",
        "</pre><p class='vspace'>Application constants are modified by indicating that the constant belongs to the group <em>nlc</em>. IMODE is adjusted to either solve the MPC problem with a simultaneous (6) or sequential (9) method. In the case below, the application IMODE is changed to simultaneous mode.\n",
        "</p>\n",
        "<div class='vspace'></div><pre> apm_option(server,app,'nlc.IMODE',6)\n",
        "</pre><div class='vspace'></div><h4>Exercise</h4>\n",
        "<p><strong>Objective:</strong> Design a model predictive controller with one manipulated variable and two controlled variables with competing objectives that cannot be simultaneously satisfied. Tune the controller to achieve best performance. <em>Estimated time: 2 hours.</em>\n",
        "</p>\n",
        "<p class='vspace'>Use the following system of linear differential equations for this exercise by placing the model definition in the file <em>myModel.apm</em>.\n",
        "</p>\n",
        "<div class='vspace'></div><pre> Parameters\n",
        "  u\n",
        " Variables\n",
        "  x\n",
        "  y\n",
        " Equations\n",
        "  5 * $x = -x + 1.5 * u\n",
        "  15 * $y = -y + 3.0 * u\n",
        "</pre><p class='vspace'>In this case, the parameter <em>u</em> is the manipulated variable and <em>x</em> and <em>y</em> are the controlled variables. It is desired to maximize <em>x</em> and maintain values between 9 and 10. It is desired to maintain values of <em>y</em> between 2 and 7. For the first 10 minutes, the priority is to maintain the range for <em>y</em> and following this time period, it is desired to track the range for <em>x</em>. Tune the controller to meet these objectives while minimizing MV movement.\n",
        "</p>\n",
        "<div class='vspace'></div><h4>Solution</h4>\n",
        "<div><img src='http://apmonitor.com/do/uploads/Main/download.png' alt='' title='' /> <a class='urllink' href='http://apmonitor.com/do/uploads/Main/mpc_tuning_solution.zip' rel='nofollow'>MPC Tuning Solution</a></div>\n",
        "<div class='vspace'></div>\n",
        "\n",
        "GEKKO Solution will be available soon"
      ]
    },
    {
      "metadata": {
        "id": "E6C8bWrN71GY",
        "colab_type": "code",
        "colab": {
          "base_uri": "https://localhost:8080/",
          "height": 336
        },
        "cellView": "form",
        "outputId": "d0fc0cce-44e1-4333-f269-64afcdf7c041"
      },
      "cell_type": "code",
      "source": [
        "#@title\n",
        "%%html\n",
        "<iframe width=\"560\" height=\"315\" src=\"https://www.youtube.com/embed/JnD6kpOul1c\" frameborder=\"0\" allowfullscreen></iframe>\n"
      ],
      "execution_count": 1,
      "outputs": [
        {
          "output_type": "display_data",
          "data": {
            "text/html": [
              "<iframe width=\"560\" height=\"315\" src=\"https://www.youtube.com/embed/JnD6kpOul1c\" frameborder=\"0\" allowfullscreen></iframe>"
            ],
            "text/plain": [
              "<IPython.core.display.HTML object>"
            ]
          },
          "metadata": {
            "tags": []
          }
        }
      ]
    }
  ]
}