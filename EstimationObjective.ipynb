{
  "nbformat": 4,
  "nbformat_minor": 0,
  "metadata": {
    "colab": {
      "name": "EstimationObjective.ipynb",
      "version": "0.3.2",
      "provenance": [],
      "collapsed_sections": [],
      "toc_visible": true,
      "include_colab_link": true
    },
    "kernelspec": {
      "name": "python3",
      "display_name": "Python 3"
    }
  },
  "cells": [
    {
      "cell_type": "markdown",
      "metadata": {
        "id": "view-in-github",
        "colab_type": "text"
      },
      "source": [
        "<a href=\"https://colab.research.google.com/github/misbahsy/APMonitor-do/blob/master/EstimationObjective.ipynb\" target=\"_parent\"><img src=\"https://colab.research.google.com/assets/colab-badge.svg\" alt=\"Open In Colab\"/></a>"
      ]
    },
    {
      "metadata": {
        "id": "35MGytUalxoI",
        "colab_type": "text"
      },
      "cell_type": "markdown",
      "source": [
        "#Dynamic Estimation Objectives\n",
        "\n",
        "<p class='vspace'>The dynamic estimation objective function is a mathematical statement that is minimized or maximized to find a best solution among all possible feasible solutions. The form of this objective function is critical to give desirable solutions for model predictions but also for other applications that use the output of a dynamic estimation application. Two common objective functions are shown below as squared error and l<sub>1</sub>-norm forms<sup>1</sup>.\n",
        "</p>"
      ]
    },
    {
      "metadata": {
        "id": "k5kTaE3dnxoS",
        "colab_type": "text"
      },
      "cell_type": "markdown",
      "source": [
        "##<h2>Squared Error Objective</h2>\n",
        "<p>The squared error objective is the most common form, used extensively in the literature. It is also the basis for the derivation of the Kalman filter and other well known estimators.\n",
        "</p>\n",
        "<p class='vspace'>$$\\min_{x,y,p} \\Phi = \\left(y_x-y\\right)^T W_x \\left(y_x-y\\right) + \\left(y-\\hat y\\right)^T W_m \\left(y-\\hat y\\right) + \\Delta p^T W_{\\Delta p} \\Delta p$$\n",
        "</p>\n",
        "<p class='vspace'>$$\\mathrm{subject\\;\\;to}$$\n",
        "</p>\n",
        "<p class='vspace'>$$0 = f\\left(\\frac{dx}{dt},x,y,p\\right)$$\n",
        "</p>\n",
        "<p class='vspace'>$$0 \\le g\\left(\\frac{dx}{dt},x,y,p\\right)$$\n",
        "</p>"
      ]
    },
    {
      "metadata": {
        "id": "uKohVYcMnTSW",
        "colab_type": "text"
      },
      "cell_type": "markdown",
      "source": [
        "##<h2>l<sub>1</sub>-norm Objective</h2>\n",
        "<p>The l<sub>1</sub>-norm objective is like an absolute value objective but also includes a dead-band to reject measurement error and stabilize the parameter estimates.\n",
        "</p>\n",
        "\n",
        "<p class='vspace'>$$\\min_{x,y,p} \\Phi = w_x^T \\left(e_U+e_L\\right) + w_m^T \\left(c_U+c_L\\right) + w_{\\Delta p}^T \\left(\\Delta p_U+\\Delta p_L\\right)$$\n",
        "</p>\n",
        "<p class='vspace'>$$\\mathrm{subject\\;\\;to}$$\n",
        "</p>\n",
        "<p class='vspace'>$$0 = f\\left(\\frac{dx}{dt},x,y,p\\right)$$\n",
        "</p>\n",
        "<p class='vspace'>$$0 \\le g\\left(\\frac{dx}{dt},x,y,p\\right)$$\n",
        "</p>\n",
        "<p class='vspace'>$$e_U \\ge y - y_x - \\frac{db}{2}$$\n",
        "</p>\n",
        "<p class='vspace'>$$e_L \\ge y_x - y - \\frac{db}{2}$$\n",
        "</p>\n",
        "<p class='vspace'>$$c_U \\ge y - \\hat y$$\n",
        "</p>\n",
        "<p class='vspace'>$$c_L \\ge \\hat y - y$$\n",
        "</p>\n",
        "<p class='vspace'>$$\\Delta p_U \\ge p_i - p_{i-1}$$\n",
        "</p>\n",
        "<p class='vspace'>$$\\Delta p_L \\ge p_{i-1} - p_i$$\n",
        "</p>\n",
        "<p class='vspace'>$$e_U, e_L, c_U, c_L, \\Delta p_U, \\Delta p_L \\ge 0$$\n",
        "</p>\n",
        "<p class='vspace'>The l<sub>1</sub>-norm objective is like an absolute value of the error but posed in a way to have continuous first and second derivatives. The addition of <a class='urllink' href='https://apmonitor.com/wiki/index.php/Main/SlackVariables' rel='nofollow'>slack variables</a> enables an efficient formulation (only linear constraints) that is also convex (local optimum is the global optimum). A unique aspect of the following l<sub>1</sub>-norm objective is the addition of a <em>dead-band</em> or region around the measurements where there is no penalty. It is only when the model predictions are outside of this dead-band that the optimizer makes changes to the parameters to correct the model.\n",
        "</p>"
      ]
    },
    {
      "metadata": {
        "id": "nlpx8wg2oVmB",
        "colab_type": "text"
      },
      "cell_type": "markdown",
      "source": [
        "##<h2>Nomenclature</h2>\n",
        "<p>There are many symbols used in the definition of the different objective function forms. Below is a nomenclature table that gives a description of each variable and the role in the objective expression.\n",
        "</p>\n",
        "<p class='vspace'>$$\\Phi=\\mathrm{Objective\\,Function}$$\n",
        "</p>\n",
        "<p class='vspace'>$$y_x=\\mathrm{measurements}$$\n",
        "</p>\n",
        "<p class='vspace'>$$y=\\mathrm{model\\,predictions}$$\n",
        "</p>\n",
        "<p class='vspace'>$$\\hat y=\\mathrm{prior\\,model\\,values}$$\n",
        "</p>\n",
        "<p class='vspace'>$$w_x, W_x=\\mathrm{measurement\\,deviation\\,penalty\\,(WMEAS)}$$\n",
        "</p>\n",
        "<p class='vspace'>$$w_m, W_m=\\mathrm{prior\\,prediction\\,deviation\\,penalty\\,(WMODEL)}$$\n",
        "</p>\n",
        "<p class='vspace'>$$w_{\\Delta p},W_{\\Delta p}=\\mathrm{parameter\\,movement\\,penalty\\,(DCOST)}$$\n",
        "</p>\n",
        "<p class='vspace'>$$db=\\mathrm{dead-band\\,for\\,noise\\,rejection}$$\n",
        "</p>\n",
        "<p class='vspace'>$$x,y,p=\\mathrm{states,\\,outputs,\\,parameters}$$\n",
        "</p>\n",
        "<p class='vspace'>$$\\Delta p=\\mathrm{parameter\\,change}$$\n",
        "</p>\n",
        "<p class='vspace'>$$f,g=\\mathrm{equality\\,and\\,inequality\\,constraints}$$\n",
        "</p>\n",
        "<p class='vspace'>$$e_U,e_L=\\mathrm{upper\\,and\\,lower\\,error\\,outside\\,dead-band}$$\n",
        "</p>\n",
        "<p class='vspace'>$$c_U,c_L=\\mathrm{upper\\,and\\,lower\\,deviation\\,from\\,prior\\,model\\,prediction}$$\n",
        "</p>\n",
        "<p class='vspace'>$$\\Delta p_U,\\Delta p_L=\\mathrm{upper\\,and\\,lower\\,parameter\\,change}$$\n",
        "</p>\n",
        "<p class='vspace'>The following example problem is a demonstration of the two different objective forms and some of the configuration to achieve optimal estimator performance.\n",
        "</p>\n",
        "<div class='vspace'></div><div><img src='http://apmonitor.com/do/uploads/Main/download.png' alt='' title='' /> <a class='urllink' href='http://apmonitor.com/do/uploads/Main/motion_estimation.zip' rel='nofollow'>Motion Estimation from GPS Position (1D Example)</a></div>\n",
        "\n"
      ]
    },
    {
      "metadata": {
        "id": "MuLmUL_GmdY7",
        "colab_type": "code",
        "cellView": "form",
        "outputId": "5eeb58b3-2ee1-4bdf-b024-0dee23479666",
        "colab": {
          "base_uri": "https://localhost:8080/",
          "height": 336
        }
      },
      "cell_type": "code",
      "source": [
        "#@title\n",
        "%%html\n",
        "<iframe width=\"560\" height=\"315\" src=\"https://www.youtube.com/embed/5qY7WyngRbo\" frameborder=\"0\" allowfullscreen></iframe>\n"
      ],
      "execution_count": 0,
      "outputs": [
        {
          "output_type": "display_data",
          "data": {
            "text/html": [
              "<iframe width=\"560\" height=\"315\" src=\"https://www.youtube.com/embed/5qY7WyngRbo\" frameborder=\"0\" allowfullscreen></iframe>"
            ],
            "text/plain": [
              "<IPython.core.display.HTML object>"
            ]
          },
          "metadata": {
            "tags": []
          }
        }
      ]
    },
    {
      "metadata": {
        "id": "wKEKYv-7pdD3",
        "colab_type": "text"
      },
      "cell_type": "markdown",
      "source": [
        "##<h2>Exercise</h2>\n",
        "<p><strong>Objective:</strong> Estimate parameters of a highly nonlinear system. Use an initialization strategy to find a suitable approximation for the parameter estimation. Create a MATLAB or Python script to simulate and display the results. <em>Estimated Time: 2 hours</em>\n",
        "</p>\n",
        "<p class='vspace'>The spread of HIV in a patient is approximated with balance equations on (H)ealthy, (I)nfected, and (V)irus population counts<sup>2</sup>.\n",
        "</p>\n",
        "<div class='vspace'></div><pre> Initial Conditions\n",
        " H = healthy cells = 1,000,000\n",
        " I = infected cells = 0\n",
        " V = virus = 100\n",
        " LV = log virus = 2\n",
        "\n",
        " Equations\n",
        " dH/dt = kr<sub>1</sub> - kr<sub>2</sub> H - kr<sub>3</sub> H V\n",
        " dI/dt = kr<sub>3</sub> H V - kr<sub>4</sub> I\n",
        " dV/dt = -kr<sub>3</sub> H V - kr<sub>5</sub> V + kr<sub>6</sub> I\n",
        " LV = log<sub>10</sub>(V)\n",
        "</pre><p class='vspace'>There are six parameters (kr<sub>1..6</sub>) in the model that provide the rates of cell death, infection spread, virus replication, and other processes that determine the spread of HIV in the body.\n",
        "</p>\n",
        "<div class='vspace'></div><pre> Parameters\n",
        " kr<sub>1</sub> = new healthy cells\n",
        " kr<sub>2</sub> = death rate of healthy cells\n",
        " kr<sub>3</sub> = healthy cells converting to infected cells\n",
        " kr<sub>4</sub> = death rate of infected cells\n",
        " kr<sub>5</sub> = death rate of virus\n",
        " kr<sub>6</sub> = production of virus by infected cells\n",
        "</pre><p class='vspace'>The following data is provided from a virus count over the course of 15 years. Note that the virus count information is reported in log scale.\n",
        "</p>\n",
        "<div class='vspace'></div><div><img src='http://apmonitor.com/do/uploads/Main/download.png' alt='' title='' /> <a class='urllink' href='http://apmonitor.com/do/uploads/Main/data_hiv.zip' rel='nofollow'>HIV Data and Model Files</a></div>\n",
        "<div class='vspace'></div><div><img src='http://apmonitor.com/do/uploads/Main/hiv_virus_count.png' alt='' title='' /></div>\n",
        "<p class='vspace'>With guess values for parameters (kr<sub>1..6</sub>), approximately match the laboratory data for this patient as an initial solution. Use this initial solution to compute an optimal solution with dynamic estimation. Adjust parameters kr<sub>1..6</sub> to match the virus count data. Start with different kr values to verify that the solution is not just locally optimal but also globally optimal.\n",
        "</p>"
      ]
    },
    {
      "metadata": {
        "id": "zGGPUMLnpva_",
        "colab_type": "text"
      },
      "cell_type": "markdown",
      "source": [
        "##<h2>Solution</h2>\n",
        "<div><img src='http://apmonitor.com/do/uploads/Main/download.png' alt='' title='' /> <a class='urllink' href='http://apmonitor.com/do/uploads/Main/estimate_hiv.zip' rel='nofollow'>HIV Estimation in MATLAB and Python</a></div>"
      ]
    },
    {
      "metadata": {
        "id": "_eeh1NLpo-Rq",
        "colab_type": "code",
        "cellView": "form",
        "outputId": "603288ff-08f6-4a75-b0d6-34dd31cc99ed",
        "colab": {
          "base_uri": "https://localhost:8080/",
          "height": 336
        }
      },
      "cell_type": "code",
      "source": [
        "#@title\n",
        "%%html\n",
        "<iframe width=\"560\" height=\"315\" src=\"https://www.youtube.com/embed/KuivI_QZ0IA?rel=0\" frameborder=\"0\" allowfullscreen></iframe>\n"
      ],
      "execution_count": 0,
      "outputs": [
        {
          "output_type": "display_data",
          "data": {
            "text/html": [
              "<iframe width=\"560\" height=\"315\" src=\"https://www.youtube.com/embed/KuivI_QZ0IA?rel=0\" frameborder=\"0\" allowfullscreen></iframe>"
            ],
            "text/plain": [
              "<IPython.core.display.HTML object>"
            ]
          },
          "metadata": {
            "tags": []
          }
        }
      ]
    },
    {
      "metadata": {
        "id": "cZlnKTGEp2N3",
        "colab_type": "code",
        "cellView": "form",
        "colab": {}
      },
      "cell_type": "code",
      "source": [
        "#@title Solution in GEKKO\n",
        "\n",
        "try:\n",
        "    from pip import main as pipmain\n",
        "except:\n",
        "    from pip._internal import main as pipmain\n",
        "pipmain(['install','gekko'])\n",
        "\n",
        "from __future__ import division\n",
        "from gekko import GEKKO\n",
        "import numpy as np\n",
        "\n",
        "# Manually enter guesses for parameters\n",
        "lkr = [3,np.log10(0.1),np.log10(2e-7),\\\n",
        "       np.log10(0.5),np.log10(5),np.log10(100)]\n",
        "\n",
        "# Model\n",
        "m = GEKKO()\n",
        "\n",
        "# Time\n",
        "m.time = np.linspace(0,15,61)\n",
        "# Parameters to estimate\n",
        "lg10_kr = [m.FV(value=lkr[i]) for i in range(6)]\n",
        "# Variables\n",
        "kr = [m.Var() for i in range(6)]\n",
        "H = m.Var(value=1e6)\n",
        "I = m.Var(value=0)\n",
        "V = m.Var(value=1e2)\n",
        "# Variable to match with data\n",
        "LV = m.CV(value=2)\n",
        "# Equations\n",
        "m.Equations([10**lg10_kr[i]==kr[i] for i in range(6)])\n",
        "m.Equations([H.dt() == kr[0] - kr[1]*H - kr[2]*H*V,\n",
        "             I.dt() == kr[2]*H*V - kr[3]*I,\n",
        "             V.dt() == -kr[2]*H*V - kr[4]*V + kr[5]*I, \n",
        "             LV == m.log10(V)])\n",
        "\n",
        "\n",
        "# Estimation\n",
        "\n",
        "# Global options\n",
        "m.options.IMODE = 5 #switch to estimation\n",
        "m.options.TIME_SHIFT = 0 #don't timeshift on new solve\n",
        "m.options.EV_TYPE = 2 #l2 norm\n",
        "m.options.COLDSTART = 2\n",
        "m.options.SOLVER = 1\n",
        "m.options.MAX_ITER = 1000\n",
        "\n",
        "m.solve()\n",
        "\n",
        "for i in range(5):\n",
        "    lg10_kr[i].STATUS = 1 #Allow optimizer to fit these values\n",
        "    lg10_kr[i].DMAX = 2\n",
        "    lg10_kr[i].LOWER = -10\n",
        "    lg10_kr[i].UPPER = 10\n",
        "\n",
        "# patient virus count data\n",
        "data = np.array([[0,1.20E+00],[0.25,1.67E+00],[0.5,2.06E+00],\\\n",
        "                [0.75,2.05E+00],[1,3.57E+00],[1.25,2.96E+00],\\\n",
        "                [1.5,2.95E+00],[1.75,3.48E+00],[2,3.27E+00], \\\n",
        "                [2.25,2.98E+00],[2.5,4.17E+00],[2.75,4.41E+00],\\\n",
        "                [3,4.16E+00],[3.25,3.94E+00],[3.5,4.44E+00],\\\n",
        "                [3.75,4.60E+00],[4,5.15E+00],[4.25,5.34E+00],\\\n",
        "                [4.5,6.56E+00],[4.75,5.16E+00],[5,6.63E+00],\\\n",
        "                [5.25,6.60E+00],[5.5,6.59E+00],[5.75,6.28E+00],\\\n",
        "                [6,6.79E+00],[6.25,6.81E+00],[6.5,7.16E+00],\\\n",
        "                [6.75,7.06E+00],[7,7.19E+00],[7.25,6.07E+00],\\\n",
        "                [7.5,6.67E+00],[7.75,6.97E+00],[8,6.51E+00],\\\n",
        "                [8.25,6.48E+00],[8.5,7.44E+00],[8.75,7.98E+00],\\\n",
        "                [9,6.71E+00],[9.25,6.98E+00],[9.5,7.60E+00],\\\n",
        "                [9.75,5.62E+00],[10,7.04E+00],[10.25,7.31E+00],\\\n",
        "                [10.5,5.08E+00],[10.75,6.62E+00],[11,6.48E+00],\\\n",
        "                [11.25,6.91E+00],[11.5,6.44E+00],[11.75,6.85E+00],\\\n",
        "                [12,7.09E+00],[12.25,6.20E+00],[12.5,7.02E+00],\\\n",
        "                [12.75,7.34E+00],[13,6.57E+00],[13.25,6.42E+00],\\\n",
        "                [13.5,6.50E+00],[13.75,6.46E+00],[14,6.42E+00],\\\n",
        "                [14.25,7.09E+00],[14.5,7.37E+00],[14.75,6.56E+00],\\\n",
        "                [15,6.69E+00]])\n",
        "\n",
        "# Convert log-scaled data for plotting\n",
        "log_v = data[:,1] # 2nd column of data\n",
        "v = np.power(10,log_v)\n",
        "\n",
        "LV.FSTATUS = 1 #receive measurements to fit\n",
        "LV.STATUS = 1 #build objective function to match data and prediction\n",
        "LV.value = log_v #v data\n",
        "\n",
        "m.solve()\n",
        "\n",
        "\n",
        "# Plot results\n",
        "import matplotlib.pyplot as plt\n",
        "plt.figure(1)\n",
        "plt.semilogy(m.time,H,'b-')\n",
        "plt.semilogy(m.time,I,'g:')\n",
        "plt.semilogy(m.time,V,'r--')\n",
        "plt.semilogy(data[:,][:,0],v,'ro')\n",
        "plt.xlabel('Time (yr)')\n",
        "plt.ylabel('States (log scale)')\n",
        "plt.legend(['H','I','V'])\n",
        "plt.show()"
      ],
      "execution_count": 0,
      "outputs": []
    }
  ]
}