{
  "nbformat": 4,
  "nbformat_minor": 0,
  "metadata": {
    "colab": {
      "name": "DynamicModeling.ipynb",
      "version": "0.3.2",
      "provenance": [],
      "collapsed_sections": [],
      "toc_visible": true,
      "include_colab_link": true
    },
    "kernelspec": {
      "name": "python3",
      "display_name": "Python 3"
    }
  },
  "cells": [
    {
      "cell_type": "markdown",
      "metadata": {
        "id": "view-in-github",
        "colab_type": "text"
      },
      "source": [
        "<a href=\"https://colab.research.google.com/github/misbahsy/APMonitor-do/blob/master/DynamicModeling.ipynb\" target=\"_parent\"><img src=\"https://colab.research.google.com/assets/colab-badge.svg\" alt=\"Open In Colab\"/></a>"
      ]
    },
    {
      "metadata": {
        "id": "UDprd-pEApHZ",
        "colab_type": "text"
      },
      "cell_type": "markdown",
      "source": [
        "#Introduction to Dynamic Modeling\n",
        "\n",
        "<p class='vspace'>The focus of this course is on modeling, simulation, estimation, and optimization of dynamic systems. This section of the course starts with dynamic modeling or methods to mathematically describe time-evolving systems, particularly for the purpose of dynamic optimization in engineering disciplines. The examples are particularly focused on engineering applications although much of the theory and applications can also be applied to other fields as well.\n",
        "</p>\n",
        "<div class='vspace'></div><ul><li><a class='urllink' href='http://apmonitor.com/do/uploads/Main/Intro_Dynamic_Modeling.pdf' rel='nofollow'>Introduction to Dynamic Modeling (pdf)</a>\n",
        "</li></ul><div class='vspace'></div>"
      ]
    },
    {
      "metadata": {
        "id": "yYDZf3BfGRaO",
        "colab_type": "code",
        "cellView": "form",
        "outputId": "a0c86843-2ff3-4b1e-d863-9ef752b519a9",
        "colab": {
          "base_uri": "https://localhost:8080/",
          "height": 336
        }
      },
      "cell_type": "code",
      "source": [
        "#@title\n",
        "%%html\n",
        "<iframe width=\"560\" height=\"315\" src=\"https://www.youtube.com/embed/VRs9gX6r1Ng?rel=0\" frameborder=\"0\" allowfullscreen></iframe>"
      ],
      "execution_count": 0,
      "outputs": [
        {
          "output_type": "display_data",
          "data": {
            "text/html": [
              "<iframe width=\"560\" height=\"315\" src=\"https://www.youtube.com/embed/VRs9gX6r1Ng?rel=0\" frameborder=\"0\" allowfullscreen></iframe>"
            ],
            "text/plain": [
              "<IPython.core.display.HTML object>"
            ]
          },
          "metadata": {
            "tags": []
          }
        }
      ]
    },
    {
      "metadata": {
        "id": "qcOKlBmJG0KL",
        "colab_type": "text"
      },
      "cell_type": "markdown",
      "source": [
        "<p class='vspace'>The discussion starts with modeling because a reasonably accurate model of the system must first be created to approximate input to output relationships between values that can be adjusted (inputs) and those values that are used to judge the desirability of solution (outputs).\n",
        "</p>\n",
        "\n"
      ]
    },
    {
      "metadata": {
        "colab_type": "text",
        "id": "QtitZZXlB3c_"
      },
      "cell_type": "markdown",
      "source": [
        "## Dynamic Systems\n",
        "\n",
        "Dynamic systems can often be described with differential equations. The equations can either be derived empirically from data or from fundamental relationships. One example of fundamental relationships are equations of motion for an object in a friction-less environment in one dimension. In this case velocity (v) is the equal to the time-derivative of position (y) and acceleration (a) is the time-derivative of velocity.\n",
        "\n",
        "$dy/dt = v$\n",
        "\n",
        "$dv/dt = a$\n",
        "\n",
        "The above differential equations are expressed in semi-explicit form where the derivative terms are isolated on the left side of the equation and all other variables are on the right side of the expression. A more general notation for the semi-explicit form is dx/dt = f(x,p) where f(x,p) is any combination of variables (x) or parameters (p). Variables (x) are those values that are determined by the solution of the equations while parameters (p) are those quantities that are either specified by a user or determined by an optimizer. A more general form for differential equations is the open-equation format as f(dx/dt,x,p)=0 where all terms are brought to one side of the equation.\n",
        "\n",
        "\n",
        "$ dx/dt = f(x,p) $, Semi-Explicit Form\n",
        "\n",
        " $f(dx/dt,x,p)=0$, Open Equation Form\n",
        " \n",
        " \n",
        "\n",
        "In the case of the object motion, the acceleration is not typically manipulated directly but may be adjusted by a force that is acting on that object. The relationship between acceleration (a) and force (F) includes another parameter, the mass of the object (m). There are now three equations that describe the motion of the system and relate force (F) to acceleration (a), velocity (v), and position (y).\n",
        "\n",
        "$F = m a$\n",
        "\n",
        " $dy/dt = v$\n",
        " \n",
        " $dv/dt = a$\n",
        " \n",
        "The equation F = m a is an algebraic equation with no differential terms. While it would be simple to eliminate a from the equation by substituting for F/m, suppose that it is not possible or convenient to rearrange the equations to eliminate the algebraic expressions. This collection of equations is now referred to as Differential Algebraic Equations (DAEs). When there are no algebraic expressions, the system of equations are simplified to Ordinary Differential Equations (ODEs). If the differential equations have spatial and temporal derivatives, they become Partial Differential Equations (PDEs). For the purpose of this modeling discussion, any PDEs are discretized in space to return to ODE or DAE form where only time derivatives (not spatial derivatives) are present."
      ]
    },
    {
      "metadata": {
        "colab_type": "text",
        "id": "PQsF-7_VB3WG"
      },
      "cell_type": "markdown",
      "source": [
        "##Dynamic versus Steady State\n",
        "\n",
        "Dynamic systems are those where values that describe the system are expected to evolve over time and not necessarily remain at a steady state. When a dynamic system is at steady state, all time derivative values are either set to zero (dx/dt=0) or do not otherwise appear in the equations.\n",
        "\n",
        "**Steady state: Values (x) do not change with time**\n",
        "\n",
        "**Dynamic: At least one value (x) changes with time**\n",
        "\n",
        "For physical systems the values of x may be measured at specific times. For virtual or simulated dynamic systems there can either be analytic solutions or a numerical solution."
      ]
    },
    {
      "metadata": {
        "colab_type": "text",
        "id": "P9FkC3sfB3OQ"
      },
      "cell_type": "markdown",
      "source": [
        "##Analytic Solution\n",
        "\n",
        "An exact solution x(t) may exist from an analytic approach to solving the differential equations. In the in example case, the solution is found by integrating both sides of the differential equations. With the object initially at rest, this translates to zero initial conditions. An initial condition must be specified for each differential variable (those variables that appear in differential terms). In this case, the acceleration a is determined by the first equation but does not appear in differential form such as da/dt. Values of the parameters must be specified over the selected integration time horizon. The time horizon spans from the initial time where the initial conditions are specified to a future time tf. Suppose there is a constant force (F=5) applied to the body starting at t0=0. The analytic solution is then solved as a function of time.\n",
        "\n",
        " $a = F/m$\n",
        " \n",
        " $v = a t + v0$\n",
        " \n",
        "$y = a t2/2 + v0 t + y0$\n",
        "\n",
        "Notice that the initial condition for acceleration (a0) does not appear in the solution but initial conditions for velocity (v0) and position (y0) do influence the solution. If the force (F) changes at any time in the future, the time horizon is divided into separate segments where the force is constant. The first segment is computed and the final values become the initial values for the next segment."
      ]
    },
    {
      "metadata": {
        "colab_type": "text",
        "id": "vcBOKg_nB3GI"
      },
      "cell_type": "markdown",
      "source": [
        "##Numerical Solution\n",
        "\n",
        "Another method to solve dynamic system is with a numerical approach that approximates the exact solution x(t) at discrete time intervals, much like measuring a physical system at particular time points. The numerical approach is able to solve much larger and more complex systems of equations, especially when the exact analytic solution does not exist. One drawback to numerical solutions is that the accuracy of the solution is not exact and depends on factors such as the discretization methods employed and the error tolerance of the solver before convergence is confirmed.\n",
        "\n",
        "~~Excel~~, ~~MATLAB~~, Python, ~~and Simulink~~ are used in the following example to solve the differential equation that describes the velocity of a vehicle."
      ]
    },
    {
      "metadata": {
        "id": "_6UITfbBKHgw",
        "colab_type": "code",
        "cellView": "form",
        "outputId": "f6c13ddf-004e-4fd6-fe81-4aa5dde034d4",
        "colab": {
          "base_uri": "https://localhost:8080/",
          "height": 372
        }
      },
      "cell_type": "code",
      "source": [
        "#@markdown Solution Video\n",
        "\n",
        "%%html\n",
        "<div class='vspace'></div><div><img src='http://apmonitor.com/do/uploads/Main/download.png' alt='' title='' /> <a class='urllink' href='http://apmonitor.com/do/uploads/Main/simulate_vehicle.zip' rel='nofollow'>Simulate with Excel, MATLAB, Python, and Simulink</a></div>\n",
        "<div class='vspace'></div>\n",
        "<iframe width=\"560\" height=\"315\" src=\"https://www.youtube.com/embed/y0ERNz5Kms8?rel=0\" frameborder=\"0\" allowfullscreen></iframe>\n"
      ],
      "execution_count": 0,
      "outputs": [
        {
          "output_type": "display_data",
          "data": {
            "text/html": [
              "<div class='vspace'></div><div><img src='http://apmonitor.com/do/uploads/Main/download.png' alt='' title='' /> <a class='urllink' href='http://apmonitor.com/do/uploads/Main/simulate_vehicle.zip' rel='nofollow'>Simulate with Excel, MATLAB, Python, and Simulink</a></div>\n",
              "<div class='vspace'></div>\n",
              "<iframe width=\"560\" height=\"315\" src=\"https://www.youtube.com/embed/y0ERNz5Kms8?rel=0\" frameborder=\"0\" allowfullscreen></iframe>"
            ],
            "text/plain": [
              "<IPython.core.display.HTML object>"
            ]
          },
          "metadata": {
            "tags": []
          }
        }
      ]
    },
    {
      "metadata": {
        "id": "tceFySPFH8K_",
        "colab_type": "code",
        "cellView": "form",
        "outputId": "68ac11c8-7ceb-43e0-d3e9-dda1180336ac",
        "colab": {
          "base_uri": "https://localhost:8080/",
          "height": 361
        }
      },
      "cell_type": "code",
      "source": [
        "#@markdown Solution using python ODEINT\n",
        "import numpy as np\n",
        "import matplotlib.pyplot as plt\n",
        "from scipy.integrate import odeint\n",
        "\n",
        "def vehicle(v,t,p):\n",
        "    m = 500 # Mass (kg)\n",
        "    b = 50  # Resistive coefficient (N-s/m)  \n",
        "    K = 1.0 # Gain (m/s-%pedal)\n",
        "    \n",
        "    # calculate derivative of the velocity\n",
        "    dv_dt = (b/m) * (-v + (K *p))\n",
        "    return dv_dt\n",
        "\n",
        "tf = 60.0                 # final time for simulation\n",
        "nsteps = 61               # number of time steps\n",
        "delta_t = tf/(nsteps-1)   # how long is each time step?\n",
        "ts = np.linspace(0,tf,nsteps) # linearly spaced time vector\n",
        "\n",
        "# simulate step test operation\n",
        "step = np.zeros(nsteps) # u = valve % open\n",
        "step[11:] = 50.0       # step up pedal position\n",
        "\n",
        "#time\n",
        "t = [0.0,delta_t]\n",
        "\n",
        "# velocity initial condition\n",
        "v0 = 0.0\n",
        "\n",
        "# for storing the results\n",
        "vs = np.zeros(nsteps)\n",
        "\n",
        "# simulate with ODEINT\n",
        "for i in range(nsteps-1):\n",
        "    p = step[i]\n",
        "    v = odeint(vehicle,v0,t,args=(p,))\n",
        "    v0 = v[-1]   # take the last value\n",
        "    vs[i+1] = v0 # store the velocity for plotting\n",
        "  \n",
        "# plot results\n",
        "plt.figure()\n",
        "\n",
        "plt.subplot(2,1,1)\n",
        "plt.plot(ts,vs,'b-',linewidth=3)\n",
        "plt.ylabel('Velocity (m/s)')\n",
        "plt.legend(['Velocity'],loc=2)\n",
        "plt.subplot(2,1,2)\n",
        "plt.plot(ts,step,'r--',linewidth=3)\n",
        "plt.ylabel('Gas Pedal')    \n",
        "plt.legend(['Gas Pedal (%)'])\n",
        "plt.xlabel('Time (sec)')\n",
        "plt.show()"
      ],
      "execution_count": 0,
      "outputs": [
        {
          "output_type": "display_data",
          "data": {
            "image/png": "[encoded data removed]",
            "text/plain": [
              "<Figure size 576x396 with 2 Axes>"
            ]
          },
          "metadata": {
            "tags": []
          }
        }
      ]
    },
    {
      "metadata": {
        "id": "PHo-k08DvA65",
        "colab_type": "text"
      },
      "cell_type": "markdown",
      "source": [
        "##Mathematical Description of Dynamic Systems\n",
        "\n",
        "Models are not just equations but are collections of assumptions, mathematical expressions, boundary conditions, initial conditions, and constraints. These mathematical expressions can range from a simple equation of motion for an object in a frictionless environment to complex systems that describe multi-body physics and interactions. A standard model form is shown below:\n",
        "\n",
        " $0 = f(dx/dt,x,p)$\n",
        " \n",
        " $0 < g(dx/dt,x,p)$\n",
        "\n",
        "In this case, the differential and algebraic equations are condensed into $f(dx/dt,x)$ and any algebraic expressions simply omit the derivative terms. Expressions may either be equality (f) or inequality (g) constraints.\n"
      ]
    },
    {
      "metadata": {
        "id": "KNuBmdELvbvK",
        "colab_type": "text"
      },
      "cell_type": "markdown",
      "source": [
        "#Exercise\n",
        "\n",
        "**Objective:** Provide a basic introduction to dynamic system modeling and simulation with the equations of motion. Create a MATLAB (ode23, ode15s, etc) or Python (ODEINT) script to simulate and display the results. Simulate with APM MATLAB, APM Python, or Python GEKKO as well. Compare the sequential (ODE integrators in MATLAB / Python) versus the simultaneous method (APMonitor). Observe how the number of time points in APMonitor affects the solution accuracy. \n",
        "\n",
        "*Estimated Time: 1 hour*\n",
        "\n",
        "Predict the position and velocity of a skydiver in two dimensions (horizontal and vertical) from the time of the initial jump through the first 90 seconds. At 60 seconds after the jump, the skydiver pulls the chute and the drag coefficient increases to slow the decent. The airplane is flying at a constant altitude of 5000 meters and 50 m/s when the skydiver jumps. The drag coefficient is 0.2 N-s2/m2 while free-falling and 10 N-s2/m2 with the parachute open. The gravitational constant is 9.8 m/s2 and the mass is 80 kg for the skydiver and chute.\n",
        "\n"
      ]
    },
    {
      "metadata": {
        "id": "KRRiHTN6u4zx",
        "colab_type": "code",
        "cellView": "form",
        "outputId": "fce9620d-6791-478f-d8df-4a44bbf77b4f",
        "colab": {
          "base_uri": "https://localhost:8080/",
          "height": 372
        }
      },
      "cell_type": "code",
      "source": [
        "#@markdown ##Solution\n",
        "\n",
        "%%html\n",
        "<div><img src='http://apmonitor.com/do/uploads/Main/download.png' alt='' title='' /> <a class='urllink' href='http://apmonitor.com/do/uploads/Main/simulate_skydiver.zip' rel='nofollow'>Skydiver Simulation in MATLAB and Python</a></div>\n",
        "<div class='vspace'></div>\n",
        "<iframe width=\"560\" height=\"315\" src=\"https://www.youtube.com/embed/2FeOaGUQwKA?rel=0\" frameborder=\"0\" allowfullscreen></iframe>\n"
      ],
      "execution_count": 0,
      "outputs": [
        {
          "output_type": "display_data",
          "data": {
            "text/html": [
              "<div><img src='http://apmonitor.com/do/uploads/Main/download.png' alt='' title='' /> <a class='urllink' href='http://apmonitor.com/do/uploads/Main/simulate_skydiver.zip' rel='nofollow'>Skydiver Simulation in MATLAB and Python</a></div>\n",
              "<div class='vspace'></div>\n",
              "<iframe width=\"560\" height=\"315\" src=\"https://www.youtube.com/embed/2FeOaGUQwKA?rel=0\" frameborder=\"0\" allowfullscreen></iframe>"
            ],
            "text/plain": [
              "<IPython.core.display.HTML object>"
            ]
          },
          "metadata": {
            "tags": []
          }
        }
      ]
    },
    {
      "metadata": {
        "id": "dzC7o4bMwvZF",
        "colab_type": "text"
      },
      "cell_type": "markdown",
      "source": [
        "This problem can also be solved with an ODE integrator such as Python's ODEINT function in SciPy.Integrate or MATLAB's ode23 function. The focus of this class is on solving dynamic optimization problems where ODE integrators are not suitable because of the inefficiencies of shooting methods. Regardless, it is valuable to know how to use ODE integrators for simulation. Below is the source code in ~~MATLAB and~~ Python."
      ]
    },
    {
      "metadata": {
        "id": "-d5O9Lb5wn3F",
        "colab_type": "code",
        "cellView": "form",
        "outputId": "0dd6b185-bf71-4ece-c2ee-141aba67b610",
        "colab": {
          "base_uri": "https://localhost:8080/",
          "height": 361
        }
      },
      "cell_type": "code",
      "source": [
        "#@markdown Solution using python ODEINT\n",
        "\n",
        "\n",
        "### Sequential method with SciPy.integrate.odeint\n",
        "import numpy as np\n",
        "from scipy.integrate import odeint\n",
        "from apm import *\n",
        "\n",
        "def skydive(z,t):\n",
        "    # constants\n",
        "    g = 9.81 # m/s^2, gravitational constant\n",
        "    m = 80   # kg, mass of skydiver and pack\n",
        "    if t<61:\n",
        "        c = 0.2  # N-s^2/m^2, drag coefficient, chute closed\n",
        "    else:\n",
        "        c = 10.0 # N-s^2/m^2, drag coefficient, chute open\n",
        "\n",
        "    # states (z)\n",
        "    x = z[0]  # meters, horizontal position \n",
        "    y = z[1]  # meters, vertical position / elevation\n",
        "    vx = z[2] # m/s, skydiver horizontal velocity = airplane velocity\n",
        "    vy = z[3] # m/s, skydiver vertical velocity\n",
        "\n",
        "    # derived values\n",
        "    v = np.sqrt(vx**2+vy**2) # m/s, magnitude of velocity\n",
        "    Fx = -c * vx**2\n",
        "    Fy = -m*g + c*vy**2\n",
        "\n",
        "    # calculate derivatives\n",
        "    dxdt = vx\n",
        "    dydt = vy\n",
        "    dvxdt = Fx / m\n",
        "    dvydt = Fy / m\n",
        "    dzdt = [dxdt,dydt,dvxdt,dvydt]    \n",
        "\n",
        "    return dzdt\n",
        "\n",
        "# initial conditions\n",
        "z0 = [0,5000,50,0]\n",
        "# time points\n",
        "t = np.linspace(0,90,91)\n",
        "# solve\n",
        "z1 = odeint(skydive,z0,t)\n",
        "\n",
        "# parse results\n",
        "x = z1[:,0]\n",
        "y = z1[:,1]\n",
        "vx = z1[:,2]\n",
        "vy = z1[:,3]\n",
        "v = np.sqrt(vx**2+vy**2)\n",
        "\n",
        "\n",
        "\n",
        "# ### Simultaneous method with APMonitor\n",
        "# install and load APMonitor\n",
        "# try:\n",
        "#     from APMonitor import *\n",
        "# except:\n",
        "#     import pip\n",
        "#     pip.main(['install','APMonitor'])    \n",
        "#     from APMonitor import *\n",
        "\n",
        "# # solve model\n",
        "# z2 = apm_solve('skydiver',7)\n",
        "\n",
        "\n",
        "### Plot results\n",
        "import matplotlib.pyplot as plt\n",
        "\n",
        "plt.figure(1)\n",
        "plt.subplot(2,1,1)\n",
        "plt.plot(t,x,'r-',linewidth=2)\n",
        "plt.plot(t,y,'b-',linewidth=2)\n",
        "#plt.plot(z2['time'],z2['x'],'r:',linewidth=3)\n",
        "#plt.plot(z2['time'],z2['y'],'b--',linewidth=3)\n",
        "plt.ylabel('Position (m)')\n",
        "plt.legend(['ODEINT x','ODEINT y','APM x','APM y'])\n",
        "\n",
        "plt.subplot(2,1,2)\n",
        "plt.plot(t,vx,'r-',linewidth=2)\n",
        "plt.plot(t,vy,'b-',linewidth=2)\n",
        "plt.plot(t,v,'k-',linewidth=2)\n",
        "#plt.plot(z2['time'],z2['vx'],'r--',linewidth=3)\n",
        "#plt.plot(z2['time'],z2['vy'],'b--',linewidth=3)\n",
        "#plt.plot(z2['time'],z2['v'],'k--',linewidth=3)\n",
        "plt.xlabel('Time (sec)')\n",
        "plt.ylabel('Velocity (m/s)')\n",
        "plt.legend(['ODEINT V_x','ODEINT V_y','ODEINT V',\\\n",
        "            'APM V_x','APM V_y','APM V'])\n",
        "\n",
        "# plt.figure(2)\n",
        "#plt.plot(z2['x'],z2['y'],'r-')\n",
        "# plt.xlabel('Position (x)')\n",
        "# plt.ylabel('Position (y)')\n",
        "plt.show()\n"
      ],
      "execution_count": 0,
      "outputs": [
        {
          "output_type": "display_data",
          "data": {
            "image/png": "[encoded data removed]",
            "text/plain": [
              "<Figure size 576x396 with 2 Axes>"
            ]
          },
          "metadata": {
            "tags": []
          }
        }
      ]
    },
    {
      "metadata": {
        "id": "-E9509u90J8a",
        "colab_type": "code",
        "cellView": "form",
        "colab": {}
      },
      "cell_type": "code",
      "source": [
        "#@markdown Solution using Gekko\n",
        "\n",
        "try:\n",
        "    from pip import main as pipmain\n",
        "except:\n",
        "    from pip._internal import main as pipmain\n",
        "pipmain(['install','gekko'])\n",
        "\n",
        "from gekko import GEKKO\n",
        "import numpy as np\n",
        "import matplotlib.pyplot as plt\n",
        "\n",
        "#number of points in time discretization\n",
        "n = 91\n",
        "\n",
        "#Initialize Model\n",
        "m = GEKKO(remote=False)\n",
        "\n",
        "#define time discretization\n",
        "m.time = np.linspace(0,90,n)\n",
        "\n",
        "#make array of drag coefficients, changing at time 60\n",
        "drag = [(0.2 if t<=60 else 10) for t in m.time]\n",
        "\n",
        "#define constants\n",
        "g = m.Const(value=9.81)\n",
        "mass = m.Const(value=80)\n",
        "\n",
        "#define drag parameter\n",
        "d = m.Param(value=drag)\n",
        "\n",
        "#initialize variables\n",
        "x,y,vx,vy,v,Fx,Fy = [m.Var(value=0) for i in range(7)]\n",
        "\n",
        "#initial conditions\n",
        "y.value = 5000\n",
        "vx.value = 50\n",
        "\n",
        "#Equations\n",
        "# force balance\n",
        "m.Equation(Fx == -d * vx**2)\n",
        "m.Equation(Fy == -mass*g + d*vy**2)\n",
        "#F = ma\n",
        "m.Equation(Fx/mass == vx.dt())\n",
        "m.Equation(Fy/mass == vy.dt())\n",
        "#vel = dxdt\n",
        "m.Equation(vx == x.dt())\n",
        "m.Equation(vy == y.dt())\n",
        "#total velocity\n",
        "m.Equation(v == (vx**2 + vy**2)**.5)\n",
        "\n",
        "#Set global options\n",
        "m.options.IMODE = 4 #dynamic simulation\n",
        "\n",
        "#Solve simulation\n",
        "m.solve()\n",
        "\n",
        "#%% Plot results\n",
        "plt.figure()\n",
        "plt.plot(x.value,y.value)\n",
        "plt.xlabel('x')\n",
        "plt.ylabel('y')\n",
        "\n",
        "plt.figure()\n",
        "plt.plot(m.time,x.value,label='x')\n",
        "plt.plot(m.time,y.value,label='y')\n",
        "plt.xlabel('time')\n",
        "plt.legend()\n",
        "\n",
        "plt.figure()\n",
        "plt.plot(m.time,vx.value,label='vx')\n",
        "plt.plot(m.time,vy.value,label='vy')\n",
        "plt.xlabel('time')\n",
        "plt.legend()\n",
        "\n",
        "plt.show()\n"
      ],
      "execution_count": 0,
      "outputs": []
    }
  ]
}