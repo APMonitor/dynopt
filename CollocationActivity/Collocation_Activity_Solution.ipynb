{
 "cells": [
  {
   "cell_type": "markdown",
   "metadata": {},
   "source": [
    "## Orthogonal Collocation on Finite Elements\n",
    "\n",
    "Discretization of a continuous time representation allow large-scale nonlinear programming (NLP) solvers to find solutions at specified intervals in a time horizon. There are many names and related techniques for obtaining mathematical relationships between derivatives and non-derivative values. Some of the terms that are relevant to this discussion include orthogonal collocation on finite elements, direct transcription, Gauss pseudospectral method, Gaussian quadrature, Lobatto quadrature, Radau collocation, Legendre polynomials, Chebyshev polynomials, Jacobi polynomials, Laguerre polynomials, any many more. There are many papers that discuss the details of the derivation and theory behind these methods1-5. The purpose of this section is to give a practical introduction to orthogonal collocation on finite elements with Lobatto quadrature for the numerical solution of differential algebraic equations. See the documentation on [Nodes](https://apmonitor.com/wiki/index.php/Main/OptionApmNodes) for additional details on displaying the internal nodes and the [course page on Orthogonal Collocation](https://apmonitor.com/do/index.php/Main/OrthogonalCollocation) for additional examples.\n",
    "\n",
    "<img src='https://apmonitor.com/wiki/uploads/Main/nodes.png'>"
   ]
  },
  {
   "cell_type": "markdown",
   "metadata": {},
   "source": [
    "### Solving with Gekko Automated Collocation\n",
    "\n",
    "Solve the equation with NODES=4 at time points [0,1,2,3]:\n",
    "\n",
    "$\\frac{dy}{dt}=-y$\n",
    "\n",
    "with initial condition $y_0=5$. Show the internal node solutions."
   ]
  },
  {
   "cell_type": "code",
   "execution_count": 10,
   "metadata": {},
   "outputs": [],
   "source": [
    "from gekko import GEKKO\n",
    "m = GEKKO(remote=False) # create GEKKO model\n",
    "y = m.Var(5.0,name='y') # create GEKKO variable\n",
    "m.Equation(y.dt()==-y)  # create GEKKO equation\n",
    "m.time = [0,1,2,3]      # time points\n",
    "m.options.IMODE = 4     # simulation mode\n",
    "m.options.NODES = 4     # set NODES=4\n",
    "m.options.CSV_WRITE=2   # write results_all.json\n",
    "                        #   with internal nodes\n",
    "m.solve(disp=False)     # solve"
   ]
  },
  {
   "cell_type": "code",
   "execution_count": 18,
   "metadata": {},
   "outputs": [
    {
     "data": {
      "image/png": "[encoded data removed]",
      "text/plain": [
       "<Figure size 432x288 with 1 Axes>"
      ]
     },
     "metadata": {
      "needs_background": "light"
     },
     "output_type": "display_data"
    },
    {
     "name": "stdout",
     "output_type": "stream",
     "text": [
      "[5.0, 3.8005471961, 2.4275229267, 1.842105324, 1.4002016448, 0.8943505815, 0.67867040494, 0.51586378092, 0.32949759354, 0.25003647324]\n"
     ]
    }
   ],
   "source": [
    "import matplotlib.pyplot as plt\n",
    "plt.plot(m.time,y.value,'ro')\n",
    "\n",
    "# retrieve internal nodes from results_all.json\n",
    "import json\n",
    "with open(m.path+'//results_all.json') as f:\n",
    "    results = json.load(f)\n",
    "plt.plot(results['time'],results['y'],'bx')    \n",
    "plt.show()\n",
    "print(results['y'])"
   ]
  },
  {
   "cell_type": "code",
   "execution_count": null,
   "metadata": {},
   "outputs": [],
   "source": [
    "import matplotlib.pyplot as plt\n",
    "plt.plot(m.time,y.value,'ro')\n",
    "\n",
    "# retrieve internal nodes from results_all.json\n",
    "import json\n",
    "with open(m.path+'//results_all.json') as f:\n",
    "    results = json.load(f)\n",
    "plt.plot(results['time'],results['y'],'bx')    \n",
    "plt.show()\n",
    "print(results['y'])"
   ]
  },
  {
   "cell_type": "markdown",
   "metadata": {},
   "source": [
    "### Solving without Gekko Automated Collocation\n",
    "\n",
    "Repeat the solution with NODES=4 using Orthogonal Collocation on Finite Elements but only for the first time interval [0,1]:\n",
    "\n",
    "$\\frac{dy}{dt}=-y$\n",
    "\n",
    "with initial condition $y_0=5$. Show the node solutions.\n",
    "\n",
    "Use the matrix `NC` and collocation `time` points as shown in the APMonitor [journal article](https://www.sciencedirect.com/science/article/pii/S0098135414001306) or [preprint](https://apmonitor.com/wiki/uploads/Main/APMonitor_2014.pdf).\n",
    "\n",
    "```python\n",
    "import numpy as np\n",
    "\n",
    "N = np.array([[0.436,-0.281, 0.121], \\\n",
    "              [0.614, 0.064, 0.0461], \\\n",
    "              [0.603, 0.230, 0.167]])\n",
    "\n",
    "time = np.array([0.0, \\\n",
    "                 0.5-np.sqrt(5)/10.0, \\\n",
    "                 0.5+np.sqrt(5)/10.0, \\\n",
    "                 1.0])\n",
    "```\n",
    "\n",
    "#### Reference\n",
    "\n",
    "* Hedengren, J. D. and Asgharzadeh Shishavan, R., Powell, K.M., and Edgar, T.F., Nonlinear Modeling, Estimation and Predictive Control in APMonitor, Computers and Chemical Engineering, Volume 70, pg. 133–148, 2014, doi: 10.1016/j.compchemeng.2014.04.013"
   ]
  },
  {
   "cell_type": "code",
   "execution_count": 16,
   "metadata": {},
   "outputs": [],
   "source": [
    "import numpy as np\n",
    "N = np.array([[0.436,-0.281, 0.121], \\\n",
    "              [0.614, 0.064, 0.0461], \\\n",
    "              [0.603, 0.230, 0.167]])\n",
    "\n",
    "time = np.array([0.0, \\\n",
    "                 0.5-np.sqrt(5)/10.0, \\\n",
    "                 0.5+np.sqrt(5)/10.0, \\\n",
    "                 1.0])"
   ]
  },
  {
   "cell_type": "code",
   "execution_count": 19,
   "metadata": {},
   "outputs": [
    {
     "name": "stdout",
     "output_type": "stream",
     "text": [
      "[ 3.80135187  2.42579355  1.84220421 -3.80135187 -2.42579355 -1.84220421]\n"
     ]
    }
   ],
   "source": [
    "from scipy.optimize import fsolve\n",
    "\n",
    "y0 = 5\n",
    "zGuess = np.zeros(6) # y1-y3 and dydt1-dydt3\n",
    "\n",
    "def myFunction(z):\n",
    "    y  = z[0:3]\n",
    "    dy = z[3:6]\n",
    "\n",
    "    F = np.empty(6)\n",
    "    F[0:3] = np.dot(N,dy) - (y-y0)\n",
    "    F[3:7] = dy + y\n",
    "    return F\n",
    "\n",
    "z = fsolve(myFunction,zGuess)\n",
    "print(z)"
   ]
  }
 ],
 "metadata": {
  "kernelspec": {
   "display_name": "Python 3",
   "language": "python",
   "name": "python3"
  },
  "language_info": {
   "codemirror_mode": {
    "name": "ipython",
    "version": 3
   },
   "file_extension": ".py",
   "mimetype": "text/x-python",
   "name": "python",
   "nbconvert_exporter": "python",
   "pygments_lexer": "ipython3",
   "version": "3.8.5"
  }
 },
 "nbformat": 4,
 "nbformat_minor": 4
}
