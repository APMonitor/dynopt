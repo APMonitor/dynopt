{
 "cells": [
  {
   "cell_type": "markdown",
   "metadata": {},
   "source": [
    "## Orthogonal Collocation on Finite Elements\n",
    "\n",
    "Discretization of a continuous time representation allow large-scale nonlinear programming (NLP) solvers to find solutions at specified intervals in a time horizon. There are many names and related techniques for obtaining mathematical relationships between derivatives and non-derivative values. Some of the terms that are relevant to this discussion include orthogonal collocation on finite elements, direct transcription, Gauss pseudospectral method, Gaussian quadrature, Lobatto quadrature, Radau collocation, Legendre polynomials, Chebyshev polynomials, Jacobi polynomials, Laguerre polynomials, any many more. There are many papers that discuss the details of the derivation and theory behind these methods1-5. The purpose of this section is to give a practical introduction to orthogonal collocation on finite elements with Lobatto quadrature for the numerical solution of differential algebraic equations. See the documentation on [Nodes](https://apmonitor.com/wiki/index.php/Main/OptionApmNodes) for additional details on displaying the internal nodes and the [course page on Orthogonal Collocation](https://apmonitor.com/do/index.php/Main/OrthogonalCollocation) for additional examples.\n",
    "\n",
    "<img src='https://apmonitor.com/wiki/uploads/Main/nodes.png'>"
   ]
  },
  {
   "cell_type": "markdown",
   "metadata": {},
   "source": [
    "### Solving with Gekko Automated Collocation\n",
    "\n",
    "Solve the equation with NODES=4 at time points [0,1,2,3]:\n",
    "\n",
    "$\\frac{dy}{dt}=-y$\n",
    "\n",
    "with initial condition $y_0=5$. Show the internal node solutions."
   ]
  },
  {
   "cell_type": "code",
   "execution_count": null,
   "metadata": {},
   "outputs": [],
   "source": []
  },
  {
   "cell_type": "markdown",
   "metadata": {},
   "source": [
    "### Solving without Gekko Automated Collocation\n",
    "\n",
    "Repeat the solution with NODES=4 using Orthogonal Collocation on Finite Elements but only for the first time interval [0,1]:\n",
    "\n",
    "$\\frac{dy}{dt}=-y$\n",
    "\n",
    "with initial condition $y_0=5$. Show the node solutions.\n",
    "\n",
    "Use the matrix `NC` and collocation `time` points as shown in the APMonitor [journal article](https://www.sciencedirect.com/science/article/pii/S0098135414001306) or [preprint](https://apmonitor.com/wiki/uploads/Main/APMonitor_2014.pdf).\n",
    "\n",
    "```python\n",
    "import numpy as np\n",
    "\n",
    "N = np.array([[0.436,-0.281, 0.121], \\\n",
    "              [0.614, 0.064, 0.0461], \\\n",
    "              [0.603, 0.230, 0.167]])\n",
    "\n",
    "time = np.array([0.0, \\\n",
    "                 0.5-np.sqrt(5)/10.0, \\\n",
    "                 0.5+np.sqrt(5)/10.0, \\\n",
    "                 1.0])\n",
    "```\n",
    "\n",
    "#### Reference\n",
    "\n",
    "* Hedengren, J. D. and Asgharzadeh Shishavan, R., Powell, K.M., and Edgar, T.F., Nonlinear Modeling, Estimation and Predictive Control in APMonitor, Computers and Chemical Engineering, Volume 70, pg. 133–148, 2014, doi: 10.1016/j.compchemeng.2014.04.013"
   ]
  },
  {
   "cell_type": "code",
   "execution_count": null,
   "metadata": {},
   "outputs": [],
   "source": []
  }
 ],
 "metadata": {
  "kernelspec": {
   "display_name": "Python 3",
   "language": "python",
   "name": "python3"
  },
  "language_info": {
   "codemirror_mode": {
    "name": "ipython",
    "version": 3
   },
   "file_extension": ".py",
   "mimetype": "text/x-python",
   "name": "python",
   "nbconvert_exporter": "python",
   "pygments_lexer": "ipython3",
   "version": "3.8.5"
  }
 },
 "nbformat": 4,
 "nbformat_minor": 4
}
