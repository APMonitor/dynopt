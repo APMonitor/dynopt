{
 "cells": [
  {
   "cell_type": "markdown",
   "metadata": {},
   "source": [
    "### TCLab F: SISO MPC\n",
    "\n",
    "Single-Input (One heater) Single-Output (One temperature) implementation of Model Predictive Control (MPC) for the temperature control lab. You can extend this lab to include two heaters and two temperature sensors for MPC. Additional details are available in the [Dynamic Optimization course (Lab F)](http://apmonitor.com/do/index.php/Main/TCLabF)."
   ]
  },
  {
   "cell_type": "code",
   "execution_count": null,
   "metadata": {},
   "outputs": [],
   "source": [
    "import pandas as pd\n",
    "import numpy as np\n",
    "from gekko import GEKKO\n",
    "m = GEKKO()\n",
    "\n",
    "# load data and parse into columns\n",
    "url = 'http://apmonitor.com/do/uploads/Main/tclab_dyn_data1.txt'\n",
    "data = pd.read_csv(url)\n",
    "t = data['Time']\n",
    "u = data['H1']\n",
    "y = data['T1']\n",
    "\n",
    "# system identification\n",
    "yp,p,K = m.sysid(t,u,y,2,2,pred='model')"
   ]
  },
  {
   "cell_type": "code",
   "execution_count": null,
   "metadata": {},
   "outputs": [],
   "source": [
    "import matplotlib.pyplot as plt\n",
    "plt.plot(t,y)\n",
    "plt.plot(t,yp)"
   ]
  },
  {
   "cell_type": "code",
   "execution_count": null,
   "metadata": {},
   "outputs": [],
   "source": [
    "# Build GEKKO ARX model\n",
    "Q = m.MV(); T = m.CV()\n",
    "m.arx(p,T,Q)\n",
    "\n",
    "# set up MV\n",
    "Q.LOWER = 0; Q.UPPER = 100\n",
    "Q.STATUS=1;  Q.FSTATUS=0; Q.DCOST = 0.01\n",
    "\n",
    "# set up CV\n",
    "T.SPHI  =51;  T.SPLO   = 49\n",
    "T.STATUS = 1; T.FSTATUS = 1; T.TAU = 30\n",
    "\n",
    "# steady state initialization\n",
    "m.options.IMODE = 1\n",
    "m.solve(disp=False)\n",
    "\n",
    "# load inputs\n",
    "tf = 60 # final time (sec)\n",
    "m.time = np.linspace(0,tf,tf+1)\n",
    "m.options.NODES = 2\n",
    "\n",
    "m.options.IMODE = 6\n",
    "m.solve(disp=False)"
   ]
  },
  {
   "cell_type": "code",
   "execution_count": null,
   "metadata": {},
   "outputs": [],
   "source": [
    "def mpc(Tm):\n",
    "    T.MEAS = Tm\n",
    "    m.solve(disp=False)\n",
    "    return Q.NEWVAL"
   ]
  },
  {
   "cell_type": "code",
   "execution_count": null,
   "metadata": {},
   "outputs": [],
   "source": [
    "import tclab\n",
    "import time\n",
    "import numpy as np\n",
    "import matplotlib.pyplot as plt\n",
    "\n",
    "n = 180\n",
    "tm = np.linspace(0,n-1,n)\n",
    "T1 = np.zeros(n); Q1 = np.zeros(n)\n",
    "\n",
    "# use tclab.TCLabModel() if no device\n",
    "lab = tclab.TCLab()\n",
    "for i in range(n):\n",
    "    # read temperature\n",
    "    T1[i] = lab.T1\n",
    "\n",
    "    # PID control\n",
    "    Q1[i] = mpc(T1[i]) \n",
    "    lab.Q1(Q1[i])\n",
    "\n",
    "    # print\n",
    "    if i%50==0:\n",
    "        print('Time OP PV   SP')\n",
    "    if i%5==0:\n",
    "        print(i,round(Q1[i],2), T1[i], 50)\n",
    "    # wait sample time\n",
    "    time.sleep(1) # wait 1 sec\n",
    "lab.close()"
   ]
  },
  {
   "cell_type": "code",
   "execution_count": null,
   "metadata": {},
   "outputs": [],
   "source": [
    "# Create Figure\n",
    "plt.figure(figsize=(12,8))\n",
    "plt.subplot(2,1,1)\n",
    "plt.grid()\n",
    "plt.plot([0,tm[-1]/60.0],[51,51],'k--',label=r'$T_1$ SPHI')\n",
    "plt.plot([0,tm[-1]/60.0],[49,49],'k--',label=r'$T_1$ SPLO')\n",
    "plt.plot(tm/60.0,T1,'r.',label=r'$T_1$ PV')\n",
    "plt.ylabel(r'Temp ($^oC$)')\n",
    "plt.legend()\n",
    "plt.subplot(2,1,2)\n",
    "plt.grid()\n",
    "plt.plot(tm/60.0,Q1,'b-',label=r'$Q_1$')\n",
    "plt.ylabel(r'Heater (%)'); plt.xlabel('Time (min)')\n",
    "plt.legend()\n",
    "plt.show()"
   ]
  }
 ],
 "metadata": {
  "kernelspec": {
   "display_name": "Python 3",
   "language": "python",
   "name": "python3"
  },
  "language_info": {
   "codemirror_mode": {
    "name": "ipython",
    "version": 3
   },
   "file_extension": ".py",
   "mimetype": "text/x-python",
   "name": "python",
   "nbconvert_exporter": "python",
   "pygments_lexer": "ipython3",
   "version": "3.8.5"
  }
 },
 "nbformat": 4,
 "nbformat_minor": 4
}
