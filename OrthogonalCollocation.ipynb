{
  "nbformat": 4,
  "nbformat_minor": 0,
  "metadata": {
    "colab": {
      "name": "OrthogonalCollocation.ipynb",
      "version": "0.3.2",
      "provenance": [],
      "collapsed_sections": [],
      "toc_visible": true,
      "include_colab_link": true
    },
    "kernelspec": {
      "name": "python3",
      "display_name": "Python 3"
    }
  },
  "cells": [
    {
      "cell_type": "markdown",
      "metadata": {
        "id": "view-in-github",
        "colab_type": "text"
      },
      "source": [
        "<a href=\"https://colab.research.google.com/github/misbahsy/APMonitor-do/blob/master/OrthogonalCollocation.ipynb\" target=\"_parent\"><img src=\"https://colab.research.google.com/assets/colab-badge.svg\" alt=\"Open In Colab\"/></a>"
      ]
    },
    {
      "metadata": {
        "id": "ofVlFxXQ8NuN",
        "colab_type": "text"
      },
      "cell_type": "markdown",
      "source": [
        "#Orthogonal Collocation on Finite Elements\n",
        "\n",
        "Discretization of a continuous time representation allow large-scale nonlinear programming (NLP) solvers to find solutions at specified intervals in a time horizon. There are many names and related techniques for obtaining mathematical relationships between derivatives and non-derivative values. Some of the terms that are relevant to this discussion include orthogonal collocation on finite elements, direct transcription, Gauss pseudospectral method, Gaussian quadrature, Lobatto quadrature, Radau collocation, Legendre polynomials, Chebyshev polynomials, Jacobi polynomials, Laguerre polynomials, any many more. There are many papers that discuss the details of the derivation and theory behind these methods1-5. The purpose of this section is to give a practical introduction to orthogonal collocation on finite elements with Lobatto quadrature for the numerical solution of differential algebraic equations."
      ]
    },
    {
      "metadata": {
        "id": "98yAVuQu8j-G",
        "colab_type": "code",
        "cellView": "form",
        "outputId": "5736a871-0d46-4c2d-a0e1-c7a9a83a98cb",
        "colab": {
          "base_uri": "https://localhost:8080/",
          "height": 336
        }
      },
      "cell_type": "code",
      "source": [
        "#@title\n",
        "%%html\n",
        "<iframe width=\"560\" height=\"315\" src=\"https://www.youtube.com/embed/0UL-Y_mEIuI\" frameborder=\"0\" allow=\"autoplay; encrypted-media\" allowfullscreen></iframe>"
      ],
      "execution_count": 1,
      "outputs": [
        {
          "output_type": "display_data",
          "data": {
            "text/html": [
              "<iframe width=\"560\" height=\"315\" src=\"https://www.youtube.com/embed/0UL-Y_mEIuI\" frameborder=\"0\" allow=\"autoplay; encrypted-media\" allowfullscreen></iframe>"
            ],
            "text/plain": [
              "<IPython.core.display.HTML object>"
            ]
          },
          "metadata": {
            "tags": []
          }
        }
      ]
    },
    {
      "metadata": {
        "id": "n-ZGK9Wj823w",
        "colab_type": "code",
        "cellView": "form",
        "outputId": "abc76c57-9245-4d1a-c9e6-95a3f311a4d6",
        "colab": {
          "base_uri": "https://localhost:8080/",
          "height": 361
        }
      },
      "cell_type": "code",
      "source": [
        "#@markdown ###Orthogonal Collocation 1\n",
        "\n",
        "# Solve tau dx/dt = -x\n",
        "import numpy as np\n",
        "from numpy.linalg import inv\n",
        "\n",
        "## problem statement\n",
        "x0 = 3.0  # initial condition\n",
        "tf = 10.0 # final time\n",
        "tau = 5.0 # model parameter (time constant)\n",
        "\n",
        "## analytic solution\n",
        "time = np.linspace(0,tf,100)\n",
        "x = x0*np.exp(-time/tau)\n",
        "\n",
        "## numeric solutions\n",
        "# 2nd order polynomial (3 points)\n",
        "t2 = tf * np.array([0.0,0.5,1.0])\n",
        "N2 = np.array([[0.75,-0.25], \\\n",
        "               [1.00, 0.00]])\n",
        "M2 = inv(tf * N2)\n",
        "# Solve linear system of equations by matrix manipulation\n",
        "P2 = tau*M2 + np.eye(2)\n",
        "Q2 = np.dot(inv(P2),(tau*M2))\n",
        "v2 = np.dot(Q2, np.ones(2)*x0)\n",
        "x2 = np.insert(v2,0,x0)\n",
        "\n",
        "# 3rd order polynomial (4 points)\n",
        "t3 = tf * np.array([0.0, \\\n",
        "                    1.0/2.0-np.sqrt(5.0)/10.0, \\\n",
        "                    1.0/2.0+np.sqrt(5.0)/10.0, \\\n",
        "                    1.0])\n",
        "N3 = np.array([[0.436,-0.281, 0.121], \\\n",
        "               [0.614, 0.064, 0.046], \\\n",
        "               [0.603, 0.230, 0.167]])\n",
        "M3 = inv(tf * N3)\n",
        "# Solve linear system of equations by matrix manipulation\n",
        "P3 = tau * M3 + np.eye(3)\n",
        "Q3 = np.dot(inv(P3),(tau*M3))\n",
        "v3 = np.dot(Q3, np.ones(3)*x0)\n",
        "x3 = np.insert(v3,0,x0)\n",
        "\n",
        "# 4th order polynomial (5 points)\n",
        "t4 = tf * np.array([0.0, \\\n",
        "                    1.0/2.0-np.sqrt(21.0)/14.0, \\\n",
        "                    1.0/2.0, \\\n",
        "                    1.0/2.0+np.sqrt(21.0)/14.0, \\\n",
        "                    1.0])\n",
        "N4 = np.array([[0.278, -0.202, 0.169, -0.071], \\\n",
        "               [0.398,  0.069, 0.064, -0.031], \\\n",
        "               [0.387,  0.234, 0.278, -0.071], \\\n",
        "               [0.389,  0.222, 0.389,  0.000]])\n",
        "M4 = inv(tf * N4)\n",
        "# Solve linear system of equations by matrix manipulation\n",
        "P4 = tau * M4 + np.eye(4)\n",
        "Q4 = np.dot(inv(P4),(tau*M4))\n",
        "v4 = np.dot(Q4, np.ones(4)*x0)\n",
        "x4 = np.insert(v4,0,x0)\n",
        "\n",
        "# compare results\n",
        "import matplotlib.pyplot as plt\n",
        "plt.figure(1)\n",
        "plt.subplot(2,1,1)\n",
        "plt.plot(time,x,'r-',linewidth=3)\n",
        "plt.plot(t2,x2,'b-.',linewidth=2,markersize=20)\n",
        "plt.plot(t3,x3,'k:.',linewidth=2,markersize=20)\n",
        "plt.plot(t4,x4,'g.-',linewidth=2,markersize=20)\n",
        "plt.xlabel('Time')\n",
        "plt.ylabel('Value')\n",
        "plt.legend(['Exact','3 Points','4 Points','5 Points'])\n",
        "plt.text(2,0.5,'tau dx/dt = -x')\n",
        "\n",
        "plt.subplot(2,1,2)\n",
        "# exact solutions at collocation points\n",
        "y2 = x0*np.exp(-t2/tau)\n",
        "y3 = x0*np.exp(-t3/tau)\n",
        "y4 = x0*np.exp(-t4/tau)\n",
        "plt.plot(t2,x2-y2,'b--.',linewidth=2,markersize=20)\n",
        "plt.plot(t3,x3-y3,'k:.',linewidth=2,markersize=20)\n",
        "plt.plot(t4,x4-y4,'g.-',linewidth=2,markersize=20)\n",
        "plt.xlabel('Time')\n",
        "plt.ylabel('Error')\n",
        "plt.legend(['3 Points','4 Points','5 Points'])\n",
        "plt.show()\n"
      ],
      "execution_count": 0,
      "outputs": [
        {
          "output_type": "display_data",
          "data": {
            "image/png": "[encoded data removed]",
            "text/plain": [
              "<Figure size 576x396 with 2 Axes>"
            ]
          },
          "metadata": {
            "tags": []
          }
        }
      ]
    },
    {
      "metadata": {
        "id": "1a5Z7nmi-F__",
        "colab_type": "code",
        "cellView": "form",
        "outputId": "8d4155dc-ffbb-4b64-f9a8-58ff883936d6",
        "colab": {
          "base_uri": "https://localhost:8080/",
          "height": 361
        }
      },
      "cell_type": "code",
      "source": [
        "#@markdown ###Orthogonal Collocation 2\n",
        "\n",
        "# Solve tau dx/dt = -x + k u\n",
        "import numpy as np\n",
        "from numpy.linalg import inv\n",
        "\n",
        "## problem statement\n",
        "x0 = 0.0  # initial condition\n",
        "tf = 10.0 # final time\n",
        "tau = 5.0 # model parameter (time constant)\n",
        "k = 2.0   # gain\n",
        "\n",
        "## analytic solution\n",
        "time = np.linspace(0,tf)\n",
        "x = k*(1.0-np.exp(-time/tau))\n",
        "\n",
        "## numeric solutions\n",
        "# 2nd order polynomial (3 points)\n",
        "t2 = tf * np.array([0.0,0.5,1.0])\n",
        "N2 = np.array([[0.75,-0.25], \\\n",
        "               [1.00, 0.00]])\n",
        "M2 = inv(tf * N2)\n",
        "# Solve linear system of equations by matrix manipulation\n",
        "P2 = inv(tau*M2 + np.eye(2))\n",
        "Q2 = np.dot(tau*M2,np.ones(2)*x0) + k*np.ones(2)\n",
        "v2 = np.dot(P2, Q2)\n",
        "x2 = np.insert(v2,0,x0)\n",
        "\n",
        "# 3rd order polynomial (4 points)\n",
        "t3 = tf * np.array([0.0, \\\n",
        "                    1.0/2.0-np.sqrt(5.0)/10.0, \\\n",
        "                    1.0/2.0+np.sqrt(5.0)/10.0, \\\n",
        "                    1.0])\n",
        "N3 = np.array([[0.436,-0.281, 0.121], \\\n",
        "               [0.614, 0.064, 0.046], \\\n",
        "               [0.603, 0.230, 0.167]])\n",
        "M3 = inv(tf * N3)\n",
        "# Solve linear system of equations by matrix manipulation\n",
        "P3 = inv(tau*M3 + np.eye(3))\n",
        "Q3 = np.dot(tau*M3,np.ones(3)*x0) + k*np.ones(3)\n",
        "v3 = np.dot(P3, Q3)\n",
        "x3 = np.insert(v3,0,x0)\n",
        "\n",
        "# 4th order polynomial (5 points)\n",
        "t4 = tf * np.array([0.0, \\\n",
        "                    1.0/2.0-np.sqrt(21.0)/14.0, \\\n",
        "                    1.0/2.0, \\\n",
        "                    1.0/2.0+np.sqrt(21.0)/14.0, \\\n",
        "                    1.0])\n",
        "N4 = np.array([[0.278, -0.202, 0.169, -0.071], \\\n",
        "               [0.398,  0.069, 0.064, -0.031], \\\n",
        "               [0.387,  0.234, 0.278, -0.071], \\\n",
        "               [0.389,  0.222, 0.389,  0.000]])\n",
        "M4 = inv(tf * N4)\n",
        "# Solve linear system of equations by matrix manipulation\n",
        "P4 = inv(tau*M4 + np.eye(4))\n",
        "Q4 = np.dot(tau*M4,np.ones(4)*x0) + k*np.ones(4)\n",
        "v4 = np.dot(P4, Q4)\n",
        "x4 = np.insert(v4,0,x0)\n",
        "\n",
        "# compare results\n",
        "import matplotlib.pyplot as plt\n",
        "plt.figure(1)\n",
        "plt.subplot(2,1,1)\n",
        "plt.plot(time,x,'r-',linewidth=3)\n",
        "plt.plot(t2,x2,'b-.',linewidth=2,markersize=20)\n",
        "plt.plot(t3,x3,'k:.',linewidth=2,markersize=20)\n",
        "plt.plot(t4,x4,'g.-',linewidth=2,markersize=20)\n",
        "plt.xlabel('Time')\n",
        "plt.ylabel('Value')\n",
        "plt.legend(['Exact','3 Points','4 Points','5 Points'])\n",
        "plt.text(4,0.5,'tau dx/dt = -x + k u')\n",
        "\n",
        "plt.subplot(2,1,2)\n",
        "# exact solutions at collocation points\n",
        "y2 = k*(1-np.exp(-t2/tau))\n",
        "y3 = k*(1-np.exp(-t3/tau))\n",
        "y4 = k*(1-np.exp(-t4/tau))\n",
        "plt.plot(t2,x2-y2,'b--.',linewidth=2,markersize=20)\n",
        "plt.plot(t3,x3-y3,'k:.',linewidth=2,markersize=20)\n",
        "plt.plot(t4,x4-y4,'g.-',linewidth=2,markersize=20)\n",
        "plt.xlabel('Time')\n",
        "plt.ylabel('Error')\n",
        "plt.legend(['3 Points','4 Points','5 Points'])\n",
        "plt.show()\n"
      ],
      "execution_count": 0,
      "outputs": [
        {
          "output_type": "display_data",
          "data": {
            "image/png": "[encoded data removed]",
            "text/plain": [
              "<Figure size 576x396 with 2 Axes>"
            ]
          },
          "metadata": {
            "tags": []
          }
        }
      ]
    },
    {
      "metadata": {
        "id": "iaCfw754_SOA",
        "colab_type": "code",
        "cellView": "form",
        "outputId": "e72c4d1a-6b21-4696-eec6-fcb9b3781f51",
        "colab": {
          "base_uri": "https://localhost:8080/",
          "height": 372
        }
      },
      "cell_type": "code",
      "source": [
        "#@title\n",
        "%%html\n",
        "<div><img src='http://apmonitor.com/do/uploads/Main/download.png' alt='' title='' /> <a class='urllink' href='http://apmonitor.com/do/uploads/Main/orthogonal_collocation.zip' rel='nofollow'>Orthogonal Collocation in MATLAB</a></div>\n",
        "<div class='vspace'></div>\n",
        "<iframe width=\"560\" height=\"315\" src=\"https://www.youtube.com/embed/sxFTAF_xtLg?rel=0\" frameborder=\"0\" allowfullscreen></iframe>\n"
      ],
      "execution_count": 2,
      "outputs": [
        {
          "output_type": "display_data",
          "data": {
            "text/html": [
              "<div><img src='http://apmonitor.com/do/uploads/Main/download.png' alt='' title='' /> <a class='urllink' href='http://apmonitor.com/do/uploads/Main/orthogonal_collocation.zip' rel='nofollow'>Orthogonal Collocation in MATLAB</a></div>\n",
              "<div class='vspace'></div>\n",
              "<iframe width=\"560\" height=\"315\" src=\"https://www.youtube.com/embed/sxFTAF_xtLg?rel=0\" frameborder=\"0\" allowfullscreen></iframe>"
            ],
            "text/plain": [
              "<IPython.core.display.HTML object>"
            ]
          },
          "metadata": {
            "tags": []
          }
        }
      ]
    },
    {
      "metadata": {
        "id": "EUOuDf_pACGQ",
        "colab_type": "text"
      },
      "cell_type": "markdown",
      "source": [
        "##Exercise 1\n",
        "\n",
        "Objective: Solve a differential equation with orthogonal collocation on finite elements. Create a MATLAB or Python script to simulate and display the results. Estimated Time: 2-3 hours\n",
        "\n",
        "Solve the following differential equation from time 0 to 1 with orthogonal collocation on finite elements with 4 nodes for discretization in time.\n",
        "\n",
        "$5 dx/dt = -x2 + u$\n",
        " \n",
        "Specify the initial condition for x as 0 and the value of the input, u, as 4. Compare the solution result with 2-6 time points (nodes). Report the solution at the final time for each and comment on how the solution changes with an increase in the number of nodes."
      ]
    },
    {
      "metadata": {
        "id": "85iw0bAzGHBp",
        "colab_type": "text"
      },
      "cell_type": "markdown",
      "source": [
        "##Solution 1\n",
        "\n",
        "<div><img src='http://apmonitor.com/do/uploads/Main/download.png' alt='' title='' /> <a class='urllink' href='http://apmonitor.com/do/uploads/Main/collocation_exercise.zip' rel='nofollow'>Collocation in MATLAB and Python (APM Solution)</a></div>\n",
        "\n"
      ]
    },
    {
      "metadata": {
        "id": "GDCaTFmjA5L5",
        "colab_type": "code",
        "cellView": "form",
        "colab": {}
      },
      "cell_type": "code",
      "source": [
        "#@markdown Solution in GEKKO\n",
        "\n",
        "try:\n",
        "    from pip import main as pipmain\n",
        "except:\n",
        "    from pip._internal import main as pipmain\n",
        "pipmain(['install','gekko'])\n",
        "\n",
        "from __future__ import division\n",
        "import numpy as np\n",
        "from scipy.optimize import fsolve\n",
        "from scipy.integrate import odeint\n",
        "import matplotlib.pyplot as plt\n",
        "\n",
        "# final time\n",
        "tf = 1.0\n",
        "\n",
        "# solve with ODEINT (for comparison)\n",
        "def model(x,t):\n",
        "    u = 4.0\n",
        "    return (-x**2 + u)/5.0\n",
        "t = np.linspace(0,tf,20)\n",
        "y0 = 0\n",
        "y = odeint(model,y0,t)\n",
        "plt.figure(1)\n",
        "plt.plot(t,y,'r-',label='ODEINT')\n",
        "\n",
        "# ----------------------------------------------------\n",
        "# Approach #1 - Write the model equations in Python\n",
        "# ----------------------------------------------------\n",
        "# define collocation matrices\n",
        "def colloc(n):\n",
        "    if (n==2):\n",
        "        NC = np.array([[1.0]])\n",
        "    if (n==3):\n",
        "        NC = np.array([[0.75,-0.25], \\\n",
        "                       [1.00, 0.00]])\n",
        "    if (n==4):\n",
        "        NC = np.array([[0.436,-0.281, 0.121], \\\n",
        "                       [0.614, 0.064, 0.0461], \\\n",
        "                       [0.603, 0.230, 0.167]])\n",
        "    if (n==5):\n",
        "        NC = np.array([[0.278, -0.202, 0.169, -0.071], \\\n",
        "                       [0.398,  0.069, 0.064, -0.031], \\\n",
        "                       [0.387,  0.234, 0.278, -0.071], \\\n",
        "                       [0.389,  0.222, 0.389,  0.000]])\n",
        "    if (n==6):\n",
        "        NC = np.array([[0.191, -0.147, 0.139, -0.113, 0.047],\n",
        "                       [0.276,  0.059, 0.051, -0.050, 0.022],\n",
        "                       [0.267,  0.193, 0.252, -0.114, 0.045],\n",
        "                       [0.269,  0.178, 0.384,  0.032, 0.019],\n",
        "                       [0.269,  0.181, 0.374,  0.110, 0.067]])\n",
        "    return NC\n",
        "\n",
        "# define collocation points from Lobatto quadrature\n",
        "def tc(n):\n",
        "    if (n==2):\n",
        "        time = np.array([0.0,1.0])\n",
        "    if (n==3):\n",
        "        time = np.array([0.0,0.5,1.0])\n",
        "    if (n==4):\n",
        "        time = np.array([0.0, \\\n",
        "                         0.5-np.sqrt(5)/10.0, \\\n",
        "                         0.5+np.sqrt(5)/10.0, \\\n",
        "                         1.0])\n",
        "    if (n==5):\n",
        "        time = np.array([0.0,0.5-np.sqrt(21)/14.0, \\\n",
        "                         0.5,0.5+np.sqrt(21)/14.0, 1])\n",
        "    if (n==6):\n",
        "        time = np.array([0.0, \\\n",
        "                         0.5-np.sqrt((7.0+2.0*np.sqrt(7.0))/21.0)/2.0, \\\n",
        "                         0.5-np.sqrt((7.0-2.0*np.sqrt(7.0))/21.0)/2.0, \\\n",
        "                         0.5+np.sqrt((7.0-2.0*np.sqrt(7.0))/21.0)/2.0, \\\n",
        "                         0.5+np.sqrt((7.0+2.0*np.sqrt(7.0))/21.0)/2.0, \\\n",
        "                         1.0])\n",
        "    return time*tf\n",
        "\n",
        "# solve with SciPy fsolve\n",
        "def myFunction(z,*param):\n",
        "    n = param[0]\n",
        "    m = param[1]\n",
        "    # rename z as x and xdot variables\n",
        "    x = np.empty(n-1)\n",
        "    xdot = np.empty(n-1)\n",
        "    x[0:n-1] = z[0:n-1]\n",
        "    xdot[0:n-1] = z[n-1:m]\n",
        "\n",
        "    # initial condition (x0)\n",
        "    x0 = 0.0\n",
        "    # input parameter (u)\n",
        "    u = 4.0\n",
        "    # final time\n",
        "    tn = tf\n",
        "\n",
        "    # function evaluation residuals\n",
        "    F = np.empty(m)\n",
        "    # nonlinear differential equations at each node\n",
        "    # 5 dx/dt = -x^2 + u\n",
        "    F[0:n-1] = 5.0 * xdot[0:n-1] + x[0:n-1]**2 - u\n",
        "    # collocation equations\n",
        "    # tn * NC * xdot = x - x0\n",
        "    NC = colloc(n)\n",
        "    F[n-1:m] = tn * np.dot(NC,xdot) - x + x0 * np.ones(n-1)\n",
        "    return F\n",
        "\n",
        "sol_py = np.empty(5) # store 5 results\n",
        "for i in range(2,7):\n",
        "    n = i\n",
        "    m = (i-1)*2\n",
        "    zGuess = np.ones(m)\n",
        "    z = fsolve(myFunction,zGuess,args=(n,m))\n",
        "    # add to plot\n",
        "    yc = np.insert(z[0:n-1],0,0)\n",
        "    plt.plot(tc(n),yc,'o',markersize=10,label='Nodes = '+str(i))\n",
        "    # store just the last x[n] value\n",
        "    sol_py[i-2] = z[n-2]\n",
        "plt.legend(loc='best')\n",
        "\n",
        "# ----------------------------------------------------\n",
        "# Approach #2 - Write model in APMonitor and let\n",
        "#   modeling language create the collocation equations\n",
        "# ----------------------------------------------------\n",
        "# load GEKKO\n",
        "from gekko import GEKKO\n",
        "\n",
        "sol_apm = np.empty(5) # store 5 results\n",
        "i = 0\n",
        "for nodes in range(2,7):\n",
        "    m = GEKKO()\n",
        "\n",
        "    u = m.Param(value=4)\n",
        "    x = m.Var(value=0)\n",
        "    m.Equation(5*x.dt() == -x**2 + u)\n",
        "\n",
        "    m.time = [0,tf]\n",
        "\n",
        "    m.options.imode = 4\n",
        "    m.options.time_shift = 0\n",
        "    m.options.nodes = nodes\n",
        "\n",
        "    m.solve() # solve problem\n",
        "    sol_apm[i] = x.value[-1] # store solution (last point)\n",
        "    i += 1\n",
        "\n",
        "# print the solutions\n",
        "print(sol_py)\n",
        "print(sol_apm)\n",
        "\n",
        "# show plot\n",
        "plt.ylabel('x(t)')\n",
        "plt.xlabel('time')\n",
        "plt.show()"
      ],
      "execution_count": 0,
      "outputs": []
    },
    {
      "metadata": {
        "id": "GZSEbOQnCMDt",
        "colab_type": "code",
        "outputId": "0166db02-dda6-4f6d-be8c-3f7928fdbb0a",
        "cellView": "form",
        "colab": {
          "base_uri": "https://localhost:8080/",
          "height": 336
        }
      },
      "cell_type": "code",
      "source": [
        "#@title\n",
        "%%html\n",
        "<iframe width=\"560\" height=\"315\" src=\"https://www.youtube.com/embed/DBjmW4Lwpjc?rel=0\" frameborder=\"0\" allowfullscreen></iframe>\n"
      ],
      "execution_count": 3,
      "outputs": [
        {
          "output_type": "display_data",
          "data": {
            "text/html": [
              "<iframe width=\"560\" height=\"315\" src=\"https://www.youtube.com/embed/DBjmW4Lwpjc?rel=0\" frameborder=\"0\" allowfullscreen></iframe>"
            ],
            "text/plain": [
              "<IPython.core.display.HTML object>"
            ]
          },
          "metadata": {
            "tags": []
          }
        }
      ]
    },
    {
      "metadata": {
        "id": "IdD-j0XyaPHR",
        "colab_type": "text"
      },
      "cell_type": "markdown",
      "source": [
        "##Exercise 2\n",
        "\n",
        "<p>Compare orthogonal collocation on finite elements with 3 nodes with a numerical integrator (e.g. ODE15s in MATLAB or ODEINT in Python). Calculate the error at each of the solution points for the equation (same as for Exercise 1):\n",
        "</p>\n",
        "<div class='vspace'></div><pre> 5 dx/dt = -x<sup>2</sup> + u\n",
        "</pre><div class='vspace'></div><h4>Solution 2</h4>\n",
        "<div><img src='http://apmonitor.com/do/uploads/Main/collocation_compare.png' alt='' title='' /></div>\n",
        "<div><img src='http://apmonitor.com/do/uploads/Main/download.png' alt='' title='' /> <a class='urllink' href='http://apmonitor.com/do/uploads/Main/collocation_compare.zip' rel='nofollow'>Collocation Solution (APM, ODE15s (MATLAB), ODEINT (Python))</a></div>"
      ]
    },
    {
      "metadata": {
        "id": "vSeIiZcYaLvd",
        "colab_type": "code",
        "outputId": "7718127d-e987-4860-f17a-0d1e03fb1081",
        "cellView": "form",
        "colab": {
          "base_uri": "https://localhost:8080/",
          "height": 336
        }
      },
      "cell_type": "code",
      "source": [
        "#@title\n",
        "%%html\n",
        "\n",
        "<iframe width=\"560\" height=\"315\" src=\"https://www.youtube.com/embed/8LmIqeuHGL0\" frameborder=\"0\" allowfullscreen></iframe>\n"
      ],
      "execution_count": 5,
      "outputs": [
        {
          "output_type": "display_data",
          "data": {
            "text/html": [
              "\n",
              "<iframe width=\"560\" height=\"315\" src=\"https://www.youtube.com/embed/8LmIqeuHGL0\" frameborder=\"0\" allowfullscreen></iframe>"
            ],
            "text/plain": [
              "<IPython.core.display.HTML object>"
            ]
          },
          "metadata": {
            "tags": []
          }
        }
      ]
    },
    {
      "metadata": {
        "id": "xegdIaAUakDe",
        "colab_type": "code",
        "cellView": "form",
        "outputId": "db75f936-97ff-4d08-a140-239eb702a49c",
        "colab": {
          "base_uri": "https://localhost:8080/",
          "height": 85
        }
      },
      "cell_type": "code",
      "source": [
        "#@markdown Solution ODEINT Python\n",
        "\n",
        "from scipy.integrate import odeint\n",
        "import numpy as np\n",
        "\n",
        "\n",
        "def collocation(x,t):\n",
        "    u = 4\n",
        "    xdot = -x**2 / 5.0 + u / 5.0\n",
        "\n",
        "    return xdot\n",
        "  \n",
        "y3 = odeint(collocation,[0],[0, 0.5, 1])\n",
        "\n",
        "print('ODEINT solution')\n",
        "print('x1 = ' + str(y3[1]))\n",
        "print('x2 = ' + str(y3[2]))\n",
        "print(' ')"
      ],
      "execution_count": 0,
      "outputs": [
        {
          "output_type": "stream",
          "text": [
            "ODEINT solution\n",
            "x1 = [0.3947507]\n",
            "x2 = [0.75989797]\n",
            " \n"
          ],
          "name": "stdout"
        }
      ]
    },
    {
      "metadata": {
        "id": "GQzZl3XDRXls",
        "colab_type": "code",
        "colab": {}
      },
      "cell_type": "code",
      "source": [
        ""
      ],
      "execution_count": 0,
      "outputs": []
    }
  ]
}